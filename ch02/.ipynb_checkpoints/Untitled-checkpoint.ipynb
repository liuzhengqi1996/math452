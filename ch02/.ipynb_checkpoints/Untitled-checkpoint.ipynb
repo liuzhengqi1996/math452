{
 "cells": [
  {
   "cell_type": "markdown",
   "id": "9ef46d6b",
   "metadata": {},
   "source": [
    "# Support vector machine\n",
    "There is a lot of work about SVM in literature , see\n",
    "[@drucker1997support; @ben2001support; @cortes1995support; @cristianini2000introduction]\n",
    "for example. Given a binary linearly separable classification dataset\n",
    "${(x_i,y_i)}_{i = 1}^N$, where\n",
    "$x_i\\in \\mathbb{R}^d, y_i\\in \\left \\{\\begin{pmatrix}1\\\\0\\end{pmatrix}, \\begin{pmatrix}0\\\\1\\end{pmatrix}\\right \\}$.\n",
    "We use $A_1,A_2$ to denote the data with label\n",
    "$\\begin{pmatrix}1\\\\0\\end{pmatrix}, \\begin{pmatrix}0\\\\1\\end{pmatrix}$,\n",
    "respectively. Our goal is to find a $\\theta = (w,b)$ where\n",
    "$w\\in \\mathbb{R}^{1\\times d}, b\\in \\mathbb{R}$ such that the hyperplane\n",
    "$H_{\\theta} = \\{x:wx + b = 0\\}$ can separate $A_1,A_2$."
   ]
  },
  {
   "cell_type": "code",
   "execution_count": null,
   "id": "5610620e",
   "metadata": {},
   "outputs": [],
   "source": []
  }
 ],
 "metadata": {
  "kernelspec": {
   "display_name": "Python 3 (ipykernel)",
   "language": "python",
   "name": "python3"
  },
  "language_info": {
   "codemirror_mode": {
    "name": "ipython",
    "version": 3
   },
   "file_extension": ".py",
   "mimetype": "text/x-python",
   "name": "python",
   "nbconvert_exporter": "python",
   "pygments_lexer": "ipython3",
   "version": "3.9.6"
  }
 },
 "nbformat": 4,
 "nbformat_minor": 5
}
