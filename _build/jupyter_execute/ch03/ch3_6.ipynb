{
 "cells": [
  {
   "cell_type": "markdown",
   "id": "9de070aa",
   "metadata": {},
   "source": [
    "# 3.6 Maximamum Likelihood\n",
    "\n",
    "If parameters $A$ and $b$ are known, for any data $x_1\\in \\mathbb{R}^n$,\n",
    "model gives softmax $\\left( Ax_1+b\\right)$\n",
    "\n",
    "$$\n",
    "    \\frac{1}{\\sum_{i=1}^{k} e^{\\vec{a_{i}}\\cdot x_{i}+b_{i}}} \n",
    "    \\left(\\begin{array}{c}e^{\\vec{a}_{1}\\cdot x_{1} +b_{1}} \\\\ \\vdots \\\\ e^{a_{k} \\cdot x_{1}+b_{k}}\\end{array}\\right)\n",
    "    =\n",
    "    \\left(\\begin{array}{c}\n",
    "    p(1)\n",
    "     \\\\ \\vdots \\\\ \n",
    "    p(k)\n",
    "    \\end{array}\\right)\n",
    "$$\n",
    "\n",
    "This means that the probability that the model \n",
    "    assigns to $l_{1}$ is\n",
    "\n",
    "$$\n",
    "    p(l)=\\frac{1}{\\sum_{i=1}^{k} e^{a_{i}\\cdot x_{i}+b_{i}}} \\cdot e^{\\vec{a}_{l} \\cdot x_{1}+b_{l}}\n",
    "$$\n",
    "\n",
    "Instead of considering this probability, we consider its negtive\n",
    "logarithm:\n",
    "\n",
    "$$\n",
    "    -\\log p(l)=\\log \\left(\\sum_{i=1}^{k} e^{a_{i} \\cdot x_{i}+b_{i}}\\right)-\\left(\\vec{a}_{l} \\cdot x_{1}+b_{l}\\right)\n",
    "$$\n",
    "\n",
    "Since data points are independent, so we take product of the probability\n",
    "which leads to the logistic regression loss. Logistic Regression Loss:\n",
    "\n",
    "$$\n",
    "    L_{D}(A, b)=\\sum_{(x, l) \\in D}\\left[\\log \\left(\\sum_{i=1}^{k} a_{i} \\cdot x+b_{i}\\right)-\\left(\\vec{a}_{l} \\cdot x+b_{l}\\right)\\right]\n",
    "$$\n",
    "\n",
    "We want to maximize the probability that the model assigns to $l$, that\n",
    "means we need to minimize $-\\log p(l)$. So we need to find\n",
    "\n",
    "$$\n",
    "    (A, b)=\\min _{A, b} L_{D}(A, b).\n",
    "$$"
   ]
  },
  {
   "cell_type": "code",
   "execution_count": null,
   "id": "acaa091c",
   "metadata": {},
   "outputs": [],
   "source": []
  }
 ],
 "metadata": {
  "kernelspec": {
   "display_name": "Python 3",
   "language": "python",
   "name": "python3"
  },
  "language_info": {
   "codemirror_mode": {
    "name": "ipython",
    "version": 3
   },
   "file_extension": ".py",
   "mimetype": "text/x-python",
   "name": "python",
   "nbconvert_exporter": "python",
   "pygments_lexer": "ipython3",
   "version": "3.8.8"
  }
 },
 "nbformat": 4,
 "nbformat_minor": 5
}