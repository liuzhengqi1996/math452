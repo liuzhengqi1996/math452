{
 "cells": [
  {
   "cell_type": "markdown",
   "id": "4f0e529f",
   "metadata": {},
   "source": [
    "# Intervals of Increase & Decrease"
   ]
  },
  {
   "cell_type": "code",
   "execution_count": 1,
   "id": "55442c39",
   "metadata": {
    "tags": [
     "remove-cell"
    ]
   },
   "outputs": [
    {
     "ename": "ModuleNotFoundError",
     "evalue": "No module named 'itikz'",
     "output_type": "error",
     "traceback": [
      "\u001b[0;31m---------------------------------------------------------------------------\u001b[0m",
      "\u001b[0;31mModuleNotFoundError\u001b[0m                       Traceback (most recent call last)",
      "\u001b[0;32m/var/folders/xz/fhb2zgq551315f5zf88k__ph0000gn/T/ipykernel_69749/3834793611.py\u001b[0m in \u001b[0;36m<module>\u001b[0;34m\u001b[0m\n\u001b[0;32m----> 1\u001b[0;31m \u001b[0mget_ipython\u001b[0m\u001b[0;34m(\u001b[0m\u001b[0;34m)\u001b[0m\u001b[0;34m.\u001b[0m\u001b[0mrun_line_magic\u001b[0m\u001b[0;34m(\u001b[0m\u001b[0;34m'load_ext'\u001b[0m\u001b[0;34m,\u001b[0m \u001b[0;34m'itikz'\u001b[0m\u001b[0;34m)\u001b[0m\u001b[0;34m\u001b[0m\u001b[0;34m\u001b[0m\u001b[0m\n\u001b[0m",
      "\u001b[0;32m/anaconda3/envs/myenv/lib/python3.9/site-packages/IPython/core/interactiveshell.py\u001b[0m in \u001b[0;36mrun_line_magic\u001b[0;34m(self, magic_name, line, _stack_depth)\u001b[0m\n\u001b[1;32m   2346\u001b[0m                 \u001b[0mkwargs\u001b[0m\u001b[0;34m[\u001b[0m\u001b[0;34m'local_ns'\u001b[0m\u001b[0;34m]\u001b[0m \u001b[0;34m=\u001b[0m \u001b[0mself\u001b[0m\u001b[0;34m.\u001b[0m\u001b[0mget_local_scope\u001b[0m\u001b[0;34m(\u001b[0m\u001b[0mstack_depth\u001b[0m\u001b[0;34m)\u001b[0m\u001b[0;34m\u001b[0m\u001b[0;34m\u001b[0m\u001b[0m\n\u001b[1;32m   2347\u001b[0m             \u001b[0;32mwith\u001b[0m \u001b[0mself\u001b[0m\u001b[0;34m.\u001b[0m\u001b[0mbuiltin_trap\u001b[0m\u001b[0;34m:\u001b[0m\u001b[0;34m\u001b[0m\u001b[0;34m\u001b[0m\u001b[0m\n\u001b[0;32m-> 2348\u001b[0;31m                 \u001b[0mresult\u001b[0m \u001b[0;34m=\u001b[0m \u001b[0mfn\u001b[0m\u001b[0;34m(\u001b[0m\u001b[0;34m*\u001b[0m\u001b[0margs\u001b[0m\u001b[0;34m,\u001b[0m \u001b[0;34m**\u001b[0m\u001b[0mkwargs\u001b[0m\u001b[0;34m)\u001b[0m\u001b[0;34m\u001b[0m\u001b[0;34m\u001b[0m\u001b[0m\n\u001b[0m\u001b[1;32m   2349\u001b[0m             \u001b[0;32mreturn\u001b[0m \u001b[0mresult\u001b[0m\u001b[0;34m\u001b[0m\u001b[0;34m\u001b[0m\u001b[0m\n\u001b[1;32m   2350\u001b[0m \u001b[0;34m\u001b[0m\u001b[0m\n",
      "\u001b[0;32m/anaconda3/envs/myenv/lib/python3.9/site-packages/decorator.py\u001b[0m in \u001b[0;36mfun\u001b[0;34m(*args, **kw)\u001b[0m\n\u001b[1;32m    230\u001b[0m             \u001b[0;32mif\u001b[0m \u001b[0;32mnot\u001b[0m \u001b[0mkwsyntax\u001b[0m\u001b[0;34m:\u001b[0m\u001b[0;34m\u001b[0m\u001b[0;34m\u001b[0m\u001b[0m\n\u001b[1;32m    231\u001b[0m                 \u001b[0margs\u001b[0m\u001b[0;34m,\u001b[0m \u001b[0mkw\u001b[0m \u001b[0;34m=\u001b[0m \u001b[0mfix\u001b[0m\u001b[0;34m(\u001b[0m\u001b[0margs\u001b[0m\u001b[0;34m,\u001b[0m \u001b[0mkw\u001b[0m\u001b[0;34m,\u001b[0m \u001b[0msig\u001b[0m\u001b[0;34m)\u001b[0m\u001b[0;34m\u001b[0m\u001b[0;34m\u001b[0m\u001b[0m\n\u001b[0;32m--> 232\u001b[0;31m             \u001b[0;32mreturn\u001b[0m \u001b[0mcaller\u001b[0m\u001b[0;34m(\u001b[0m\u001b[0mfunc\u001b[0m\u001b[0;34m,\u001b[0m \u001b[0;34m*\u001b[0m\u001b[0;34m(\u001b[0m\u001b[0mextras\u001b[0m \u001b[0;34m+\u001b[0m \u001b[0margs\u001b[0m\u001b[0;34m)\u001b[0m\u001b[0;34m,\u001b[0m \u001b[0;34m**\u001b[0m\u001b[0mkw\u001b[0m\u001b[0;34m)\u001b[0m\u001b[0;34m\u001b[0m\u001b[0;34m\u001b[0m\u001b[0m\n\u001b[0m\u001b[1;32m    233\u001b[0m     \u001b[0mfun\u001b[0m\u001b[0;34m.\u001b[0m\u001b[0m__name__\u001b[0m \u001b[0;34m=\u001b[0m \u001b[0mfunc\u001b[0m\u001b[0;34m.\u001b[0m\u001b[0m__name__\u001b[0m\u001b[0;34m\u001b[0m\u001b[0;34m\u001b[0m\u001b[0m\n\u001b[1;32m    234\u001b[0m     \u001b[0mfun\u001b[0m\u001b[0;34m.\u001b[0m\u001b[0m__doc__\u001b[0m \u001b[0;34m=\u001b[0m \u001b[0mfunc\u001b[0m\u001b[0;34m.\u001b[0m\u001b[0m__doc__\u001b[0m\u001b[0;34m\u001b[0m\u001b[0;34m\u001b[0m\u001b[0m\n",
      "\u001b[0;32m/anaconda3/envs/myenv/lib/python3.9/site-packages/IPython/core/magic.py\u001b[0m in \u001b[0;36m<lambda>\u001b[0;34m(f, *a, **k)\u001b[0m\n\u001b[1;32m    185\u001b[0m     \u001b[0;31m# but it's overkill for just that one bit of state.\u001b[0m\u001b[0;34m\u001b[0m\u001b[0;34m\u001b[0m\u001b[0;34m\u001b[0m\u001b[0m\n\u001b[1;32m    186\u001b[0m     \u001b[0;32mdef\u001b[0m \u001b[0mmagic_deco\u001b[0m\u001b[0;34m(\u001b[0m\u001b[0marg\u001b[0m\u001b[0;34m)\u001b[0m\u001b[0;34m:\u001b[0m\u001b[0;34m\u001b[0m\u001b[0;34m\u001b[0m\u001b[0m\n\u001b[0;32m--> 187\u001b[0;31m         \u001b[0mcall\u001b[0m \u001b[0;34m=\u001b[0m \u001b[0;32mlambda\u001b[0m \u001b[0mf\u001b[0m\u001b[0;34m,\u001b[0m \u001b[0;34m*\u001b[0m\u001b[0ma\u001b[0m\u001b[0;34m,\u001b[0m \u001b[0;34m**\u001b[0m\u001b[0mk\u001b[0m\u001b[0;34m:\u001b[0m \u001b[0mf\u001b[0m\u001b[0;34m(\u001b[0m\u001b[0;34m*\u001b[0m\u001b[0ma\u001b[0m\u001b[0;34m,\u001b[0m \u001b[0;34m**\u001b[0m\u001b[0mk\u001b[0m\u001b[0;34m)\u001b[0m\u001b[0;34m\u001b[0m\u001b[0;34m\u001b[0m\u001b[0m\n\u001b[0m\u001b[1;32m    188\u001b[0m \u001b[0;34m\u001b[0m\u001b[0m\n\u001b[1;32m    189\u001b[0m         \u001b[0;32mif\u001b[0m \u001b[0mcallable\u001b[0m\u001b[0;34m(\u001b[0m\u001b[0marg\u001b[0m\u001b[0;34m)\u001b[0m\u001b[0;34m:\u001b[0m\u001b[0;34m\u001b[0m\u001b[0;34m\u001b[0m\u001b[0m\n",
      "\u001b[0;32m/anaconda3/envs/myenv/lib/python3.9/site-packages/IPython/core/magics/extension.py\u001b[0m in \u001b[0;36mload_ext\u001b[0;34m(self, module_str)\u001b[0m\n\u001b[1;32m     31\u001b[0m         \u001b[0;32mif\u001b[0m \u001b[0;32mnot\u001b[0m \u001b[0mmodule_str\u001b[0m\u001b[0;34m:\u001b[0m\u001b[0;34m\u001b[0m\u001b[0;34m\u001b[0m\u001b[0m\n\u001b[1;32m     32\u001b[0m             \u001b[0;32mraise\u001b[0m \u001b[0mUsageError\u001b[0m\u001b[0;34m(\u001b[0m\u001b[0;34m'Missing module name.'\u001b[0m\u001b[0;34m)\u001b[0m\u001b[0;34m\u001b[0m\u001b[0;34m\u001b[0m\u001b[0m\n\u001b[0;32m---> 33\u001b[0;31m         \u001b[0mres\u001b[0m \u001b[0;34m=\u001b[0m \u001b[0mself\u001b[0m\u001b[0;34m.\u001b[0m\u001b[0mshell\u001b[0m\u001b[0;34m.\u001b[0m\u001b[0mextension_manager\u001b[0m\u001b[0;34m.\u001b[0m\u001b[0mload_extension\u001b[0m\u001b[0;34m(\u001b[0m\u001b[0mmodule_str\u001b[0m\u001b[0;34m)\u001b[0m\u001b[0;34m\u001b[0m\u001b[0;34m\u001b[0m\u001b[0m\n\u001b[0m\u001b[1;32m     34\u001b[0m \u001b[0;34m\u001b[0m\u001b[0m\n\u001b[1;32m     35\u001b[0m         \u001b[0;32mif\u001b[0m \u001b[0mres\u001b[0m \u001b[0;34m==\u001b[0m \u001b[0;34m'already loaded'\u001b[0m\u001b[0;34m:\u001b[0m\u001b[0;34m\u001b[0m\u001b[0;34m\u001b[0m\u001b[0m\n",
      "\u001b[0;32m/anaconda3/envs/myenv/lib/python3.9/site-packages/IPython/core/extensions.py\u001b[0m in \u001b[0;36mload_extension\u001b[0;34m(self, module_str)\u001b[0m\n\u001b[1;32m     78\u001b[0m             \u001b[0;32mif\u001b[0m \u001b[0mmodule_str\u001b[0m \u001b[0;32mnot\u001b[0m \u001b[0;32min\u001b[0m \u001b[0msys\u001b[0m\u001b[0;34m.\u001b[0m\u001b[0mmodules\u001b[0m\u001b[0;34m:\u001b[0m\u001b[0;34m\u001b[0m\u001b[0;34m\u001b[0m\u001b[0m\n\u001b[1;32m     79\u001b[0m                 \u001b[0;32mwith\u001b[0m \u001b[0mprepended_to_syspath\u001b[0m\u001b[0;34m(\u001b[0m\u001b[0mself\u001b[0m\u001b[0;34m.\u001b[0m\u001b[0mipython_extension_dir\u001b[0m\u001b[0;34m)\u001b[0m\u001b[0;34m:\u001b[0m\u001b[0;34m\u001b[0m\u001b[0;34m\u001b[0m\u001b[0m\n\u001b[0;32m---> 80\u001b[0;31m                     \u001b[0mmod\u001b[0m \u001b[0;34m=\u001b[0m \u001b[0mimport_module\u001b[0m\u001b[0;34m(\u001b[0m\u001b[0mmodule_str\u001b[0m\u001b[0;34m)\u001b[0m\u001b[0;34m\u001b[0m\u001b[0;34m\u001b[0m\u001b[0m\n\u001b[0m\u001b[1;32m     81\u001b[0m                     \u001b[0;32mif\u001b[0m \u001b[0mmod\u001b[0m\u001b[0;34m.\u001b[0m\u001b[0m__file__\u001b[0m\u001b[0;34m.\u001b[0m\u001b[0mstartswith\u001b[0m\u001b[0;34m(\u001b[0m\u001b[0mself\u001b[0m\u001b[0;34m.\u001b[0m\u001b[0mipython_extension_dir\u001b[0m\u001b[0;34m)\u001b[0m\u001b[0;34m:\u001b[0m\u001b[0;34m\u001b[0m\u001b[0;34m\u001b[0m\u001b[0m\n\u001b[1;32m     82\u001b[0m                         print((\"Loading extensions from {dir} is deprecated. \"\n",
      "\u001b[0;32m/anaconda3/envs/myenv/lib/python3.9/importlib/__init__.py\u001b[0m in \u001b[0;36mimport_module\u001b[0;34m(name, package)\u001b[0m\n\u001b[1;32m    125\u001b[0m                 \u001b[0;32mbreak\u001b[0m\u001b[0;34m\u001b[0m\u001b[0;34m\u001b[0m\u001b[0m\n\u001b[1;32m    126\u001b[0m             \u001b[0mlevel\u001b[0m \u001b[0;34m+=\u001b[0m \u001b[0;36m1\u001b[0m\u001b[0;34m\u001b[0m\u001b[0;34m\u001b[0m\u001b[0m\n\u001b[0;32m--> 127\u001b[0;31m     \u001b[0;32mreturn\u001b[0m \u001b[0m_bootstrap\u001b[0m\u001b[0;34m.\u001b[0m\u001b[0m_gcd_import\u001b[0m\u001b[0;34m(\u001b[0m\u001b[0mname\u001b[0m\u001b[0;34m[\u001b[0m\u001b[0mlevel\u001b[0m\u001b[0;34m:\u001b[0m\u001b[0;34m]\u001b[0m\u001b[0;34m,\u001b[0m \u001b[0mpackage\u001b[0m\u001b[0;34m,\u001b[0m \u001b[0mlevel\u001b[0m\u001b[0;34m)\u001b[0m\u001b[0;34m\u001b[0m\u001b[0;34m\u001b[0m\u001b[0m\n\u001b[0m\u001b[1;32m    128\u001b[0m \u001b[0;34m\u001b[0m\u001b[0m\n\u001b[1;32m    129\u001b[0m \u001b[0;34m\u001b[0m\u001b[0m\n",
      "\u001b[0;32m/anaconda3/envs/myenv/lib/python3.9/importlib/_bootstrap.py\u001b[0m in \u001b[0;36m_gcd_import\u001b[0;34m(name, package, level)\u001b[0m\n",
      "\u001b[0;32m/anaconda3/envs/myenv/lib/python3.9/importlib/_bootstrap.py\u001b[0m in \u001b[0;36m_find_and_load\u001b[0;34m(name, import_)\u001b[0m\n",
      "\u001b[0;32m/anaconda3/envs/myenv/lib/python3.9/importlib/_bootstrap.py\u001b[0m in \u001b[0;36m_find_and_load_unlocked\u001b[0;34m(name, import_)\u001b[0m\n",
      "\u001b[0;31mModuleNotFoundError\u001b[0m: No module named 'itikz'"
     ]
    }
   ],
   "source": [
    "%load_ext itikz"
   ]
  },
  {
   "cell_type": "markdown",
   "id": "31df7dbb",
   "metadata": {},
   "source": [
    "```{admonition} Definition\n",
    ":class: info\n",
    "\n",
    "A function $f$ is **increasing** on the interval $(a,b)$ if for any two numbers $c$ and $d$ in $(a,b)$, $f(c) < f(d)$ whenever $c<d$.\n",
    "```"
   ]
  },
  {
   "cell_type": "code",
   "execution_count": null,
   "id": "068e054f",
   "metadata": {
    "tags": [
     "remove-input"
    ]
   },
   "outputs": [],
   "source": [
    "%%itikz\n",
    "\\documentclass[tikz]{standalone}\n",
    "\\begin{document}\n",
    "\\begin{tikzpicture}[scale=2.0]\n",
    "\\tikzstyle{every node}=[font=\\large]\n",
    "\\draw[white,fill=white] (0,-0.2) rectangle (3,3.8);\n",
    "\n",
    "% axis\n",
    "\\draw[<->] (0,3) |- (3,0);\n",
    "     \n",
    "% dash lines\n",
    "\\draw[dashed,red] (0,1.04) node[left] {\\textcolor{black}{$f(c)$}} -| (1.2,0);\n",
    "\\draw[dashed,red] (0,1.94) node[left] {\\textcolor{black}{$f(d)$}} -| (1.8,0);\n",
    "\n",
    "% draw curve\n",
    "\\draw [ultra thick] (0.5,0.5) cos (1.5,1.5) sin (2.5,2.5);\n",
    "\n",
    "% draw points\n",
    "\\draw [black,fill=red] (1.2,1.04) circle (2.0pt);\n",
    "\\draw [black,fill=red] (1.8,1.94) circle (2.0pt);\n",
    "\n",
    "\\node[rotate=90] at (-0.5,1.5) {$<$};\n",
    "\\node[above] at (0.5,-0.6) {$a$};\n",
    "\\node[above] at (1.2,-0.6) {$c$};\n",
    "\\node[above] at (1.5,-0.6) {$<$};\n",
    "\\node[above] at (1.8,-0.6) {$d$};\n",
    "\\node[above] at (2.5,-0.6) {$b$};\n",
    "\n",
    "% tick marks\n",
    "\\draw [thick] (0.5 cm,2pt) -- (0.5 cm,-2pt);\n",
    "\\draw [thick] (1.2 cm,2pt) -- (1.2 cm,-2pt);\n",
    "\\draw [thick] (1.8 cm,2pt) -- (1.8 cm,-2pt);\n",
    "\\draw [thick] (2.5 cm,2pt) -- (2.5 cm,-2pt);\n",
    "\\end{tikzpicture}\n",
    "\\end{document}"
   ]
  },
  {
   "cell_type": "markdown",
   "id": "9ae4bac8",
   "metadata": {},
   "source": [
    "```{admonition} Theorem\n",
    ":class: warning\n",
    "\n",
    "If $f'(x) > 0$ for all $x$ in the interval $(a,b)$, then $f$ is increasing on $(a,b)$.\n",
    "```\n",
    "\n",
    "\n",
    "```{admonition} Definition\n",
    ":class: info\n",
    "\n",
    "A function $f$ is decreasing on the interval $(a,b)$ if for any two numbers $c$ and $d$ in $(a,b)$, $f(c) > f(d)$ whenever $c<d$.\n",
    "```"
   ]
  },
  {
   "cell_type": "code",
   "execution_count": null,
   "id": "3a0e9b4e",
   "metadata": {
    "tags": [
     "remove-input"
    ]
   },
   "outputs": [],
   "source": [
    "%%itikz\n",
    "\\documentclass[tikz]{standalone}\n",
    "\\begin{document}\n",
    "\\begin{tikzpicture}[scale=2.0]\n",
    "\\tikzstyle{every node}=[font=\\large]\n",
    "\\draw[white,fill=white] (0,-0.2) rectangle (3,3.8);\n",
    "\n",
    "% axis\n",
    "\\draw[<->] (0,3) |- (3,0);\n",
    "     \n",
    "% dash lines\n",
    "\\draw[dashed,red] (0,1.94) node[left] {\\textcolor{black}{$f(c)$}} -| (1.2,0);\n",
    "\\draw[dashed,red] (0,1.04) node[left] {\\textcolor{black}{$f(d)$}} -| (1.8,0);\n",
    "\n",
    "% draw curve\n",
    "\\draw [ultra thick] (0.5,2.5) cos (1.5,1.5) sin (2.5,0.5);\n",
    "\n",
    "% draw points\n",
    "\\draw [black,fill=red] (1.2,1.94) circle (2.0pt);\n",
    "\\draw [black,fill=red] (1.8,1.04) circle (2.0pt);\n",
    "\n",
    "\\node[rotate=90] at (-0.5,1.5) {$<$};\n",
    "\\node[above] at (0.5,-0.6) {$a$};\n",
    "\\node[above] at (1.2,-0.6) {$c$};\n",
    "\\node[above] at (1.5,-0.6) {$<$};\n",
    "\\node[above] at (1.8,-0.6) {$d$};\n",
    "\\node[above] at (2.5,-0.6) {$b$};\n",
    "\n",
    "% tick marks\n",
    "\\draw [thick] (0.5 cm,2pt) -- (0.5 cm,-2pt);\n",
    "\\draw [thick] (1.2 cm,2pt) -- (1.2 cm,-2pt);\n",
    "\\draw [thick] (1.8 cm,2pt) -- (1.8 cm,-2pt);\n",
    "\\draw [thick] (2.5 cm,2pt) -- (2.5 cm,-2pt);\n",
    "\\end{tikzpicture}\n",
    "\\end{document}"
   ]
  },
  {
   "cell_type": "markdown",
   "id": "5cddb6a1",
   "metadata": {},
   "source": [
    "```{admonition} Theorem\n",
    ":class: warning\n",
    "\n",
    "If $f'(x) < 0$ for all $x$ in the interval $(a,b)$, then $f$ is decreasing on $(a,b)$.\n",
    "```\n",
    "\n",
    "\n",
    "\n",
    "## Example 1\n",
    "\n",
    "The following is the graph of a continuous function that is increasing on the intervals $(1,2)$ and $(4,6)$ and decreasing on the intervals $(2,4)$ and $(6,7)$."
   ]
  },
  {
   "cell_type": "code",
   "execution_count": null,
   "id": "1c6d3bd9",
   "metadata": {
    "tags": [
     "remove-input"
    ]
   },
   "outputs": [],
   "source": [
    "%%itikz\n",
    "\\documentclass[tikz]{standalone}\n",
    "\\begin{document}\n",
    "\\begin{tikzpicture}[scale=2.0]\n",
    "\\tikzstyle{every node}=[font=\\large]\n",
    "\n",
    "\\draw[white,fill=white] (0,0) rectangle (8,4);\n",
    " \\draw[very thin,color=darkgray,step=1.0] (0,0) grid (8,4);\n",
    " \\draw[very thin,color=lightgray,step=0.25] (0,0) grid (8,4);\n",
    "\n",
    "\\draw[->] (0,0) -- (8,0) node[below] {$x$};\n",
    "\\draw[->] (0,0) -- (0,4) node[right] {$y$};\n",
    "     \n",
    "% draw curve\n",
    "\\draw [ultra thick] \n",
    "(1,1.5) sin (2,2.5) cos (3,1.5) sin (4,0.5) cos (6,3.5) sin (7,1.5);\n",
    "\n",
    "\n",
    "% tick marks\n",
    "\\foreach \\x in {1,...,7} \n",
    "\t\\draw [thick] (\\x cm,2pt) -- (\\x cm,-2pt) node[below] {$\\x$};\n",
    "\\end{tikzpicture}\n",
    "\\end{document}"
   ]
  },
  {
   "cell_type": "markdown",
   "id": "c68c5064",
   "metadata": {},
   "source": [
    "## Finding Intervals of Increase/Decrease using the Derivative\n",
    "\n",
    "```{admonition} Follow these steps\n",
    ":class: warning\n",
    "\n",
    "1. Find all values of $x$ such that $f'(x) = 0$ or $f'(x)$ does not exist. <br><br>\n",
    "2. Break up domain of $f$ into open intervals between values found in Step 1. <br><br>\n",
    "3. Evaluate $f'(x)$ at one value, $c$, from each interval, $(a,b)$, found in Step 2. <br>\n",
    "    - If $f'(c) > 0$, then $f$ is increasing on $(a,b)$.\n",
    "    - If $f'(c) < 0$, then $f$ is decreasing on $(a,b)$.\n",
    "```\n",
    "\n",
    "(curvesketching:increasedecrease:example2)=\n",
    "## Example 2\n",
    "\n",
    "Determine the intervals where \n",
    "\n",
    "$$f(x) = x^3 + 3 x^2 - 9 x -8$$\n",
    "\n",
    "is increasing and where it is decreasing.\n",
    "\n",
    "```{dropdown} **Step 1:** Compute $f'(x)$.\n",
    "\n",
    "$$f'(x) = 3 x^2 + 6 x - 9$$ \n",
    "```\n",
    "\n",
    "```{dropdown} **Step 2:** Find all values of $x$ such that $f'(x) = 0$.\n",
    "\n",
    "\\begin{align*}\n",
    "f'(x) \n",
    "&= 3 (x^2 + 2 x - 3) \\\\\n",
    "&= 3 (x + 3)(x - 1)   \n",
    "\\end{align*}\n",
    "which is equal to zero when $x=-3$ and $x=1$.  \n",
    "```\n",
    "\n",
    "```{dropdown} **Step 3:** Find all values of $x$ such that $f'(x)$ does not exist.\n",
    "\n",
    "Notice that $f'(x)$ is defined for all real numbers.\n",
    "```\n",
    "\n",
    "```{dropdown} **Step 4:** Break up the domain of $f$ into subintervals based on the values found in Steps 2 and 3.\n",
    "\n",
    "Since we found $x=-3$ and $x=1$ to be the only values where $f'(x)$ could change sign, we break up the domain of $f$ (which is $(-\\infty,\\infty)$) into the following subintervals:\n",
    "\n",
    "$$(-\\infty,-3), ~(-3,1), ~\\hbox{ and }~  (1,\\infty)$$\n",
    "```\n",
    "\n",
    "```{dropdown} **Step 5:** Plug one number from each subinterval into $f'(x)$  to determine the sign of $f'(x)$.\n",
    "\n",
    "$\\mathbf{(-\\infty,-3)}$: Plug $x=-4$ into $f'(x)$.\n",
    "Since $f'(-4) = 3(-1)(-5) > 0$, \n",
    "$f$ is increasing on $(-\\infty,-3)$.\n",
    "\n",
    "\n",
    "$\\mathbf{(-3,1)}$: Plug $x=0$ into $f'(x)$.\n",
    "Since $f'(0) = 3(3)(-1) < 0$, \n",
    "$f$ is decreasing on $(-3,1)$.\n",
    "\n",
    "$\\mathbf{(1,\\infty)}$:  Plug $x=2$ into $f'(x)$.\n",
    "Since $f'(2) = 3(5)(1) > 0$,  \n",
    "$f$ is increasing on $(1,\\infty)$.\n",
    "```\n",
    "\n",
    "\n",
    "## Graphical representation of sign analysis\n",
    "\n",
    "We will typically represent the above sign analysis by drawing a number line, marking off the values in the domain of $f$ such that $f'(x) = 0$ or $f'(x)$ does not exist, and then putting a $+$ or $-$ above each interval according to the sign of $f'(c)$, where $c$ is the test value taken from the corresponding interval.  The number line associated with the calculations in {ref}`curvesketching:increasedecrease:example2` is shown below.\n",
    "\n",
    "```{image} ../images/pic_curvesketching_intervalsignanalysis.png\n",
    ":alt: graphical representation of sign analysis on the number line\n",
    ":width: 600px\n",
    ":align: center\n",
    "```"
   ]
  }
 ],
 "metadata": {
  "jupytext": {
   "formats": "ipynb,md:myst",
   "text_representation": {
    "extension": ".md",
    "format_name": "myst",
    "format_version": 0.13,
    "jupytext_version": "1.10.3"
   }
  },
  "kernelspec": {
   "display_name": "Python 3.9.4 64-bit",
   "language": "python",
   "name": "python3"
  },
  "language_info": {
   "codemirror_mode": {
    "name": "ipython",
    "version": 3
   },
   "file_extension": ".py",
   "mimetype": "text/x-python",
   "name": "python",
   "nbconvert_exporter": "python",
   "pygments_lexer": "ipython3",
   "version": "3.9.6"
  },
  "source_map": [
   13,
   16,
   20,
   28,
   66,
   81,
   119,
   133,
   159
  ]
 },
 "nbformat": 4,
 "nbformat_minor": 5
}