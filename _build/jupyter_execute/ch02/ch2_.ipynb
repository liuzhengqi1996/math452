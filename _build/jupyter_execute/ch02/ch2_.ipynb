{
 "cells": [
  {
   "cell_type": "markdown",
   "id": "cbce3ce8",
   "metadata": {},
   "source": [
    "# Linear Machine Learning Models\n",
    "In this chapter, we will mainly consider two statistic models, namely\n",
    "logistic regression for linearly separable sets, and support vector\n",
    "machine (SVM). These two linear models form the foundation of deep\n",
    "learning, since the final fully connected output layer of a deep neural\n",
    "network is often given by one of these two linear classifiers. One main\n",
    "objective in this chapter is that these linear classification models can\n",
    "be used to classify a collection of linearly separable classes.\n",
    "\n",
    "In the presentation of this chapter, we treat both logistic regression\n",
    "and support vector machine as pure mathematical techniques for linearly\n",
    "separable sets. In the later chapters, we will relate these techniques\n",
    "in the context of machine learning, especially deep learning."
   ]
  },
  {
   "cell_type": "code",
   "execution_count": null,
   "id": "fdd0fc0a",
   "metadata": {},
   "outputs": [],
   "source": []
  }
 ],
 "metadata": {
  "kernelspec": {
   "display_name": "Python 3 (ipykernel)",
   "language": "python",
   "name": "python3"
  },
  "language_info": {
   "codemirror_mode": {
    "name": "ipython",
    "version": 3
   },
   "file_extension": ".py",
   "mimetype": "text/x-python",
   "name": "python",
   "nbconvert_exporter": "python",
   "pygments_lexer": "ipython3",
   "version": "3.9.6"
  }
 },
 "nbformat": 4,
 "nbformat_minor": 5
}