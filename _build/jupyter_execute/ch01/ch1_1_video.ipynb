{
 "cells": [
  {
   "cell_type": "markdown",
   "metadata": {},
   "source": [
    "# A basic machine learning problem: image classification"
   ]
  },
  {
   "cell_type": "code",
   "execution_count": 1,
   "metadata": {
    "tags": [
     "hide-input"
    ]
   },
   "outputs": [
    {
     "data": {
      "text/html": [
       "\n",
       "<iframe\n",
       "    width=\"800\"\n",
       "    height=\"500\"\n",
       "    src=\"https://cdnapisec.kaltura.com/p/2356971/sp/235697100/embedIframeJs/uiconf_id/41416911/partner_id/2356971?iframeembed=true&playerId=kaltura_player&entry_id=1_z2ldie17&flashvars[streamerType]=auto&amp;flashvars[localizationCode]=en&amp;flashvars[leadWithHTML5]=true&amp;flashvars[sideBarContainer.plugin]=true&amp;flashvars[sideBarContainer.position]=left&amp;flashvars[sideBarContainer.clickToClose]=true&amp;flashvars[chapters.plugin]=true&amp;flashvars[chapters.layout]=vertical&amp;flashvars[chapters.thumbnailRotator]=false&amp;flashvars[streamSelector.plugin]=true&amp;flashvars[EmbedPlayer.SpinnerTarget]=videoHolder&amp;flashvars[dualScreen.plugin]=true&amp;flashvars[hotspots.plugin]=1&amp;flashvars[mediaProxy.mediaPlayFrom]=0&amp;flashvars[mediaProxy.mediaPlayTo]=600&amp;flashvars[Kaltura.addCrossoriginToIframe]=true&amp;&wid=1_27z0chwl\"\n",
       "    frameborder=\"0\"\n",
       "    allowfullscreen\n",
       "></iframe>\n"
      ],
      "text/plain": [
       "<IPython.lib.display.IFrame at 0x107450dc0>"
      ]
     },
     "execution_count": 1,
     "metadata": {},
     "output_type": "execute_result"
    }
   ],
   "source": [
    "from IPython.display import IFrame\n",
    "\n",
    "IFrame(src=\"https://cdnapisec.kaltura.com/p/2356971/sp/235697100/embedIframeJs/uiconf_id/41416911/partner_id/2356971?iframeembed=true&playerId=kaltura_player&entry_id=1_z2ldie17&flashvars[streamerType]=auto&amp;flashvars[localizationCode]=en&amp;flashvars[leadWithHTML5]=true&amp;flashvars[sideBarContainer.plugin]=true&amp;flashvars[sideBarContainer.position]=left&amp;flashvars[sideBarContainer.clickToClose]=true&amp;flashvars[chapters.plugin]=true&amp;flashvars[chapters.layout]=vertical&amp;flashvars[chapters.thumbnailRotator]=false&amp;flashvars[streamSelector.plugin]=true&amp;flashvars[EmbedPlayer.SpinnerTarget]=videoHolder&amp;flashvars[dualScreen.plugin]=true&amp;flashvars[hotspots.plugin]=1&amp;flashvars[mediaProxy.mediaPlayFrom]=0&amp;flashvars[mediaProxy.mediaPlayTo]=600&amp;flashvars[Kaltura.addCrossoriginToIframe]=true&amp;&wid=1_27z0chwl\" ,width='800', height='500')\n",
    "\n"
   ]
  },
  {
   "cell_type": "markdown",
   "metadata": {},
   "source": [
    "## Can a machine (function) tell the difference ?\n",
    "```{image} /figures/cat-dog-1.png\n",
    ":name: label\n",
    ":height: 150px\n",
    "```\n",
    " Mathematically, gray-scale image can be just taken as matrix in $R^{n_0\\times n_0}$.\n",
    " ```{image} /figures/gray-1.png\n",
    ":height: 250px\n",
    "```\n",
    " The next figure shows different result from: human vision and computer representation: \n",
    " ```{image} /figures/ImagePixels.png\n",
    ":name: label\n",
    ":height: 150px\n",
    "```\n",
    " An image is just a big grid of numbers between [0,255]\n",
    "  e.g. $800 \\times 600 \\times 3$ (3 channels RGB)\n",
    "\n",
    " Futhermore, color image can be taken as 3D tensor (matrix with 3 channel(RGB) ) in $R^{n_0\\times n_0 \\times 3}$.\n",
    " ```{image} /figures/corlor-1.png\n",
    ":name: label\n",
    ":height: 150px\n",
    "```"
   ]
  },
  {
   "cell_type": "markdown",
   "metadata": {},
   "source": [
    "## Supervised learning\n",
    "Then, let us think about the general supervised learning case.\n",
    "\n",
    " Each image = a big vector of pixel values\n",
    "\n",
    " - $d = 1280\\times 720 \\times 3$(width $\\times$ height $\\times$ RGB channel) \n",
    " \n",
    "\n",
    "\n",
    "3 different sets of points in $\\mathbb{R}^d$, are they separable?\n",
    "```{image} /figures/cat-dog-2.png\n",
    ":height: 250px\n",
    "```\n",
    "```{image} /figures/cat-dog-3.png\n",
    ":height: 250px\n",
    "```\n",
    "\n",
    "- Mathematical problem\n",
    "Find $f(\\cdot; \\theta): \\mathbb{R}^d \\to \\mathbb{R}^3$ such that: \n",
    "        \n",
    "$f(cat,\\theta) \\approx \\begin{pmatrix}\n",
    "\t1\\\\ 0 \\\\ 0 \n",
    "\t\\end{pmatrix} $\n",
    "    \n",
    "$f(dog,\\theta)\\approx \\begin{pmatrix}\n",
    "\t0\\\\ 1 \\\\ 0 \n",
    "\t\\end{pmatrix} \n",
    "    $\n",
    "    \n",
    "$\n",
    "f(rabbit,\\theta)\n",
    "\\approx \n",
    "\t\\begin{pmatrix}\n",
    "\t0\\\\ 0 \\\\ 1\n",
    "\t\\end{pmatrix} \n",
    "$\n",
    "- Function interpolation\n",
    "- Data fitting\n",
    "\n",
    "\n",
    " "
   ]
  },
  {
   "cell_type": "markdown",
   "metadata": {},
   "source": [
    "## Formulate “learning”\n",
    "- Data: $\\{x_j, y_j\\}_{j=1}^N$\n",
    "- Find $f^*$ in some function class s.t. $f^*(x_j) \\approx y_j$.\n",
    "- Mathematically, solve the optimization problem by parameterizing the abstract function class\n",
    "$\n",
    "\t\\min_{\\theta} \\mathcal L(\\theta)\n",
    "$\n",
    "\n",
    "where\n",
    "$\n",
    "\t\t\\mathcal L( \\theta):=\n",
    "\t\t{\\mathbb E}_{(x,y)\\sim \\mathcal D}[\\ell(f(x;  \\theta), y)]\\approx L( \\theta) :=\n",
    "\t\t\\frac{1}{N} \\sum_{j=1}^N\\ell(y_j, f(x_j;  \\theta))\n",
    "$\n",
    "\n",
    "Here\n",
    "$\n",
    "\\ell(y_j,f(x_j;  \\theta))\n",
    "$ \n",
    "is a  general distance between real label $y_j$ and predicted label $f(x_j;\\theta)$\n",
    "\n",
    "Two commonly used distances are \n",
    "- $l^2$ distance: \n",
    "$\n",
    "\t\t\\ell(y_j,f(x_j; \\theta)) = \\|y_j - f(x_j; \\theta)\\|^2.\n",
    "$\t\t\n",
    "- KL-divergence distance:\n",
    "$\n",
    "\\ell(y_j, f(x_j;  \\theta)) = \\sum_{i=1}^k [y_j]_i \\log\\frac{[y_j]_i }{[f(x_j; \\theta)]_i}.\n",
    "$\n",
    "\n",
    "\n",
    " "
   ]
  },
  {
   "cell_type": "code",
   "execution_count": null,
   "metadata": {},
   "outputs": [],
   "source": []
  }
 ],
 "metadata": {
  "celltoolbar": "Tags",
  "kernelspec": {
   "display_name": "Python 3 (ipykernel)",
   "language": "python",
   "name": "python3"
  },
  "language_info": {
   "codemirror_mode": {
    "name": "ipython",
    "version": 3
   },
   "file_extension": ".py",
   "mimetype": "text/x-python",
   "name": "python",
   "nbconvert_exporter": "python",
   "pygments_lexer": "ipython3",
   "version": "3.9.6"
  }
 },
 "nbformat": 4,
 "nbformat_minor": 2
}