{
 "cells": [
  {
   "cell_type": "markdown",
   "id": "fa5dd210",
   "metadata": {},
   "source": [
    "# 1.3 Some popular data sets in image classification \n",
    "\n",
    "In this subsection, we will introduce some popular and standard data sets in image\n",
    "classification.\n",
    "\n",
    "```{list-table}\n",
    ":header-rows: 1\n",
    ":name: example-table\n",
    "* - dataset\n",
    "  - training(N)\n",
    "  - test(M)\n",
    "  - classes(k)\n",
    "  - channels(c)\n",
    "  - input size(d)\n",
    " * - MNIST\n",
    "   - 60K\n",
    "   - 10K\n",
    "   - 10\n",
    "   - GRAYSCALE\n",
    "   - 28*28\n",
    " * - CIFAR-10\n",
    "   - 50K\n",
    "   - 10K\n",
    "   - 10\n",
    "   - RGB\n",
    "   - 32*32\n",
    " * - CIFAR-100\n",
    "   - 50K\n",
    "   - 10K\n",
    "   - 10\n",
    "   - RGB\n",
    "   - 32*32\n",
    " * - ImageNet\n",
    "   - 1.2M\n",
    "   - 50K\n",
    "   - 1000\n",
    "   - RGB\n",
    "   - 224*224\n",
    "  ```"
   ]
  },
  {
   "cell_type": "markdown",
   "id": "fb49473a",
   "metadata": {},
   "source": [
    "## MNIST(Modified National Institute of Standards and Technology Database) \n",
    "\n",
    "### This is a database for handwritten digits\n",
    "- Training set : N = 60,000\n",
    "- Test set : M = 10,000\n",
    "- Image size : d = 28 * 28 * 1 = 784\n",
    "- Classes: k = 10\n",
    "```{figure} ../figures/mnist2_1.png\n",
    ":name: mnist\n",
    "```"
   ]
  },
  {
   "cell_type": "markdown",
   "id": "3f62fd6c",
   "metadata": {},
   "source": [
    "## CIFAR \n",
    "\n",
    "### CIFAR-10\n",
    "- Training set : N = 50,000\n",
    "- Test set : M = 10,000\n",
    "- Image size : d = 32 * 32 * 3\n",
    "- Classes: k = 10\n",
    "```{figure} ../figures/mnist1_1.png\n",
    ":name: mnist\n",
    "```\n",
    "\n",
    "### CIFAR-100\n",
    "- Training set : N = 50，000\n",
    "- Test set : M = 10，000\n",
    "- Image size : d = 32 * 32 * 3\n",
    "- Classes: k = 100\n",
    "```{figure} ../figures/mnist1_1.png\n",
    ":name: mnist\n",
    "```\n"
   ]
  },
  {
   "cell_type": "markdown",
   "id": "ec6211e7",
   "metadata": {},
   "source": [
    "## ImageNet \n",
    "\n",
    "- All data set: N + M = 1，431，167\n",
    "- Image size : d = 224 * 224 * 3\n",
    "- Classes: k = 1，000\n",
    "```{figure} ../figures/imagenet1_1.png\n",
    ":name: mnist\n",
    "```\n",
    "```{figure} ../figures/imagenet1_2.png\n",
    ":name: mt\n",
    "```"
   ]
  }
 ],
 "metadata": {
  "kernelspec": {
   "display_name": "Python 3",
   "language": "python",
   "name": "python3"
  },
  "language_info": {
   "codemirror_mode": {
    "name": "ipython",
    "version": 3
   },
   "file_extension": ".py",
   "mimetype": "text/x-python",
   "name": "python",
   "nbconvert_exporter": "python",
   "pygments_lexer": "ipython3",
   "version": "3.8.8"
  }
 },
 "nbformat": 4,
 "nbformat_minor": 5
}