{
 "cells": [
  {
   "cell_type": "markdown",
   "id": "976e6918",
   "metadata": {},
   "source": [
    "# Homework 1\n"
   ]
  },
  {
   "cell_type": "markdown",
   "id": "2f165bc0",
   "metadata": {},
   "source": [
    "## Problem 1: \n",
    "Consider $w ,b \\in \\mathbb{R}$ and the function that \n",
    "for $x_1  \\in \\mathbb{R}$."
   ]
  },
  {
   "cell_type": "markdown",
   "id": "4f8e84cf",
   "metadata": {},
   "source": [
    "1: \n",
    "\n",
    "$$\n",
    "f(w,b) =  e^{x_1 w + b},\n",
    "$$\n",
    "for $x_1  \\in \\mathbb{R}$.\n",
    "1.Consider the Hessian matrix of $f$ defined by\n",
    "\n",
    "$$\n",
    "    H(w,b) = \\nabla^2 f(w,b) = \n",
    "    \\begin{pmatrix}\n",
    "    \\frac{\\partial^2 f}{\\partial w^2} & \\frac{\\partial^2 f}{\\partial w \\partial b}  \\\\\n",
    "    \\frac{\\partial^2 f}{\\partial b \\partial w}  & \\frac{\\partial^2 f}{\\partial b^2} \n",
    "    \\end{pmatrix}.\n",
    "$$\n",
    "    \n",
    "Verify that \n",
    "\n",
    "$$\n",
    "    H(w,b) = f(w,b) x  x^T,\n",
    "$$\n",
    "\n",
    "where \n",
    "\n",
    "$$\n",
    "    x = \\begin{pmatrix}\n",
    "    x_1 \\\\\n",
    "    1\n",
    "    \\end{pmatrix}.\n",
    "$$\n",
    "\n"
   ]
  },
  {
   "cell_type": "markdown",
   "id": "fe4fc35f",
   "metadata": {},
   "source": [
    "2:\n",
    "Prove that\n",
    "    \n",
    "$$\n",
    "    v^T H(w,b) v \\ge 0,\n",
    "$$\n",
    "    \n",
    "for any $ v = \\begin{pmatrix}\n",
    "v_1 \\\\v_2\n",
    "\\end{pmatrix}\\in \\mathbb{R}^2$ and $(w,b) \\in \\mathbb{R}^2$."
   ]
  },
  {
   "cell_type": "markdown",
   "id": "b6e368bc",
   "metadata": {},
   "source": [
    "## Problem 2\n",
    "Think about the next data set $A_1, A_2 \\subset \\mathbb{R}^2$ with\n",
    "\n",
    "$$\n",
    "    A_1 = \\left\\{ (0,1), (\\frac{\\sqrt{2}}{2}, \\frac{\\sqrt{2}}{2}), (1,0), (-\\frac{\\sqrt{2}}{2}, \\frac{\\sqrt{2}}{2}), \n",
    "     (-1,0), (-\\frac{\\sqrt{2}}{2}, -\\frac{\\sqrt{2}}{2}),  (0,-1), (\\frac{\\sqrt{2}}{2}, -\\frac{\\sqrt{2}}{2})\\right\\},\n",
    "$$\n",
    "\n",
    "and \n",
    "\n",
    "$$\n",
    "    A_2 = \\left\\{ (0,2), (\\sqrt{2}, \\sqrt{2}), (2,0), (-\\sqrt{2}, \\sqrt{2}), \n",
    "    (-2,0), (-\\sqrt{2}, -\\sqrt{2}),  (0,-2), (\\sqrt{2}, -\\sqrt{2})\\right\\}.\n",
    "$$"
   ]
  },
  {
   "cell_type": "markdown",
   "id": "cdf615b5",
   "metadata": {},
   "source": [
    "1:\n",
    "Plot out $A_1$ and $A_2$ on $\\mathbb{R}^2$."
   ]
  },
  {
   "cell_type": "markdown",
   "id": "ae599a90",
   "metadata": {},
   "source": [
    "2:\n",
    "Find a mapping \n",
    "\n",
    "$$\n",
    "    \\varphi: \\mathbb{R}^2 \\mapsto \\mathbb{R},\n",
    "$$ \n",
    "\n",
    "such that $\\varphi(A_1)$ and $\\varphi(A_2)$ are linearly separable where\n",
    "\n",
    "$$\n",
    "    \\varphi(A_1) := \\{ \\tilde x= \\varphi(x) ~|~ x \\in A_1\\} \\quad \\text{and} \\quad \\varphi(A_2) := \\{ \\tilde x= \\varphi(x) ~|~ x \\in A_2\\}.\n",
    "$$"
   ]
  },
  {
   "cell_type": "markdown",
   "id": "5d6d9e5c",
   "metadata": {},
   "source": [
    "## Problem 3"
   ]
  },
  {
   "cell_type": "markdown",
   "id": "669aa4c4",
   "metadata": {},
   "source": [
    "Prove that if $A_1, A_2, A_3$ are all-vs-one linearly separable, then they are linearly separable."
   ]
  },
  {
   "cell_type": "markdown",
   "id": "8a4c9498",
   "metadata": {},
   "source": [
    "## Problem 4"
   ]
  },
  {
   "cell_type": "markdown",
   "id": "8a92c1c8",
   "metadata": {},
   "source": [
    "Give an example of $A_1, A_2, A_3 \\subset \\mathbb{R}^2$ such that they are linearly separable but not  all-vs-one linearly separable."
   ]
  },
  {
   "cell_type": "code",
   "execution_count": null,
   "id": "9b05fc1f",
   "metadata": {},
   "outputs": [],
   "source": []
  }
 ],
 "metadata": {
  "kernelspec": {
   "display_name": "Python 3",
   "language": "python",
   "name": "python3"
  },
  "language_info": {
   "codemirror_mode": {
    "name": "ipython",
    "version": 3
   },
   "file_extension": ".py",
   "mimetype": "text/x-python",
   "name": "python",
   "nbconvert_exporter": "python",
   "pygments_lexer": "ipython3",
   "version": "3.8.8"
  }
 },
 "nbformat": 4,
 "nbformat_minor": 5
}
