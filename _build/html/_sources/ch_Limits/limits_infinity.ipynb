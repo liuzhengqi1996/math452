{
 "cells": [
  {
   "cell_type": "markdown",
   "id": "8aa8a747",
   "metadata": {},
   "source": [
    "# Limits at Infinity"
   ]
  },
  {
   "cell_type": "code",
   "execution_count": 1,
   "id": "d1e819f1",
   "metadata": {
    "tags": [
     "remove-cell"
    ]
   },
   "outputs": [
    {
     "ename": "ModuleNotFoundError",
     "evalue": "No module named 'itikz'",
     "output_type": "error",
     "traceback": [
      "\u001b[0;31m---------------------------------------------------------------------------\u001b[0m",
      "\u001b[0;31mModuleNotFoundError\u001b[0m                       Traceback (most recent call last)",
      "\u001b[0;32m/var/folders/xz/fhb2zgq551315f5zf88k__ph0000gn/T/ipykernel_69984/3834793611.py\u001b[0m in \u001b[0;36m<module>\u001b[0;34m\u001b[0m\n\u001b[0;32m----> 1\u001b[0;31m \u001b[0mget_ipython\u001b[0m\u001b[0;34m(\u001b[0m\u001b[0;34m)\u001b[0m\u001b[0;34m.\u001b[0m\u001b[0mrun_line_magic\u001b[0m\u001b[0;34m(\u001b[0m\u001b[0;34m'load_ext'\u001b[0m\u001b[0;34m,\u001b[0m \u001b[0;34m'itikz'\u001b[0m\u001b[0;34m)\u001b[0m\u001b[0;34m\u001b[0m\u001b[0;34m\u001b[0m\u001b[0m\n\u001b[0m",
      "\u001b[0;32m/anaconda3/envs/myenv/lib/python3.9/site-packages/IPython/core/interactiveshell.py\u001b[0m in \u001b[0;36mrun_line_magic\u001b[0;34m(self, magic_name, line, _stack_depth)\u001b[0m\n\u001b[1;32m   2346\u001b[0m                 \u001b[0mkwargs\u001b[0m\u001b[0;34m[\u001b[0m\u001b[0;34m'local_ns'\u001b[0m\u001b[0;34m]\u001b[0m \u001b[0;34m=\u001b[0m \u001b[0mself\u001b[0m\u001b[0;34m.\u001b[0m\u001b[0mget_local_scope\u001b[0m\u001b[0;34m(\u001b[0m\u001b[0mstack_depth\u001b[0m\u001b[0;34m)\u001b[0m\u001b[0;34m\u001b[0m\u001b[0;34m\u001b[0m\u001b[0m\n\u001b[1;32m   2347\u001b[0m             \u001b[0;32mwith\u001b[0m \u001b[0mself\u001b[0m\u001b[0;34m.\u001b[0m\u001b[0mbuiltin_trap\u001b[0m\u001b[0;34m:\u001b[0m\u001b[0;34m\u001b[0m\u001b[0;34m\u001b[0m\u001b[0m\n\u001b[0;32m-> 2348\u001b[0;31m                 \u001b[0mresult\u001b[0m \u001b[0;34m=\u001b[0m \u001b[0mfn\u001b[0m\u001b[0;34m(\u001b[0m\u001b[0;34m*\u001b[0m\u001b[0margs\u001b[0m\u001b[0;34m,\u001b[0m \u001b[0;34m**\u001b[0m\u001b[0mkwargs\u001b[0m\u001b[0;34m)\u001b[0m\u001b[0;34m\u001b[0m\u001b[0;34m\u001b[0m\u001b[0m\n\u001b[0m\u001b[1;32m   2349\u001b[0m             \u001b[0;32mreturn\u001b[0m \u001b[0mresult\u001b[0m\u001b[0;34m\u001b[0m\u001b[0;34m\u001b[0m\u001b[0m\n\u001b[1;32m   2350\u001b[0m \u001b[0;34m\u001b[0m\u001b[0m\n",
      "\u001b[0;32m/anaconda3/envs/myenv/lib/python3.9/site-packages/decorator.py\u001b[0m in \u001b[0;36mfun\u001b[0;34m(*args, **kw)\u001b[0m\n\u001b[1;32m    230\u001b[0m             \u001b[0;32mif\u001b[0m \u001b[0;32mnot\u001b[0m \u001b[0mkwsyntax\u001b[0m\u001b[0;34m:\u001b[0m\u001b[0;34m\u001b[0m\u001b[0;34m\u001b[0m\u001b[0m\n\u001b[1;32m    231\u001b[0m                 \u001b[0margs\u001b[0m\u001b[0;34m,\u001b[0m \u001b[0mkw\u001b[0m \u001b[0;34m=\u001b[0m \u001b[0mfix\u001b[0m\u001b[0;34m(\u001b[0m\u001b[0margs\u001b[0m\u001b[0;34m,\u001b[0m \u001b[0mkw\u001b[0m\u001b[0;34m,\u001b[0m \u001b[0msig\u001b[0m\u001b[0;34m)\u001b[0m\u001b[0;34m\u001b[0m\u001b[0;34m\u001b[0m\u001b[0m\n\u001b[0;32m--> 232\u001b[0;31m             \u001b[0;32mreturn\u001b[0m \u001b[0mcaller\u001b[0m\u001b[0;34m(\u001b[0m\u001b[0mfunc\u001b[0m\u001b[0;34m,\u001b[0m \u001b[0;34m*\u001b[0m\u001b[0;34m(\u001b[0m\u001b[0mextras\u001b[0m \u001b[0;34m+\u001b[0m \u001b[0margs\u001b[0m\u001b[0;34m)\u001b[0m\u001b[0;34m,\u001b[0m \u001b[0;34m**\u001b[0m\u001b[0mkw\u001b[0m\u001b[0;34m)\u001b[0m\u001b[0;34m\u001b[0m\u001b[0;34m\u001b[0m\u001b[0m\n\u001b[0m\u001b[1;32m    233\u001b[0m     \u001b[0mfun\u001b[0m\u001b[0;34m.\u001b[0m\u001b[0m__name__\u001b[0m \u001b[0;34m=\u001b[0m \u001b[0mfunc\u001b[0m\u001b[0;34m.\u001b[0m\u001b[0m__name__\u001b[0m\u001b[0;34m\u001b[0m\u001b[0;34m\u001b[0m\u001b[0m\n\u001b[1;32m    234\u001b[0m     \u001b[0mfun\u001b[0m\u001b[0;34m.\u001b[0m\u001b[0m__doc__\u001b[0m \u001b[0;34m=\u001b[0m \u001b[0mfunc\u001b[0m\u001b[0;34m.\u001b[0m\u001b[0m__doc__\u001b[0m\u001b[0;34m\u001b[0m\u001b[0;34m\u001b[0m\u001b[0m\n",
      "\u001b[0;32m/anaconda3/envs/myenv/lib/python3.9/site-packages/IPython/core/magic.py\u001b[0m in \u001b[0;36m<lambda>\u001b[0;34m(f, *a, **k)\u001b[0m\n\u001b[1;32m    185\u001b[0m     \u001b[0;31m# but it's overkill for just that one bit of state.\u001b[0m\u001b[0;34m\u001b[0m\u001b[0;34m\u001b[0m\u001b[0;34m\u001b[0m\u001b[0m\n\u001b[1;32m    186\u001b[0m     \u001b[0;32mdef\u001b[0m \u001b[0mmagic_deco\u001b[0m\u001b[0;34m(\u001b[0m\u001b[0marg\u001b[0m\u001b[0;34m)\u001b[0m\u001b[0;34m:\u001b[0m\u001b[0;34m\u001b[0m\u001b[0;34m\u001b[0m\u001b[0m\n\u001b[0;32m--> 187\u001b[0;31m         \u001b[0mcall\u001b[0m \u001b[0;34m=\u001b[0m \u001b[0;32mlambda\u001b[0m \u001b[0mf\u001b[0m\u001b[0;34m,\u001b[0m \u001b[0;34m*\u001b[0m\u001b[0ma\u001b[0m\u001b[0;34m,\u001b[0m \u001b[0;34m**\u001b[0m\u001b[0mk\u001b[0m\u001b[0;34m:\u001b[0m \u001b[0mf\u001b[0m\u001b[0;34m(\u001b[0m\u001b[0;34m*\u001b[0m\u001b[0ma\u001b[0m\u001b[0;34m,\u001b[0m \u001b[0;34m**\u001b[0m\u001b[0mk\u001b[0m\u001b[0;34m)\u001b[0m\u001b[0;34m\u001b[0m\u001b[0;34m\u001b[0m\u001b[0m\n\u001b[0m\u001b[1;32m    188\u001b[0m \u001b[0;34m\u001b[0m\u001b[0m\n\u001b[1;32m    189\u001b[0m         \u001b[0;32mif\u001b[0m \u001b[0mcallable\u001b[0m\u001b[0;34m(\u001b[0m\u001b[0marg\u001b[0m\u001b[0;34m)\u001b[0m\u001b[0;34m:\u001b[0m\u001b[0;34m\u001b[0m\u001b[0;34m\u001b[0m\u001b[0m\n",
      "\u001b[0;32m/anaconda3/envs/myenv/lib/python3.9/site-packages/IPython/core/magics/extension.py\u001b[0m in \u001b[0;36mload_ext\u001b[0;34m(self, module_str)\u001b[0m\n\u001b[1;32m     31\u001b[0m         \u001b[0;32mif\u001b[0m \u001b[0;32mnot\u001b[0m \u001b[0mmodule_str\u001b[0m\u001b[0;34m:\u001b[0m\u001b[0;34m\u001b[0m\u001b[0;34m\u001b[0m\u001b[0m\n\u001b[1;32m     32\u001b[0m             \u001b[0;32mraise\u001b[0m \u001b[0mUsageError\u001b[0m\u001b[0;34m(\u001b[0m\u001b[0;34m'Missing module name.'\u001b[0m\u001b[0;34m)\u001b[0m\u001b[0;34m\u001b[0m\u001b[0;34m\u001b[0m\u001b[0m\n\u001b[0;32m---> 33\u001b[0;31m         \u001b[0mres\u001b[0m \u001b[0;34m=\u001b[0m \u001b[0mself\u001b[0m\u001b[0;34m.\u001b[0m\u001b[0mshell\u001b[0m\u001b[0;34m.\u001b[0m\u001b[0mextension_manager\u001b[0m\u001b[0;34m.\u001b[0m\u001b[0mload_extension\u001b[0m\u001b[0;34m(\u001b[0m\u001b[0mmodule_str\u001b[0m\u001b[0;34m)\u001b[0m\u001b[0;34m\u001b[0m\u001b[0;34m\u001b[0m\u001b[0m\n\u001b[0m\u001b[1;32m     34\u001b[0m \u001b[0;34m\u001b[0m\u001b[0m\n\u001b[1;32m     35\u001b[0m         \u001b[0;32mif\u001b[0m \u001b[0mres\u001b[0m \u001b[0;34m==\u001b[0m \u001b[0;34m'already loaded'\u001b[0m\u001b[0;34m:\u001b[0m\u001b[0;34m\u001b[0m\u001b[0;34m\u001b[0m\u001b[0m\n",
      "\u001b[0;32m/anaconda3/envs/myenv/lib/python3.9/site-packages/IPython/core/extensions.py\u001b[0m in \u001b[0;36mload_extension\u001b[0;34m(self, module_str)\u001b[0m\n\u001b[1;32m     78\u001b[0m             \u001b[0;32mif\u001b[0m \u001b[0mmodule_str\u001b[0m \u001b[0;32mnot\u001b[0m \u001b[0;32min\u001b[0m \u001b[0msys\u001b[0m\u001b[0;34m.\u001b[0m\u001b[0mmodules\u001b[0m\u001b[0;34m:\u001b[0m\u001b[0;34m\u001b[0m\u001b[0;34m\u001b[0m\u001b[0m\n\u001b[1;32m     79\u001b[0m                 \u001b[0;32mwith\u001b[0m \u001b[0mprepended_to_syspath\u001b[0m\u001b[0;34m(\u001b[0m\u001b[0mself\u001b[0m\u001b[0;34m.\u001b[0m\u001b[0mipython_extension_dir\u001b[0m\u001b[0;34m)\u001b[0m\u001b[0;34m:\u001b[0m\u001b[0;34m\u001b[0m\u001b[0;34m\u001b[0m\u001b[0m\n\u001b[0;32m---> 80\u001b[0;31m                     \u001b[0mmod\u001b[0m \u001b[0;34m=\u001b[0m \u001b[0mimport_module\u001b[0m\u001b[0;34m(\u001b[0m\u001b[0mmodule_str\u001b[0m\u001b[0;34m)\u001b[0m\u001b[0;34m\u001b[0m\u001b[0;34m\u001b[0m\u001b[0m\n\u001b[0m\u001b[1;32m     81\u001b[0m                     \u001b[0;32mif\u001b[0m \u001b[0mmod\u001b[0m\u001b[0;34m.\u001b[0m\u001b[0m__file__\u001b[0m\u001b[0;34m.\u001b[0m\u001b[0mstartswith\u001b[0m\u001b[0;34m(\u001b[0m\u001b[0mself\u001b[0m\u001b[0;34m.\u001b[0m\u001b[0mipython_extension_dir\u001b[0m\u001b[0;34m)\u001b[0m\u001b[0;34m:\u001b[0m\u001b[0;34m\u001b[0m\u001b[0;34m\u001b[0m\u001b[0m\n\u001b[1;32m     82\u001b[0m                         print((\"Loading extensions from {dir} is deprecated. \"\n",
      "\u001b[0;32m/anaconda3/envs/myenv/lib/python3.9/importlib/__init__.py\u001b[0m in \u001b[0;36mimport_module\u001b[0;34m(name, package)\u001b[0m\n\u001b[1;32m    125\u001b[0m                 \u001b[0;32mbreak\u001b[0m\u001b[0;34m\u001b[0m\u001b[0;34m\u001b[0m\u001b[0m\n\u001b[1;32m    126\u001b[0m             \u001b[0mlevel\u001b[0m \u001b[0;34m+=\u001b[0m \u001b[0;36m1\u001b[0m\u001b[0;34m\u001b[0m\u001b[0;34m\u001b[0m\u001b[0m\n\u001b[0;32m--> 127\u001b[0;31m     \u001b[0;32mreturn\u001b[0m \u001b[0m_bootstrap\u001b[0m\u001b[0;34m.\u001b[0m\u001b[0m_gcd_import\u001b[0m\u001b[0;34m(\u001b[0m\u001b[0mname\u001b[0m\u001b[0;34m[\u001b[0m\u001b[0mlevel\u001b[0m\u001b[0;34m:\u001b[0m\u001b[0;34m]\u001b[0m\u001b[0;34m,\u001b[0m \u001b[0mpackage\u001b[0m\u001b[0;34m,\u001b[0m \u001b[0mlevel\u001b[0m\u001b[0;34m)\u001b[0m\u001b[0;34m\u001b[0m\u001b[0;34m\u001b[0m\u001b[0m\n\u001b[0m\u001b[1;32m    128\u001b[0m \u001b[0;34m\u001b[0m\u001b[0m\n\u001b[1;32m    129\u001b[0m \u001b[0;34m\u001b[0m\u001b[0m\n",
      "\u001b[0;32m/anaconda3/envs/myenv/lib/python3.9/importlib/_bootstrap.py\u001b[0m in \u001b[0;36m_gcd_import\u001b[0;34m(name, package, level)\u001b[0m\n",
      "\u001b[0;32m/anaconda3/envs/myenv/lib/python3.9/importlib/_bootstrap.py\u001b[0m in \u001b[0;36m_find_and_load\u001b[0;34m(name, import_)\u001b[0m\n",
      "\u001b[0;32m/anaconda3/envs/myenv/lib/python3.9/importlib/_bootstrap.py\u001b[0m in \u001b[0;36m_find_and_load_unlocked\u001b[0;34m(name, import_)\u001b[0m\n",
      "\u001b[0;31mModuleNotFoundError\u001b[0m: No module named 'itikz'"
     ]
    }
   ],
   "source": [
    "%load_ext itikz"
   ]
  },
  {
   "cell_type": "markdown",
   "id": "05d9cb93",
   "metadata": {},
   "source": [
    "```{admonition} Definition\n",
    ":class: info\n",
    "\n",
    "The function $f(x)$ has the limit $L$ as $x$ increases without bound (as $x$ approaches infinity), \n",
    "\n",
    "$$\\lim_{x\\to \\infty} f(x) = L $$ \n",
    "\n",
    "if $f(x)$ can be made as close to $L$ by taking $x$ large enough.\n",
    "\n",
    "Similarly, the function $f(x)$ has the limit $M$ as $x$ decreases without bound (as $x$ approaches negative infinity), \n",
    "\n",
    "$$\\lim_{x\\to -\\infty} f(x) = M $$ \n",
    "\n",
    "if $f(x)$ can be made as close to $M$ by taking $x$  to be negative and sufficiently large in absolute value.\n",
    "```\n",
    "\n",
    "## Example 1\n",
    "\n",
    "The following graph illustrates a function $f(x)$ that approaches a value of 400 as $x$ increases without bound.  In other words, \n",
    "\n",
    "$$\\lim\\limits_{x\\to \\infty} f(x) = 400.$$"
   ]
  },
  {
   "cell_type": "code",
   "execution_count": null,
   "id": "3a13a46b",
   "metadata": {
    "tags": [
     "remove-input"
    ]
   },
   "outputs": [],
   "source": [
    "%%itikz\n",
    "\\documentclass[tikz]{standalone}\n",
    "\\begin{document}\n",
    "\\begin{tikzpicture}[scale=2.5]\n",
    "\\tikzstyle{every node}=[font=\\large]\n",
    " \n",
    "% create a white background, with a black frame\n",
    "%\\draw [fill=white,white] (-0.75,-0.5) rectangle (6.75,3.75); \n",
    "\n",
    "% draw a grid\n",
    "\\draw[step=2.5mm, lightgray, thin] (0,0) grid (6.49,3.49); \n",
    "\n",
    "% draw axes\n",
    "\\draw [->,thick] (0,0) -- (6.5,0) node[below] {$x$}; \n",
    "\\draw [->,thick] (0,0) -- (0,3.5) node[right] {$y$};\n",
    "\n",
    "% tick marks\n",
    "\\foreach \\x/\\label in {1/50,2/100,3/150,4/200,5/250,6/300} \n",
    "\t\\draw [thick] (\\x cm,2pt) -- (\\x cm,-2pt) node[below] {\\label};\n",
    "\\foreach \\y/\\label in {0.75/100,1.5/200,2.25/300,3/400} \n",
    "\t\\draw [thick] (2pt,\\y cm) -- (-2pt,\\y cm) node[left] {\\label};\n",
    "\n",
    "% plot curve\n",
    "\\draw [dashed, red,ultra thick](0,3) -- (6.5,3);\n",
    "\\draw [ultra thick] (0,0.4) .. controls (2,0.8) and (2,2.9) .. (6.5,2.95) node[below left] {\\large $f(x)$};\n",
    "\n",
    "\\end{tikzpicture}\n",
    "\\end{document} "
   ]
  },
  {
   "cell_type": "markdown",
   "id": "9f77e03e",
   "metadata": {},
   "source": [
    "## Properties of Limits at Infinity\n",
    "\n",
    "All previous properties for limits apply when $a$ is replaced with $\\infty$ or $-\\infty$.  Furthermore, the following additional properties are especially useful when evaluating limits at infinity.  For all $n>0$, we have\n",
    "\n",
    "- $\\lim\\limits_{x \\to \\infty} \\dfrac{1}{x^n}=0 $\n",
    "- $\\lim\\limits_{x \\to -\\infty} \\dfrac{1}{x^n}=0$, provided that $x^n$ is defined for $x<0$.\n",
    "\n",
    "\n",
    "## Example 2\n",
    "\n",
    "Notice how the graph of $y=1/x$ approaches the $x$-axis as $x$ approaches positive and negative infinity.  In other words,\n",
    "\n",
    "$$\\lim_{x\\to -\\infty} \\frac{1}{x} = 0  ~~~~ \\hbox{and} ~~~~~ \\lim_{x\\to \\infty} \\frac{1}{x} = 0.$$"
   ]
  },
  {
   "cell_type": "code",
   "execution_count": null,
   "id": "a506ce3f",
   "metadata": {
    "tags": [
     "remove-input"
    ]
   },
   "outputs": [],
   "source": [
    "%%itikz\n",
    "\\documentclass[tikz]{standalone}\n",
    "\\begin{document}\n",
    "\\begin{tikzpicture}[scale=2]\n",
    "\\tikzstyle{every node}=[font=\\large]\n",
    " \n",
    "% create a white background, with a black frame\n",
    "%\\draw [fill=white,white] (-7.5,-2) rectangle (7.5,2.5); \n",
    "\n",
    "% draw a grid\n",
    "\\draw[step=5mm, lightgray, thin] (-6.99,-1.99) grid (6.99,1.99); \n",
    "%\\draw[step=1cm, gray] (0,-0) grid (6.5,3.5); \n",
    "\n",
    "% draw axes\n",
    "\\draw [->,thick] (-7,0) -- (7,0) node[below] {$x$}; \n",
    "\\draw [->,thick] (0,-2) -- (0,2) node[right] {$y$};\n",
    "\n",
    "% tick marks\n",
    "\\foreach \\x in {-5,-3,-1,1,3,5} \n",
    "\t\\draw [thick] (\\x cm,2pt) -- (\\x cm,-2pt) node[below] {\\x};\n",
    "\\foreach \\y in {-1,1} \n",
    "\t\\draw [thick] (2pt,\\y cm) -- (-2pt,\\y cm) node[left] {\\y};\n",
    "\n",
    "% plot curve\n",
    "\\clip (-7,-2) rectangle (7,2);\n",
    "\\draw[ultra thick,domain=-7:-0.1,smooth,samples=100] plot (\\x,{1/\\x}); \n",
    "\\draw[ultra thick,domain=0.1:7,smooth,samples=100] plot (\\x,{1/\\x});\n",
    "\n",
    "\\end{tikzpicture}\n",
    "\\end{document} "
   ]
  },
  {
   "cell_type": "markdown",
   "id": "32988864",
   "metadata": {},
   "source": [
    "## Example 3\n",
    "\n",
    "Notice how the graph of $y=1/\\sqrt{x}$ approaches the $x$-axis as $x$ approaches positive infinity.  In other words,\n",
    "\n",
    "$$\\lim_{x\\to \\infty} \\frac{1}{\\sqrt{x}} = 0.$$\n",
    "\n",
    "Furthermore, there is no discussion of the limit as $x$ approaches negative infinity since $\\sqrt{x}$ is not defined for negative values of $x$."
   ]
  },
  {
   "cell_type": "code",
   "execution_count": null,
   "id": "d0ddc8dc",
   "metadata": {
    "tags": [
     "remove-input"
    ]
   },
   "outputs": [],
   "source": [
    "%%itikz\n",
    "\\documentclass[tikz]{standalone}\n",
    "\\begin{document}\n",
    "\\begin{tikzpicture}[scale=2]\n",
    "\\tikzstyle{every node}=[font=\\large]\n",
    " \n",
    "% create a white background, with a black frame\n",
    "%\\draw [fill=white] (-7.5,-1.5) rectangle (7.5,3.5); \n",
    "\n",
    "% draw a grid\n",
    "\\draw[step=5mm, lightgray, thin] (-6.99,0) grid (6.99,2.99); \n",
    "%\\draw[step=1cm, gray] (0,-0) grid (6.5,3.5); \n",
    "\n",
    "% draw axes\n",
    "\\draw [->,thick] (-7,0) -- (7,0) node[below] {$x$}; \n",
    "\\draw [->,thick] (0,-1) -- (0,3) node[right] {$y$};\n",
    "\n",
    "% tick marks\n",
    "\\foreach \\x in {-5,-3,-1,1,3,5} \n",
    "\t\\draw [thick] (\\x cm,2pt) -- (\\x cm,-2pt) node[below] {\\x};\n",
    "\\foreach \\y in {1,2} \n",
    "\t\\draw [thick] (2pt,\\y cm) -- (-2pt,\\y cm) node[left] {\\y};\n",
    "\n",
    "% plot curve\n",
    "\\clip (-7,-1) rectangle (7,3);\n",
    "\\draw[ultra thick,domain=0.1:7,smooth,samples=100] plot (\\x,{1/pow(\\x,0.5)});\n",
    "\n",
    "\\end{tikzpicture}\n",
    "\\end{document} "
   ]
  },
  {
   "cell_type": "markdown",
   "id": "2da7e3e2",
   "metadata": {},
   "source": [
    "## Limits at Infinity of Rational Functions\n",
    "\n",
    "For Rational Functions, a limit at infinity, whether it be $\\displaystyle\\lim_{x\\to\\infty}$ or $\\displaystyle\\lim_{x\\to -\\infty}$, can be determined by comparing the degree of the polynomial in the numerator to the degree of the polynomial in the denominator.\n",
    "\n",
    "For infinite limits of Rational Functions, if the \n",
    "- highest power is in the denominator, then the limit will equal $0$\n",
    "- highest power in the numerator, then the limit will equal $\\pm\\infty$ (DNE)\n",
    "- highest power is the same in both the numerator and denominator, then the limit will equal the ratio of the leading coefficients, i.e. the ratio of the coefficients in front of the highest powers in the numerator and the denominator.\n",
    "\n",
    "## Example 4\n",
    "\n",
    "Applying the guidelines:\n",
    "1. $\\displaystyle\\lim_{x\\to\\infty}\\frac{x+3}{6x^2+3x+1}$ = 0 (highest power is in denominator)   <br>  &nbsp;\n",
    "\n",
    "2. $\\displaystyle\\lim_{x\\to-\\infty}\\frac{6x^{3}+3}{x^{2}+4x-7}$ = $-\\infty$ or DNE (highest power is in numerator)  <br>  &nbsp;\n",
    "\n",
    "3. $\\displaystyle\\lim_{x\\to\\infty}\\frac{4x^5+3x-8}{9x^5-6x^3}$ = $4/9$ (highest powers are the same)"
   ]
  }
 ],
 "metadata": {
  "jupytext": {
   "formats": "ipynb,md:myst",
   "text_representation": {
    "extension": ".md",
    "format_name": "myst",
    "format_version": 0.13,
    "jupytext_version": "1.10.3"
   }
  },
  "kernelspec": {
   "display_name": "Python 3.9.4 64-bit",
   "language": "python",
   "name": "python3"
  },
  "language_info": {
   "codemirror_mode": {
    "name": "ipython",
    "version": 3
   },
   "file_extension": ".py",
   "mimetype": "text/x-python",
   "name": "python",
   "nbconvert_exporter": "python",
   "pygments_lexer": "ipython3",
   "version": "3.9.6"
  },
  "source_map": [
   13,
   16,
   20,
   44,
   75,
   97,
   130,
   142,
   174
  ]
 },
 "nbformat": 4,
 "nbformat_minor": 5
}