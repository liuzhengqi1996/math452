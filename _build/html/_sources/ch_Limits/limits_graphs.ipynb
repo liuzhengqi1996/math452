{
 "cells": [
  {
   "cell_type": "markdown",
   "id": "3b51fe03",
   "metadata": {},
   "source": [
    "# Examples: Computing Limits from Graphs\n",
    "\n",
    "## Example (First Graph)"
   ]
  },
  {
   "cell_type": "code",
   "execution_count": 1,
   "id": "f8948830",
   "metadata": {
    "tags": [
     "remove-cell"
    ]
   },
   "outputs": [
    {
     "ename": "ModuleNotFoundError",
     "evalue": "No module named 'itikz'",
     "output_type": "error",
     "traceback": [
      "\u001b[0;31m---------------------------------------------------------------------------\u001b[0m",
      "\u001b[0;31mModuleNotFoundError\u001b[0m                       Traceback (most recent call last)",
      "\u001b[0;32m/var/folders/xz/fhb2zgq551315f5zf88k__ph0000gn/T/ipykernel_69965/3834793611.py\u001b[0m in \u001b[0;36m<module>\u001b[0;34m\u001b[0m\n\u001b[0;32m----> 1\u001b[0;31m \u001b[0mget_ipython\u001b[0m\u001b[0;34m(\u001b[0m\u001b[0;34m)\u001b[0m\u001b[0;34m.\u001b[0m\u001b[0mrun_line_magic\u001b[0m\u001b[0;34m(\u001b[0m\u001b[0;34m'load_ext'\u001b[0m\u001b[0;34m,\u001b[0m \u001b[0;34m'itikz'\u001b[0m\u001b[0;34m)\u001b[0m\u001b[0;34m\u001b[0m\u001b[0;34m\u001b[0m\u001b[0m\n\u001b[0m",
      "\u001b[0;32m/anaconda3/envs/myenv/lib/python3.9/site-packages/IPython/core/interactiveshell.py\u001b[0m in \u001b[0;36mrun_line_magic\u001b[0;34m(self, magic_name, line, _stack_depth)\u001b[0m\n\u001b[1;32m   2346\u001b[0m                 \u001b[0mkwargs\u001b[0m\u001b[0;34m[\u001b[0m\u001b[0;34m'local_ns'\u001b[0m\u001b[0;34m]\u001b[0m \u001b[0;34m=\u001b[0m \u001b[0mself\u001b[0m\u001b[0;34m.\u001b[0m\u001b[0mget_local_scope\u001b[0m\u001b[0;34m(\u001b[0m\u001b[0mstack_depth\u001b[0m\u001b[0;34m)\u001b[0m\u001b[0;34m\u001b[0m\u001b[0;34m\u001b[0m\u001b[0m\n\u001b[1;32m   2347\u001b[0m             \u001b[0;32mwith\u001b[0m \u001b[0mself\u001b[0m\u001b[0;34m.\u001b[0m\u001b[0mbuiltin_trap\u001b[0m\u001b[0;34m:\u001b[0m\u001b[0;34m\u001b[0m\u001b[0;34m\u001b[0m\u001b[0m\n\u001b[0;32m-> 2348\u001b[0;31m                 \u001b[0mresult\u001b[0m \u001b[0;34m=\u001b[0m \u001b[0mfn\u001b[0m\u001b[0;34m(\u001b[0m\u001b[0;34m*\u001b[0m\u001b[0margs\u001b[0m\u001b[0;34m,\u001b[0m \u001b[0;34m**\u001b[0m\u001b[0mkwargs\u001b[0m\u001b[0;34m)\u001b[0m\u001b[0;34m\u001b[0m\u001b[0;34m\u001b[0m\u001b[0m\n\u001b[0m\u001b[1;32m   2349\u001b[0m             \u001b[0;32mreturn\u001b[0m \u001b[0mresult\u001b[0m\u001b[0;34m\u001b[0m\u001b[0;34m\u001b[0m\u001b[0m\n\u001b[1;32m   2350\u001b[0m \u001b[0;34m\u001b[0m\u001b[0m\n",
      "\u001b[0;32m/anaconda3/envs/myenv/lib/python3.9/site-packages/decorator.py\u001b[0m in \u001b[0;36mfun\u001b[0;34m(*args, **kw)\u001b[0m\n\u001b[1;32m    230\u001b[0m             \u001b[0;32mif\u001b[0m \u001b[0;32mnot\u001b[0m \u001b[0mkwsyntax\u001b[0m\u001b[0;34m:\u001b[0m\u001b[0;34m\u001b[0m\u001b[0;34m\u001b[0m\u001b[0m\n\u001b[1;32m    231\u001b[0m                 \u001b[0margs\u001b[0m\u001b[0;34m,\u001b[0m \u001b[0mkw\u001b[0m \u001b[0;34m=\u001b[0m \u001b[0mfix\u001b[0m\u001b[0;34m(\u001b[0m\u001b[0margs\u001b[0m\u001b[0;34m,\u001b[0m \u001b[0mkw\u001b[0m\u001b[0;34m,\u001b[0m \u001b[0msig\u001b[0m\u001b[0;34m)\u001b[0m\u001b[0;34m\u001b[0m\u001b[0;34m\u001b[0m\u001b[0m\n\u001b[0;32m--> 232\u001b[0;31m             \u001b[0;32mreturn\u001b[0m \u001b[0mcaller\u001b[0m\u001b[0;34m(\u001b[0m\u001b[0mfunc\u001b[0m\u001b[0;34m,\u001b[0m \u001b[0;34m*\u001b[0m\u001b[0;34m(\u001b[0m\u001b[0mextras\u001b[0m \u001b[0;34m+\u001b[0m \u001b[0margs\u001b[0m\u001b[0;34m)\u001b[0m\u001b[0;34m,\u001b[0m \u001b[0;34m**\u001b[0m\u001b[0mkw\u001b[0m\u001b[0;34m)\u001b[0m\u001b[0;34m\u001b[0m\u001b[0;34m\u001b[0m\u001b[0m\n\u001b[0m\u001b[1;32m    233\u001b[0m     \u001b[0mfun\u001b[0m\u001b[0;34m.\u001b[0m\u001b[0m__name__\u001b[0m \u001b[0;34m=\u001b[0m \u001b[0mfunc\u001b[0m\u001b[0;34m.\u001b[0m\u001b[0m__name__\u001b[0m\u001b[0;34m\u001b[0m\u001b[0;34m\u001b[0m\u001b[0m\n\u001b[1;32m    234\u001b[0m     \u001b[0mfun\u001b[0m\u001b[0;34m.\u001b[0m\u001b[0m__doc__\u001b[0m \u001b[0;34m=\u001b[0m \u001b[0mfunc\u001b[0m\u001b[0;34m.\u001b[0m\u001b[0m__doc__\u001b[0m\u001b[0;34m\u001b[0m\u001b[0;34m\u001b[0m\u001b[0m\n",
      "\u001b[0;32m/anaconda3/envs/myenv/lib/python3.9/site-packages/IPython/core/magic.py\u001b[0m in \u001b[0;36m<lambda>\u001b[0;34m(f, *a, **k)\u001b[0m\n\u001b[1;32m    185\u001b[0m     \u001b[0;31m# but it's overkill for just that one bit of state.\u001b[0m\u001b[0;34m\u001b[0m\u001b[0;34m\u001b[0m\u001b[0;34m\u001b[0m\u001b[0m\n\u001b[1;32m    186\u001b[0m     \u001b[0;32mdef\u001b[0m \u001b[0mmagic_deco\u001b[0m\u001b[0;34m(\u001b[0m\u001b[0marg\u001b[0m\u001b[0;34m)\u001b[0m\u001b[0;34m:\u001b[0m\u001b[0;34m\u001b[0m\u001b[0;34m\u001b[0m\u001b[0m\n\u001b[0;32m--> 187\u001b[0;31m         \u001b[0mcall\u001b[0m \u001b[0;34m=\u001b[0m \u001b[0;32mlambda\u001b[0m \u001b[0mf\u001b[0m\u001b[0;34m,\u001b[0m \u001b[0;34m*\u001b[0m\u001b[0ma\u001b[0m\u001b[0;34m,\u001b[0m \u001b[0;34m**\u001b[0m\u001b[0mk\u001b[0m\u001b[0;34m:\u001b[0m \u001b[0mf\u001b[0m\u001b[0;34m(\u001b[0m\u001b[0;34m*\u001b[0m\u001b[0ma\u001b[0m\u001b[0;34m,\u001b[0m \u001b[0;34m**\u001b[0m\u001b[0mk\u001b[0m\u001b[0;34m)\u001b[0m\u001b[0;34m\u001b[0m\u001b[0;34m\u001b[0m\u001b[0m\n\u001b[0m\u001b[1;32m    188\u001b[0m \u001b[0;34m\u001b[0m\u001b[0m\n\u001b[1;32m    189\u001b[0m         \u001b[0;32mif\u001b[0m \u001b[0mcallable\u001b[0m\u001b[0;34m(\u001b[0m\u001b[0marg\u001b[0m\u001b[0;34m)\u001b[0m\u001b[0;34m:\u001b[0m\u001b[0;34m\u001b[0m\u001b[0;34m\u001b[0m\u001b[0m\n",
      "\u001b[0;32m/anaconda3/envs/myenv/lib/python3.9/site-packages/IPython/core/magics/extension.py\u001b[0m in \u001b[0;36mload_ext\u001b[0;34m(self, module_str)\u001b[0m\n\u001b[1;32m     31\u001b[0m         \u001b[0;32mif\u001b[0m \u001b[0;32mnot\u001b[0m \u001b[0mmodule_str\u001b[0m\u001b[0;34m:\u001b[0m\u001b[0;34m\u001b[0m\u001b[0;34m\u001b[0m\u001b[0m\n\u001b[1;32m     32\u001b[0m             \u001b[0;32mraise\u001b[0m \u001b[0mUsageError\u001b[0m\u001b[0;34m(\u001b[0m\u001b[0;34m'Missing module name.'\u001b[0m\u001b[0;34m)\u001b[0m\u001b[0;34m\u001b[0m\u001b[0;34m\u001b[0m\u001b[0m\n\u001b[0;32m---> 33\u001b[0;31m         \u001b[0mres\u001b[0m \u001b[0;34m=\u001b[0m \u001b[0mself\u001b[0m\u001b[0;34m.\u001b[0m\u001b[0mshell\u001b[0m\u001b[0;34m.\u001b[0m\u001b[0mextension_manager\u001b[0m\u001b[0;34m.\u001b[0m\u001b[0mload_extension\u001b[0m\u001b[0;34m(\u001b[0m\u001b[0mmodule_str\u001b[0m\u001b[0;34m)\u001b[0m\u001b[0;34m\u001b[0m\u001b[0;34m\u001b[0m\u001b[0m\n\u001b[0m\u001b[1;32m     34\u001b[0m \u001b[0;34m\u001b[0m\u001b[0m\n\u001b[1;32m     35\u001b[0m         \u001b[0;32mif\u001b[0m \u001b[0mres\u001b[0m \u001b[0;34m==\u001b[0m \u001b[0;34m'already loaded'\u001b[0m\u001b[0;34m:\u001b[0m\u001b[0;34m\u001b[0m\u001b[0;34m\u001b[0m\u001b[0m\n",
      "\u001b[0;32m/anaconda3/envs/myenv/lib/python3.9/site-packages/IPython/core/extensions.py\u001b[0m in \u001b[0;36mload_extension\u001b[0;34m(self, module_str)\u001b[0m\n\u001b[1;32m     78\u001b[0m             \u001b[0;32mif\u001b[0m \u001b[0mmodule_str\u001b[0m \u001b[0;32mnot\u001b[0m \u001b[0;32min\u001b[0m \u001b[0msys\u001b[0m\u001b[0;34m.\u001b[0m\u001b[0mmodules\u001b[0m\u001b[0;34m:\u001b[0m\u001b[0;34m\u001b[0m\u001b[0;34m\u001b[0m\u001b[0m\n\u001b[1;32m     79\u001b[0m                 \u001b[0;32mwith\u001b[0m \u001b[0mprepended_to_syspath\u001b[0m\u001b[0;34m(\u001b[0m\u001b[0mself\u001b[0m\u001b[0;34m.\u001b[0m\u001b[0mipython_extension_dir\u001b[0m\u001b[0;34m)\u001b[0m\u001b[0;34m:\u001b[0m\u001b[0;34m\u001b[0m\u001b[0;34m\u001b[0m\u001b[0m\n\u001b[0;32m---> 80\u001b[0;31m                     \u001b[0mmod\u001b[0m \u001b[0;34m=\u001b[0m \u001b[0mimport_module\u001b[0m\u001b[0;34m(\u001b[0m\u001b[0mmodule_str\u001b[0m\u001b[0;34m)\u001b[0m\u001b[0;34m\u001b[0m\u001b[0;34m\u001b[0m\u001b[0m\n\u001b[0m\u001b[1;32m     81\u001b[0m                     \u001b[0;32mif\u001b[0m \u001b[0mmod\u001b[0m\u001b[0;34m.\u001b[0m\u001b[0m__file__\u001b[0m\u001b[0;34m.\u001b[0m\u001b[0mstartswith\u001b[0m\u001b[0;34m(\u001b[0m\u001b[0mself\u001b[0m\u001b[0;34m.\u001b[0m\u001b[0mipython_extension_dir\u001b[0m\u001b[0;34m)\u001b[0m\u001b[0;34m:\u001b[0m\u001b[0;34m\u001b[0m\u001b[0;34m\u001b[0m\u001b[0m\n\u001b[1;32m     82\u001b[0m                         print((\"Loading extensions from {dir} is deprecated. \"\n",
      "\u001b[0;32m/anaconda3/envs/myenv/lib/python3.9/importlib/__init__.py\u001b[0m in \u001b[0;36mimport_module\u001b[0;34m(name, package)\u001b[0m\n\u001b[1;32m    125\u001b[0m                 \u001b[0;32mbreak\u001b[0m\u001b[0;34m\u001b[0m\u001b[0;34m\u001b[0m\u001b[0m\n\u001b[1;32m    126\u001b[0m             \u001b[0mlevel\u001b[0m \u001b[0;34m+=\u001b[0m \u001b[0;36m1\u001b[0m\u001b[0;34m\u001b[0m\u001b[0;34m\u001b[0m\u001b[0m\n\u001b[0;32m--> 127\u001b[0;31m     \u001b[0;32mreturn\u001b[0m \u001b[0m_bootstrap\u001b[0m\u001b[0;34m.\u001b[0m\u001b[0m_gcd_import\u001b[0m\u001b[0;34m(\u001b[0m\u001b[0mname\u001b[0m\u001b[0;34m[\u001b[0m\u001b[0mlevel\u001b[0m\u001b[0;34m:\u001b[0m\u001b[0;34m]\u001b[0m\u001b[0;34m,\u001b[0m \u001b[0mpackage\u001b[0m\u001b[0;34m,\u001b[0m \u001b[0mlevel\u001b[0m\u001b[0;34m)\u001b[0m\u001b[0;34m\u001b[0m\u001b[0;34m\u001b[0m\u001b[0m\n\u001b[0m\u001b[1;32m    128\u001b[0m \u001b[0;34m\u001b[0m\u001b[0m\n\u001b[1;32m    129\u001b[0m \u001b[0;34m\u001b[0m\u001b[0m\n",
      "\u001b[0;32m/anaconda3/envs/myenv/lib/python3.9/importlib/_bootstrap.py\u001b[0m in \u001b[0;36m_gcd_import\u001b[0;34m(name, package, level)\u001b[0m\n",
      "\u001b[0;32m/anaconda3/envs/myenv/lib/python3.9/importlib/_bootstrap.py\u001b[0m in \u001b[0;36m_find_and_load\u001b[0;34m(name, import_)\u001b[0m\n",
      "\u001b[0;32m/anaconda3/envs/myenv/lib/python3.9/importlib/_bootstrap.py\u001b[0m in \u001b[0;36m_find_and_load_unlocked\u001b[0;34m(name, import_)\u001b[0m\n",
      "\u001b[0;31mModuleNotFoundError\u001b[0m: No module named 'itikz'"
     ]
    }
   ],
   "source": [
    "%load_ext itikz"
   ]
  },
  {
   "cell_type": "markdown",
   "id": "12f46e5c",
   "metadata": {},
   "source": [
    "Let $f(x)$ be defined by the following graph."
   ]
  },
  {
   "cell_type": "code",
   "execution_count": null,
   "id": "d2bdd438",
   "metadata": {
    "tags": [
     "remove-input"
    ]
   },
   "outputs": [],
   "source": [
    "%%itikz\n",
    "\\documentclass[tikz]{standalone}\n",
    "\\begin{document}\n",
    "\\begin{tikzpicture}[scale=1.5]\n",
    "\\tikzstyle{every node}=[font=\\large]\n",
    "\n",
    "% create a white background, with a black frame\n",
    "%\\draw [fill=white,white] (-7,-5) rectangle (7,5); \n",
    "\n",
    "% draw a grid\n",
    "\\draw[step=10mm, lightgray, thin] (-6.49,-4.49) grid (6.49,4.49); \n",
    "%\\draw[step=1cm, gray] (0,-0) grid (6.5,3.5); \n",
    "\n",
    "% draw axes\n",
    "\\draw [->,thick] (-6.5,0) -- (6.5,0) node[below] {$x$}; \n",
    "\\draw [->,thick] (0,-4.5) -- (0,4.5) node[right] {$y$};\n",
    "\n",
    "% tick marks\n",
    "\\foreach \\x in {-6,-5,...,-1,1,2,...,6} \n",
    "\t\\draw [thick] (\\x cm,2pt) -- (\\x cm,-2pt) node[below] {\\x};\n",
    "\\foreach \\y in {-4,-3,...,-1,1,2,...,4} \n",
    "\t\\draw [thick] (2pt,\\y cm) -- (-2pt,\\y cm) node[left] {\\y};\n",
    "\n",
    "% plot curve\n",
    "\\clip (-7,-4.5) rectangle (7,4.5);\n",
    "\\draw [ultra thick] (-6,10) to [out=-85,in=160] (-3,2) to [out=-20,in=95] (0,-6);\n",
    "\\draw [ultra thick] (0,0) -- (2,2);\n",
    "\\draw [ultra thick] (2,-4) parabola (6,12);\n",
    "\n",
    "% \\plot points\n",
    "\\fill (0,0) circle (3pt);\n",
    "\\draw [fill=white] (2,2) circle (3pt);\n",
    "\\fill (2,-2) circle (3pt);\n",
    "\\draw [fill=white] (2,-4) circle (3pt);\n",
    "\n",
    "\\end{tikzpicture}\n",
    "\\end{document}"
   ]
  },
  {
   "cell_type": "markdown",
   "id": "6542246c",
   "metadata": {},
   "source": [
    "Evaluate $\\lim\\limits_{x \\to a^-} f(x)$, $\\lim\\limits_{x \\to a^+} f(x)$, and $\\lim\\limits_{x \\to a} f(x)$ for $a = -3, 0, 2$.\n",
    "\n",
    "\n",
    "```{admonition} $\\mathbf{a=-3} \\quad$ (Click to show solution)\n",
    ":class: tip, dropdown\n",
    "\n",
    "The two one-sided limits both exist and are both equal to 2.\n",
    "\n",
    "$$\\lim_{x\\to -3^-} f(x)=2  ~~~~~ \\hbox{and} ~~~~~ \\lim_{x\\to -3^+} f(x)=2$$\n",
    "\n",
    "Therefore, the limit exists and $\\lim\\limits_{x\\to -3} f(x) = 2.$\n",
    "```\n",
    "\n",
    "```{admonition} $\\mathbf{a=0} \\quad$ (Click to show solution)\n",
    ":class: tip, dropdown\n",
    "\n",
    "The limit from the left does not exist and the limit from the right exists and is equal to 0.\n",
    "\n",
    "$$\\lim_{x\\to 0^-} f(x) = -\\infty ~~~~~ \\hbox{and} ~~~~~ \\lim_{x\\to 0^+} f(x)=0$$\n",
    "\n",
    "Therefore, $\\lim\\limits_{x\\to 0} f(x)$ does not exist. Observation: If either of the one-sided limits does not exist (DNE) as $x$ approaches $a$, then the $\\lim_{x\\to a} f(x)$ does not exist.\n",
    "```\n",
    "\n",
    "```{admonition} $\\mathbf{a=2} \\quad$ (Click to show solution)\n",
    ":class: tip, dropdown\n",
    "\n",
    "The two one-sided limits both exist, but are not equal to each other.\n",
    "\n",
    "$$\\lim_{x\\to 2^-} f(x)= 2 ~~~~~ \\hbox{and} ~~~~~ \\lim_{x\\to 2^+} f(x)=-4$$\n",
    "\n",
    "Therefore, $\\lim\\limits_{x\\to 2} f(x)$ does not exist.\n",
    "```"
   ]
  },
  {
   "cell_type": "markdown",
   "id": "a53a040a",
   "metadata": {},
   "source": [
    "## Example (Second Graph)\n",
    "\n",
    "Let $f(x)$ be defined by the following graph."
   ]
  },
  {
   "cell_type": "code",
   "execution_count": null,
   "id": "7c2ecc12",
   "metadata": {
    "tags": [
     "remove-input"
    ]
   },
   "outputs": [],
   "source": [
    "%%itikz\n",
    "\\documentclass[tikz]{standalone}\n",
    "\\begin{document}\n",
    "\\begin{tikzpicture}[scale=1.5]\n",
    "\\tikzstyle{every node}=[font=\\large]\n",
    "\n",
    "% create a white background, with a black frame\n",
    "%\\draw [fill=white,white] (-4,-3) rectangle (10,7); \n",
    "\n",
    "% draw a grid\n",
    "\\draw[step=10mm, lightgray, thin] (-3.49,-2.49) grid (9.49,6.49); \n",
    "%\\draw[step=1cm, gray] (0,-0) grid (6.5,3.5); \n",
    "\n",
    "% draw axes\n",
    "\\draw [->,thick] (-3.5,0) -- (9.5,0) node[below] {$x$}; \n",
    "\\draw [->,thick] (0,-2.5) -- (0,6.5) node[right] {$y$};\n",
    "\n",
    "% tick marks\n",
    "\\foreach \\x in {-3,-2,...,-1,1,2,...,9} \n",
    "\t\\draw [thick] (\\x cm,2pt) -- (\\x cm,-2pt) node[below] {\\x};\n",
    "\\foreach \\y in {-2,-1,1,2,...,6} \n",
    "\t\\draw [thick] (2pt,\\y cm) -- (-2pt,\\y cm) node[left] {\\y};\n",
    "\n",
    "\n",
    "% plot curve\n",
    "\\clip (-3.5,-2.5) rectangle (9.5,6.5);\n",
    "\\draw [ultra thick,blue,dashed] (6,-3) -- (6,7);\n",
    "\\draw [ultra thick] (-4,4) parabola bend (-2,0) (-1,1);\n",
    "\\draw [ultra thick] (-1,1) to [out=63,in=200] (0,2) to [out=20,in=243] (1,3);\n",
    "\\draw [ultra thick] (1,3) to [out=0,in=180] (4,1);\n",
    "%\\draw[ultra thick,domain=3:1,smooth,samples=300] plot (\\x,{2+pow((3-\\x)/2,0.33)});\n",
    "%\\draw[ultra thick,domain=3:4,smooth,samples=100] plot (\\x,{2-pow(\\x-3,0.33)});\n",
    "\\draw [ultra thick] (4,4) to [out=25,in=270] (6,10);\n",
    "\\draw [ultra thick] (6,-6) to [out=85,in=200] (10,5);\n",
    "\n",
    "% \\plot points\n",
    "\\draw [fill=white] (-1,1) circle (3pt);\n",
    "\\draw [fill=white] (1,3) circle (3pt);\n",
    "\\fill (1,4) circle (3pt);\n",
    "\\draw [fill=white] (4,4) circle (3pt);\n",
    "\\fill (4,1) circle (3pt);\n",
    "\n",
    "\\end{tikzpicture}\n",
    "\\end{document}"
   ]
  },
  {
   "cell_type": "markdown",
   "id": "81d24cdf",
   "metadata": {},
   "source": [
    "Evaluate $\\lim\\limits_{x \\to a^-} f(x)$, $\\lim\\limits_{x \\to a^+} f(x)$, and $\\lim\\limits_{x \\to a} f(x)$ for $a = -1, 1, 4, 6$.\n",
    "\n",
    "\n",
    "```{admonition} $\\mathbf{a=-1} \\quad$ (Click to show solution)\n",
    ":class: tip, dropdown\n",
    "\n",
    "The two one-sided limits both exist and are both equal to 1.\n",
    "\n",
    "$$\\lim_{x\\to -1^-} f(x)=1  ~~~~~ \\hbox{and} ~~~~~ \\lim_{x\\to -1^+} f(x)=1$$\n",
    "\n",
    "Therefore, the limit exists and $\\lim\\limits_{x\\to -1} f(x) = 1$.  Observation: Although $f(-1)$ is not defined, the limit as $x$ approaches $-1$ still exists.\n",
    "```\n",
    "\n",
    "```{admonition} $\\mathbf{a=1} \\quad$ (Click to show solution)\n",
    ":class: tip, dropdown\n",
    "\n",
    "The two one-sided limits both exist and are both equal to 3.\n",
    "\n",
    "$$\\lim_{x\\to 1^-} f(x)=3  ~~~~~ \\hbox{and} ~~~~~ \\lim_{x\\to 1^+} f(x)=3$$\n",
    "\n",
    "Therefore, the limit exists and $\\lim\\limits_{x\\to 1} f(x) = 3$.  Observation: Although $f(1)$ is defined, it is not equal to the value of the limit as $x$ approaches $1$.\n",
    "```\n",
    "\n",
    "```{admonition} $\\mathbf{a=4} \\quad$ (Click to show solution)\n",
    ":class: tip, dropdown\n",
    "\n",
    "The two one-sided limits both exist, but are not equal to each other.\n",
    "\n",
    "$$\\lim_{x\\to 4^-} f(x)= 1 ~~~~~ \\hbox{and} ~~~~~ \\lim_{x\\to 4^+} f(x)=4$$\n",
    "\n",
    "Therefore, $\\lim\\limits_{x\\to 4} f(x)$ does not exist.\n",
    "```\n",
    "\n",
    "\n",
    "```{admonition} $\\mathbf{a=6} \\quad$ (Click to show solution)\n",
    ":class: tip, dropdown\n",
    "\n",
    "Neither one-sided limit exists.\n",
    "\n",
    "$$\\lim_{x\\to 6^-} f(x) = \\infty ~~~~~ \\hbox{and} ~~~~~ \\lim_{x\\to 6^+} f(x)= -\\infty$$\n",
    "\n",
    "Therefore, $\\lim\\limits_{x\\to 6} f(x)$ does not exist.\n",
    "```"
   ]
  }
 ],
 "metadata": {
  "jupytext": {
   "formats": "ipynb,md:myst",
   "text_representation": {
    "extension": ".md",
    "format_name": "myst",
    "format_version": 0.13,
    "jupytext_version": "1.10.3"
   }
  },
  "kernelspec": {
   "display_name": "Python 3.9.4 64-bit",
   "language": "python",
   "name": "python3"
  },
  "language_info": {
   "codemirror_mode": {
    "name": "ipython",
    "version": 3
   },
   "file_extension": ".py",
   "mimetype": "text/x-python",
   "name": "python",
   "nbconvert_exporter": "python",
   "pygments_lexer": "ipython3",
   "version": "3.9.6"
  },
  "source_map": [
   13,
   19,
   23,
   27,
   67,
   102,
   108,
   155
  ]
 },
 "nbformat": 4,
 "nbformat_minor": 5
}