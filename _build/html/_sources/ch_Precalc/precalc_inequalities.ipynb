{
 "cells": [
  {
   "cell_type": "markdown",
   "id": "5bdd8405",
   "metadata": {},
   "source": [
    "# Solving Inequalities\n",
    "\n",
    "## How to Solve an Inequality\n",
    "\n",
    "In order to find all values of $x$ such that $f(x)>0$ or $f(x)<0$, use the following procedure.\n",
    "\n",
    "```{admonition} Solving an inequality\n",
    ":class: info\n",
    "\n",
    "- Find all values of $x$ such that $f(x) = 0$ or $f(x)$ is not defined.\n",
    "- Use the values found to break up the number line into intervals and select one number from each interval to plug into $f(x)$ to determine if $f(x)$ is positive or negative on that interval.\n",
    "\n",
    "**OR**\n",
    "\n",
    "- Use the values found to help draw the graph of $f(x)$.  Portions of the graph that are above the $x$-axis correspond to values of $x$ where $f(x)>0$ while portions of the graph that are below the $x$-axis correspond to values of $x$ where $f(x) < 0$.\n",
    "```\n",
    "\n",
    "(01_05_example1)=\n",
    "### Example 1\n",
    "\n",
    "Find all values of $x$ such that $x^2 + 2x - 3 > 0$.\n",
    "\n",
    "\n",
    "```{dropdown} **Step 1:** Find all values of $x$ such that $x^2 + 2x - 3 = 0$.\n",
    "\n",
    "Use the AC method to factor $x^2 + 2x - 3$.\n",
    "\n",
    "$$ x^2 + 2x - 3 = (x+3)(x-1)  $$\n",
    "\n",
    "since $3$ and $-1$ are two numbers that multiply to $-3$ and sum to $2$.  Now set each factor equal to zero and solve for $x$.\n",
    "\n",
    "\\begin{align*}\n",
    "x + 3 = 0 ~~~~&\\Rightarrow~~~~ x = -3 \\\\\n",
    "x - 1 = 0 ~~~~&\\Rightarrow~~~~ x = 1 \n",
    "\\end{align*}\n",
    "```\n",
    "\n",
    "Use one of the following two methods to solve the inequality."
   ]
  },
  {
   "cell_type": "code",
   "execution_count": 1,
   "id": "bcb24c04",
   "metadata": {
    "tags": [
     "remove-cell"
    ]
   },
   "outputs": [
    {
     "ename": "ModuleNotFoundError",
     "evalue": "No module named 'itikz'",
     "output_type": "error",
     "traceback": [
      "\u001b[0;31m---------------------------------------------------------------------------\u001b[0m",
      "\u001b[0;31mModuleNotFoundError\u001b[0m                       Traceback (most recent call last)",
      "\u001b[0;32m/var/folders/xz/fhb2zgq551315f5zf88k__ph0000gn/T/ipykernel_70093/3834793611.py\u001b[0m in \u001b[0;36m<module>\u001b[0;34m\u001b[0m\n\u001b[0;32m----> 1\u001b[0;31m \u001b[0mget_ipython\u001b[0m\u001b[0;34m(\u001b[0m\u001b[0;34m)\u001b[0m\u001b[0;34m.\u001b[0m\u001b[0mrun_line_magic\u001b[0m\u001b[0;34m(\u001b[0m\u001b[0;34m'load_ext'\u001b[0m\u001b[0;34m,\u001b[0m \u001b[0;34m'itikz'\u001b[0m\u001b[0;34m)\u001b[0m\u001b[0;34m\u001b[0m\u001b[0;34m\u001b[0m\u001b[0m\n\u001b[0m",
      "\u001b[0;32m/anaconda3/envs/myenv/lib/python3.9/site-packages/IPython/core/interactiveshell.py\u001b[0m in \u001b[0;36mrun_line_magic\u001b[0;34m(self, magic_name, line, _stack_depth)\u001b[0m\n\u001b[1;32m   2346\u001b[0m                 \u001b[0mkwargs\u001b[0m\u001b[0;34m[\u001b[0m\u001b[0;34m'local_ns'\u001b[0m\u001b[0;34m]\u001b[0m \u001b[0;34m=\u001b[0m \u001b[0mself\u001b[0m\u001b[0;34m.\u001b[0m\u001b[0mget_local_scope\u001b[0m\u001b[0;34m(\u001b[0m\u001b[0mstack_depth\u001b[0m\u001b[0;34m)\u001b[0m\u001b[0;34m\u001b[0m\u001b[0;34m\u001b[0m\u001b[0m\n\u001b[1;32m   2347\u001b[0m             \u001b[0;32mwith\u001b[0m \u001b[0mself\u001b[0m\u001b[0;34m.\u001b[0m\u001b[0mbuiltin_trap\u001b[0m\u001b[0;34m:\u001b[0m\u001b[0;34m\u001b[0m\u001b[0;34m\u001b[0m\u001b[0m\n\u001b[0;32m-> 2348\u001b[0;31m                 \u001b[0mresult\u001b[0m \u001b[0;34m=\u001b[0m \u001b[0mfn\u001b[0m\u001b[0;34m(\u001b[0m\u001b[0;34m*\u001b[0m\u001b[0margs\u001b[0m\u001b[0;34m,\u001b[0m \u001b[0;34m**\u001b[0m\u001b[0mkwargs\u001b[0m\u001b[0;34m)\u001b[0m\u001b[0;34m\u001b[0m\u001b[0;34m\u001b[0m\u001b[0m\n\u001b[0m\u001b[1;32m   2349\u001b[0m             \u001b[0;32mreturn\u001b[0m \u001b[0mresult\u001b[0m\u001b[0;34m\u001b[0m\u001b[0;34m\u001b[0m\u001b[0m\n\u001b[1;32m   2350\u001b[0m \u001b[0;34m\u001b[0m\u001b[0m\n",
      "\u001b[0;32m/anaconda3/envs/myenv/lib/python3.9/site-packages/decorator.py\u001b[0m in \u001b[0;36mfun\u001b[0;34m(*args, **kw)\u001b[0m\n\u001b[1;32m    230\u001b[0m             \u001b[0;32mif\u001b[0m \u001b[0;32mnot\u001b[0m \u001b[0mkwsyntax\u001b[0m\u001b[0;34m:\u001b[0m\u001b[0;34m\u001b[0m\u001b[0;34m\u001b[0m\u001b[0m\n\u001b[1;32m    231\u001b[0m                 \u001b[0margs\u001b[0m\u001b[0;34m,\u001b[0m \u001b[0mkw\u001b[0m \u001b[0;34m=\u001b[0m \u001b[0mfix\u001b[0m\u001b[0;34m(\u001b[0m\u001b[0margs\u001b[0m\u001b[0;34m,\u001b[0m \u001b[0mkw\u001b[0m\u001b[0;34m,\u001b[0m \u001b[0msig\u001b[0m\u001b[0;34m)\u001b[0m\u001b[0;34m\u001b[0m\u001b[0;34m\u001b[0m\u001b[0m\n\u001b[0;32m--> 232\u001b[0;31m             \u001b[0;32mreturn\u001b[0m \u001b[0mcaller\u001b[0m\u001b[0;34m(\u001b[0m\u001b[0mfunc\u001b[0m\u001b[0;34m,\u001b[0m \u001b[0;34m*\u001b[0m\u001b[0;34m(\u001b[0m\u001b[0mextras\u001b[0m \u001b[0;34m+\u001b[0m \u001b[0margs\u001b[0m\u001b[0;34m)\u001b[0m\u001b[0;34m,\u001b[0m \u001b[0;34m**\u001b[0m\u001b[0mkw\u001b[0m\u001b[0;34m)\u001b[0m\u001b[0;34m\u001b[0m\u001b[0;34m\u001b[0m\u001b[0m\n\u001b[0m\u001b[1;32m    233\u001b[0m     \u001b[0mfun\u001b[0m\u001b[0;34m.\u001b[0m\u001b[0m__name__\u001b[0m \u001b[0;34m=\u001b[0m \u001b[0mfunc\u001b[0m\u001b[0;34m.\u001b[0m\u001b[0m__name__\u001b[0m\u001b[0;34m\u001b[0m\u001b[0;34m\u001b[0m\u001b[0m\n\u001b[1;32m    234\u001b[0m     \u001b[0mfun\u001b[0m\u001b[0;34m.\u001b[0m\u001b[0m__doc__\u001b[0m \u001b[0;34m=\u001b[0m \u001b[0mfunc\u001b[0m\u001b[0;34m.\u001b[0m\u001b[0m__doc__\u001b[0m\u001b[0;34m\u001b[0m\u001b[0;34m\u001b[0m\u001b[0m\n",
      "\u001b[0;32m/anaconda3/envs/myenv/lib/python3.9/site-packages/IPython/core/magic.py\u001b[0m in \u001b[0;36m<lambda>\u001b[0;34m(f, *a, **k)\u001b[0m\n\u001b[1;32m    185\u001b[0m     \u001b[0;31m# but it's overkill for just that one bit of state.\u001b[0m\u001b[0;34m\u001b[0m\u001b[0;34m\u001b[0m\u001b[0;34m\u001b[0m\u001b[0m\n\u001b[1;32m    186\u001b[0m     \u001b[0;32mdef\u001b[0m \u001b[0mmagic_deco\u001b[0m\u001b[0;34m(\u001b[0m\u001b[0marg\u001b[0m\u001b[0;34m)\u001b[0m\u001b[0;34m:\u001b[0m\u001b[0;34m\u001b[0m\u001b[0;34m\u001b[0m\u001b[0m\n\u001b[0;32m--> 187\u001b[0;31m         \u001b[0mcall\u001b[0m \u001b[0;34m=\u001b[0m \u001b[0;32mlambda\u001b[0m \u001b[0mf\u001b[0m\u001b[0;34m,\u001b[0m \u001b[0;34m*\u001b[0m\u001b[0ma\u001b[0m\u001b[0;34m,\u001b[0m \u001b[0;34m**\u001b[0m\u001b[0mk\u001b[0m\u001b[0;34m:\u001b[0m \u001b[0mf\u001b[0m\u001b[0;34m(\u001b[0m\u001b[0;34m*\u001b[0m\u001b[0ma\u001b[0m\u001b[0;34m,\u001b[0m \u001b[0;34m**\u001b[0m\u001b[0mk\u001b[0m\u001b[0;34m)\u001b[0m\u001b[0;34m\u001b[0m\u001b[0;34m\u001b[0m\u001b[0m\n\u001b[0m\u001b[1;32m    188\u001b[0m \u001b[0;34m\u001b[0m\u001b[0m\n\u001b[1;32m    189\u001b[0m         \u001b[0;32mif\u001b[0m \u001b[0mcallable\u001b[0m\u001b[0;34m(\u001b[0m\u001b[0marg\u001b[0m\u001b[0;34m)\u001b[0m\u001b[0;34m:\u001b[0m\u001b[0;34m\u001b[0m\u001b[0;34m\u001b[0m\u001b[0m\n",
      "\u001b[0;32m/anaconda3/envs/myenv/lib/python3.9/site-packages/IPython/core/magics/extension.py\u001b[0m in \u001b[0;36mload_ext\u001b[0;34m(self, module_str)\u001b[0m\n\u001b[1;32m     31\u001b[0m         \u001b[0;32mif\u001b[0m \u001b[0;32mnot\u001b[0m \u001b[0mmodule_str\u001b[0m\u001b[0;34m:\u001b[0m\u001b[0;34m\u001b[0m\u001b[0;34m\u001b[0m\u001b[0m\n\u001b[1;32m     32\u001b[0m             \u001b[0;32mraise\u001b[0m \u001b[0mUsageError\u001b[0m\u001b[0;34m(\u001b[0m\u001b[0;34m'Missing module name.'\u001b[0m\u001b[0;34m)\u001b[0m\u001b[0;34m\u001b[0m\u001b[0;34m\u001b[0m\u001b[0m\n\u001b[0;32m---> 33\u001b[0;31m         \u001b[0mres\u001b[0m \u001b[0;34m=\u001b[0m \u001b[0mself\u001b[0m\u001b[0;34m.\u001b[0m\u001b[0mshell\u001b[0m\u001b[0;34m.\u001b[0m\u001b[0mextension_manager\u001b[0m\u001b[0;34m.\u001b[0m\u001b[0mload_extension\u001b[0m\u001b[0;34m(\u001b[0m\u001b[0mmodule_str\u001b[0m\u001b[0;34m)\u001b[0m\u001b[0;34m\u001b[0m\u001b[0;34m\u001b[0m\u001b[0m\n\u001b[0m\u001b[1;32m     34\u001b[0m \u001b[0;34m\u001b[0m\u001b[0m\n\u001b[1;32m     35\u001b[0m         \u001b[0;32mif\u001b[0m \u001b[0mres\u001b[0m \u001b[0;34m==\u001b[0m \u001b[0;34m'already loaded'\u001b[0m\u001b[0;34m:\u001b[0m\u001b[0;34m\u001b[0m\u001b[0;34m\u001b[0m\u001b[0m\n",
      "\u001b[0;32m/anaconda3/envs/myenv/lib/python3.9/site-packages/IPython/core/extensions.py\u001b[0m in \u001b[0;36mload_extension\u001b[0;34m(self, module_str)\u001b[0m\n\u001b[1;32m     78\u001b[0m             \u001b[0;32mif\u001b[0m \u001b[0mmodule_str\u001b[0m \u001b[0;32mnot\u001b[0m \u001b[0;32min\u001b[0m \u001b[0msys\u001b[0m\u001b[0;34m.\u001b[0m\u001b[0mmodules\u001b[0m\u001b[0;34m:\u001b[0m\u001b[0;34m\u001b[0m\u001b[0;34m\u001b[0m\u001b[0m\n\u001b[1;32m     79\u001b[0m                 \u001b[0;32mwith\u001b[0m \u001b[0mprepended_to_syspath\u001b[0m\u001b[0;34m(\u001b[0m\u001b[0mself\u001b[0m\u001b[0;34m.\u001b[0m\u001b[0mipython_extension_dir\u001b[0m\u001b[0;34m)\u001b[0m\u001b[0;34m:\u001b[0m\u001b[0;34m\u001b[0m\u001b[0;34m\u001b[0m\u001b[0m\n\u001b[0;32m---> 80\u001b[0;31m                     \u001b[0mmod\u001b[0m \u001b[0;34m=\u001b[0m \u001b[0mimport_module\u001b[0m\u001b[0;34m(\u001b[0m\u001b[0mmodule_str\u001b[0m\u001b[0;34m)\u001b[0m\u001b[0;34m\u001b[0m\u001b[0;34m\u001b[0m\u001b[0m\n\u001b[0m\u001b[1;32m     81\u001b[0m                     \u001b[0;32mif\u001b[0m \u001b[0mmod\u001b[0m\u001b[0;34m.\u001b[0m\u001b[0m__file__\u001b[0m\u001b[0;34m.\u001b[0m\u001b[0mstartswith\u001b[0m\u001b[0;34m(\u001b[0m\u001b[0mself\u001b[0m\u001b[0;34m.\u001b[0m\u001b[0mipython_extension_dir\u001b[0m\u001b[0;34m)\u001b[0m\u001b[0;34m:\u001b[0m\u001b[0;34m\u001b[0m\u001b[0;34m\u001b[0m\u001b[0m\n\u001b[1;32m     82\u001b[0m                         print((\"Loading extensions from {dir} is deprecated. \"\n",
      "\u001b[0;32m/anaconda3/envs/myenv/lib/python3.9/importlib/__init__.py\u001b[0m in \u001b[0;36mimport_module\u001b[0;34m(name, package)\u001b[0m\n\u001b[1;32m    125\u001b[0m                 \u001b[0;32mbreak\u001b[0m\u001b[0;34m\u001b[0m\u001b[0;34m\u001b[0m\u001b[0m\n\u001b[1;32m    126\u001b[0m             \u001b[0mlevel\u001b[0m \u001b[0;34m+=\u001b[0m \u001b[0;36m1\u001b[0m\u001b[0;34m\u001b[0m\u001b[0;34m\u001b[0m\u001b[0m\n\u001b[0;32m--> 127\u001b[0;31m     \u001b[0;32mreturn\u001b[0m \u001b[0m_bootstrap\u001b[0m\u001b[0;34m.\u001b[0m\u001b[0m_gcd_import\u001b[0m\u001b[0;34m(\u001b[0m\u001b[0mname\u001b[0m\u001b[0;34m[\u001b[0m\u001b[0mlevel\u001b[0m\u001b[0;34m:\u001b[0m\u001b[0;34m]\u001b[0m\u001b[0;34m,\u001b[0m \u001b[0mpackage\u001b[0m\u001b[0;34m,\u001b[0m \u001b[0mlevel\u001b[0m\u001b[0;34m)\u001b[0m\u001b[0;34m\u001b[0m\u001b[0;34m\u001b[0m\u001b[0m\n\u001b[0m\u001b[1;32m    128\u001b[0m \u001b[0;34m\u001b[0m\u001b[0m\n\u001b[1;32m    129\u001b[0m \u001b[0;34m\u001b[0m\u001b[0m\n",
      "\u001b[0;32m/anaconda3/envs/myenv/lib/python3.9/importlib/_bootstrap.py\u001b[0m in \u001b[0;36m_gcd_import\u001b[0;34m(name, package, level)\u001b[0m\n",
      "\u001b[0;32m/anaconda3/envs/myenv/lib/python3.9/importlib/_bootstrap.py\u001b[0m in \u001b[0;36m_find_and_load\u001b[0;34m(name, import_)\u001b[0m\n",
      "\u001b[0;32m/anaconda3/envs/myenv/lib/python3.9/importlib/_bootstrap.py\u001b[0m in \u001b[0;36m_find_and_load_unlocked\u001b[0;34m(name, import_)\u001b[0m\n",
      "\u001b[0;31mModuleNotFoundError\u001b[0m: No module named 'itikz'"
     ]
    }
   ],
   "source": [
    "%load_ext itikz"
   ]
  },
  {
   "cell_type": "markdown",
   "id": "d763aef4",
   "metadata": {},
   "source": [
    "```{admonition} Method 1\n",
    ":class: tip\n",
    "\n",
    "- Use the values of $x$ found in **Step 1** to break up the number line and plug in one value from each interval into $f(x) = (x+3)(x-1)$. \n",
    "\n",
    "- Since $f(-3) = 0$ and $f(1) = 0$, pick one value less $-3$, one value between $-3$ and $1$, and one value greater than $1$.  For example, since $f(-4) = 5 > 0$, $f(x) >0 $ for all $x < -3$.  And since $f(2) = 5 > 0$, $f(x)>0$ for all $x > 1$.  However, $f(0) = -3 < 0$, and therefore $f(x) < 0$ for all $-3<x<1$. \n",
    "```\n",
    "\n",
    "The calculations of method 1 are summarized in the following diagram."
   ]
  },
  {
   "cell_type": "code",
   "execution_count": null,
   "id": "a4e3edd5",
   "metadata": {
    "tags": [
     "remove-input"
    ]
   },
   "outputs": [],
   "source": [
    "%%itikz\n",
    "\\documentclass[tikz]{standalone}\n",
    "\\begin{document}\n",
    "\\begin{tikzpicture}[scale=1]\n",
    "\\draw[white,fill=white] (-9.5,-1) rectangle (4,1);\n",
    "\\draw[->](-6,0) -- (4,0) ;\n",
    "\\foreach \\x in {-3, 1}\n",
    "\t\\draw (\\x, 6pt) -- (\\x, -6pt) node[below, scale=1.5] {$\\x$};\n",
    "\t\n",
    "\\node[above, scale=1.5] at (-4,0){$+$};\n",
    "\\node[above, scale=1.5] at (0,0){$-$};\n",
    "\\node[above, scale=1.5] at (2,0){$+$};\n",
    "\n",
    "\t\\draw (-4, 3pt) -- (-4, -3pt) node[below, scale=1.5] {$-4$} ;\n",
    "\t\\draw (0, 3pt) -- (0, -3pt) node[below, scale=1.5] {$0$} ;\n",
    "\t\\draw (2, 3pt) -- (2, -3pt) node[below, scale=1.5] {$2$} ;\n",
    "\n",
    "\\node[left, scale=1.5] at (-6,0.5){sign of $f(x)$};\n",
    "\\end{tikzpicture} \n",
    "\\end{document}"
   ]
  },
  {
   "cell_type": "markdown",
   "id": "4de07102",
   "metadata": {},
   "source": [
    "Therefore, $x^2+2x-3 >0$ whenever $x<-3$ or $x>1$.\n",
    "\n",
    "\n",
    "```{admonition} Method 2\n",
    ":class: tip\n",
    "\n",
    "Sketch the graph of $y=x^2+2x-3$ by drawing a parabola that opens upward and goes through the points $(-3,0)$ and $(1,0)$.\n",
    "```"
   ]
  },
  {
   "cell_type": "code",
   "execution_count": null,
   "id": "50ccb8ce",
   "metadata": {
    "tags": [
     "remove-input"
    ]
   },
   "outputs": [],
   "source": [
    "%%itikz\n",
    "\\documentclass[tikz]{standalone}\n",
    "\\begin {document}\n",
    "\\begin{tikzpicture}[xscale=1,yscale=0.6]\n",
    "\n",
    "\\draw[white,fill=white] (-5.3,-5.3) rectangle (3.3,5.3);\n",
    "%\\draw[very thin,color=lightgray,step=1] (-4.9,-4.9) grid (2.9,4.9);\n",
    "\n",
    "\\draw[->] (-5,0) -- (3,0) node[below] {$x$};\n",
    "\\draw[->] (0,-5) -- (0,5) node[right] {$y$};\n",
    "       \n",
    "\\draw [fill=black] (-3,0) ellipse [x radius = 0.15, y radius = 0.25];\n",
    "\\draw [fill=black] (1,0) ellipse [x radius = 0.15, y radius = 0.25];\n",
    "\n",
    "% tick marks\n",
    "\\foreach \\x in {-4,-2,2} \n",
    "\t\\draw [thick] (\\x cm,6pt) -- (\\x cm,-6pt) node[below] {$\\x$};\n",
    "\\foreach \\y in {} \n",
    "\t\\draw [thick] (-2pt,\\y cm) -- (2pt,\\y cm) node[right] {$\\y$};\n",
    "\t\n",
    "\\clip (-6,-5) rectangle (6,5);\n",
    "\\draw[domain=-4:2,smooth,variable=\\x,black,ultra thick] plot ({\\x},{\\x*\\x + 2*\\x - 3}); \n",
    "%\\node at (4.1, 4.5){$y = x^2 + 2x - 3$};\n",
    "\\end{tikzpicture}\n",
    "\\end{document}"
   ]
  },
  {
   "cell_type": "markdown",
   "id": "e1a49db2",
   "metadata": {},
   "source": [
    "Finding values of $x$ such that $x^2+2x-3 > 0$ is equivalent to identifying the portions of the graph of $x^2+2x-3$ that are above the $x$-axis.  Based on the graph shown above, $x^2+2x-3 >0$ whenever $x<-3$ or $x>1$.\n",
    "\n",
    "\n",
    "\n",
    "\n",
    "\n",
    "### Example 2\n",
    "Find all values of $x$ such that $\\dfrac{x^2(x^2+3)}{(4-x^2)^3} < 0$.\n",
    "\n",
    "\n",
    "\n",
    "```{dropdown} **Step 1:** Find all $x$ such that $\\frac{x^2(x^2+3)}{(4-x^2)^3} = 0$ or is not defined. \n",
    "\n",
    "$\\frac{x^2(x^2+3)}{(4-x^2)^3} = 0$ whenever the numerator is equal to zero, which only happens when $x=0$ (since $x^2+3$ is never equal to zero).\n",
    "\n",
    "$\\frac{x^2(x^2+3)}{(4-x^2)^3}$ is not defined whenever the denominator is equal to zero, which only happens when $x=-2$ or $x=2$.\n",
    "```\n",
    "\n",
    "\n",
    "Use one of the following two methods to solve the inequality. \n",
    "\n",
    "```{admonition} Method 1\n",
    ":class: tip\n",
    "\n",
    "Break up the number line at $x=-2$, $x=0$, and $x=2$ and plug in one value from each interval to determine the sign of $f(x) = \\frac{x^2(x^2+3)}{(4-x^2)^3}$ on that interval.\n",
    "```"
   ]
  },
  {
   "cell_type": "code",
   "execution_count": null,
   "id": "12441519",
   "metadata": {
    "tags": [
     "remove-input"
    ]
   },
   "outputs": [],
   "source": [
    "%%itikz\n",
    "\\documentclass[tikz]{standalone}\n",
    "\\begin {document}\n",
    "\\begin{tikzpicture}[scale=1.5]\n",
    "\\draw[white,fill=white] (-6.5,-0.6) rectangle (4,0.6);\n",
    "\\draw[->](-4,0) -- (4,0) ;\n",
    "\\foreach \\x in {-2,0,2}\n",
    "\t\\draw (\\x, 3pt) -- (\\x, -3pt) node[below, scale=1.5] {$\\x$} ;\n",
    "\t\n",
    "\\node[above, scale=1.5] at (-3,0){$-$};\n",
    "\\node[above, scale=1.5] at (-1,0){$+$};\n",
    "\\node[above, scale=1.5] at (1,0){$+$} ;\n",
    "\\node[above, scale=1.5] at (3,0){$-$} ;\n",
    "\n",
    "\t\\draw (-3, 2pt) -- (-3, -2pt) node[below, scale=1.5] {$-3$} ;\n",
    "\t\\draw (-1, 2pt) -- (-1, -2pt) node[below, scale=1.5] { $-1$} ;\n",
    "\t\\draw (1, 2pt) -- (1, -2pt) node[below, scale=1.5] { $1$} ;\n",
    "\t\\draw (3, 2pt) -- (3, -2pt) node[below, scale=1.5] {$3$} ;\n",
    "\n",
    "\\node[left, scale=1.5] at (-4,0.25){sign of $f(x)$};\n",
    "\n",
    "\\end{tikzpicture} \n",
    "\\end{document}"
   ]
  },
  {
   "cell_type": "markdown",
   "id": "f72486cf",
   "metadata": {},
   "source": [
    "Therefore, $\\frac{x^2(x^2+3)}{(4-x^2)^3} < 0$ when $x<-2$ or $x>2$.\n",
    "\n",
    "\n",
    "```{admonition} Method 2\n",
    ":class: tip\n",
    "\n",
    "Break up the number line at $x=-2$, $x=0$, and $x=2$ and plug in one value from each interval to determine the sign of $f(x) = \\frac{x^2(x^2+3)}{(4-x^2)^3}$ on that interval.\n",
    "\n",
    "Notice that $x^2$ and $x^2+3$ are both positive for $x\\neq 0$, therefore $\\frac{x^2(x^2+3)}{(4-x^2)^3}<0$ whenever $4-x^2 < 0$.\n",
    "```"
   ]
  },
  {
   "cell_type": "code",
   "execution_count": null,
   "id": "f6eba5f8",
   "metadata": {
    "tags": [
     "remove-input"
    ]
   },
   "outputs": [],
   "source": [
    "%%itikz\n",
    "\\documentclass[tikz]{standalone}\n",
    "\\begin {document}\n",
    "\\begin{tikzpicture}[xscale=1,yscale=0.6]\n",
    "\n",
    "\\draw[white,fill=white] (-4.3,-5.3) rectangle (4.3,5.3);\n",
    "%\\draw[very thin,color=lightgray,step=1] (-4.9,-4.9) grid (2.9,4.9);\n",
    "\n",
    "\\draw[->] (-4,0) -- (4,0) node[below] {$x$};\n",
    "\\draw[->] (0,-5) -- (0,5) node[right] {$y$};\n",
    "       \n",
    "\\draw [fill=black] (-2,0) ellipse [x radius = 0.15, y radius = 0.25];\n",
    "\\draw [fill=black] (2,0) ellipse [x radius = 0.15, y radius = 0.25];\n",
    "\n",
    "% tick marks\n",
    "\\foreach \\x in {-3,-1,1,3} \n",
    "\t\\draw [thick] (\\x cm,6pt) -- (\\x cm,-6pt) node[below] {$\\x$};\n",
    "\\foreach \\y in {} \n",
    "\t\\draw [thick] (-2pt,\\y cm) -- (2pt,\\y cm) node[right] {$\\y$};\n",
    "\t\n",
    "\\clip (-6,-5) rectangle (6,5);\n",
    "\\draw[domain=-3:3,smooth,variable=\\x,black,ultra thick] plot ({\\x},{4 - \\x*\\x}); \n",
    "%\\node at (4.1, 4.5){$y = x^2 + 2x - 3$};\n",
    "\\end{tikzpicture}\n",
    "\\end{document}"
   ]
  },
  {
   "cell_type": "markdown",
   "id": "9c3fc35f",
   "metadata": {},
   "source": [
    "The graph of $y = 4-x^2$ as shown above is below the $x$-axis (i.e., $4-x^2 < 0$) if $x<-2$ or $x>2$.  Therefore, $\\frac{x^2(x^2+3)}{(4-x^2)^3} < 0$ when $x<-2$ or $x>2$."
   ]
  }
 ],
 "metadata": {
  "jupytext": {
   "formats": "ipynb,md:myst",
   "text_representation": {
    "extension": ".md",
    "format_name": "myst",
    "format_version": 0.13,
    "jupytext_version": "1.10.3"
   }
  },
  "kernelspec": {
   "display_name": "Python 3.9.4 64-bit",
   "language": "python",
   "name": "python3"
  },
  "language_info": {
   "codemirror_mode": {
    "name": "ipython",
    "version": 3
   },
   "file_extension": ".py",
   "mimetype": "text/x-python",
   "name": "python",
   "nbconvert_exporter": "python",
   "pygments_lexer": "ipython3",
   "version": "3.9.6"
  },
  "source_map": [
   13,
   53,
   57,
   69,
   92,
   103,
   131,
   161,
   187,
   201,
   229
  ]
 },
 "nbformat": 4,
 "nbformat_minor": 5
}