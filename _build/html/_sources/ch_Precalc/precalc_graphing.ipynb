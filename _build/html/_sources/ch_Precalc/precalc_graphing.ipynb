{
 "cells": [
  {
   "cell_type": "markdown",
   "id": "a22068a2",
   "metadata": {},
   "source": [
    "# Graphing\n",
    "\n",
    "## Equations for a Line\n",
    "\n",
    "### Slope-Intercept Form\n",
    "The equation of the line with slope $m$ and $y$-intercept equal to $b$ is\n",
    "\n",
    "$$\n",
    "\\boxed{y = mx + b}\n",
    "$$"
   ]
  },
  {
   "cell_type": "code",
   "execution_count": 1,
   "id": "a79a15cb",
   "metadata": {
    "tags": [
     "remove-cell"
    ]
   },
   "outputs": [
    {
     "ename": "ModuleNotFoundError",
     "evalue": "No module named 'itikz'",
     "output_type": "error",
     "traceback": [
      "\u001b[0;31m---------------------------------------------------------------------------\u001b[0m",
      "\u001b[0;31mModuleNotFoundError\u001b[0m                       Traceback (most recent call last)",
      "\u001b[0;32m/var/folders/xz/fhb2zgq551315f5zf88k__ph0000gn/T/ipykernel_70082/3834793611.py\u001b[0m in \u001b[0;36m<module>\u001b[0;34m\u001b[0m\n\u001b[0;32m----> 1\u001b[0;31m \u001b[0mget_ipython\u001b[0m\u001b[0;34m(\u001b[0m\u001b[0;34m)\u001b[0m\u001b[0;34m.\u001b[0m\u001b[0mrun_line_magic\u001b[0m\u001b[0;34m(\u001b[0m\u001b[0;34m'load_ext'\u001b[0m\u001b[0;34m,\u001b[0m \u001b[0;34m'itikz'\u001b[0m\u001b[0;34m)\u001b[0m\u001b[0;34m\u001b[0m\u001b[0;34m\u001b[0m\u001b[0m\n\u001b[0m",
      "\u001b[0;32m/anaconda3/envs/myenv/lib/python3.9/site-packages/IPython/core/interactiveshell.py\u001b[0m in \u001b[0;36mrun_line_magic\u001b[0;34m(self, magic_name, line, _stack_depth)\u001b[0m\n\u001b[1;32m   2346\u001b[0m                 \u001b[0mkwargs\u001b[0m\u001b[0;34m[\u001b[0m\u001b[0;34m'local_ns'\u001b[0m\u001b[0;34m]\u001b[0m \u001b[0;34m=\u001b[0m \u001b[0mself\u001b[0m\u001b[0;34m.\u001b[0m\u001b[0mget_local_scope\u001b[0m\u001b[0;34m(\u001b[0m\u001b[0mstack_depth\u001b[0m\u001b[0;34m)\u001b[0m\u001b[0;34m\u001b[0m\u001b[0;34m\u001b[0m\u001b[0m\n\u001b[1;32m   2347\u001b[0m             \u001b[0;32mwith\u001b[0m \u001b[0mself\u001b[0m\u001b[0;34m.\u001b[0m\u001b[0mbuiltin_trap\u001b[0m\u001b[0;34m:\u001b[0m\u001b[0;34m\u001b[0m\u001b[0;34m\u001b[0m\u001b[0m\n\u001b[0;32m-> 2348\u001b[0;31m                 \u001b[0mresult\u001b[0m \u001b[0;34m=\u001b[0m \u001b[0mfn\u001b[0m\u001b[0;34m(\u001b[0m\u001b[0;34m*\u001b[0m\u001b[0margs\u001b[0m\u001b[0;34m,\u001b[0m \u001b[0;34m**\u001b[0m\u001b[0mkwargs\u001b[0m\u001b[0;34m)\u001b[0m\u001b[0;34m\u001b[0m\u001b[0;34m\u001b[0m\u001b[0m\n\u001b[0m\u001b[1;32m   2349\u001b[0m             \u001b[0;32mreturn\u001b[0m \u001b[0mresult\u001b[0m\u001b[0;34m\u001b[0m\u001b[0;34m\u001b[0m\u001b[0m\n\u001b[1;32m   2350\u001b[0m \u001b[0;34m\u001b[0m\u001b[0m\n",
      "\u001b[0;32m/anaconda3/envs/myenv/lib/python3.9/site-packages/decorator.py\u001b[0m in \u001b[0;36mfun\u001b[0;34m(*args, **kw)\u001b[0m\n\u001b[1;32m    230\u001b[0m             \u001b[0;32mif\u001b[0m \u001b[0;32mnot\u001b[0m \u001b[0mkwsyntax\u001b[0m\u001b[0;34m:\u001b[0m\u001b[0;34m\u001b[0m\u001b[0;34m\u001b[0m\u001b[0m\n\u001b[1;32m    231\u001b[0m                 \u001b[0margs\u001b[0m\u001b[0;34m,\u001b[0m \u001b[0mkw\u001b[0m \u001b[0;34m=\u001b[0m \u001b[0mfix\u001b[0m\u001b[0;34m(\u001b[0m\u001b[0margs\u001b[0m\u001b[0;34m,\u001b[0m \u001b[0mkw\u001b[0m\u001b[0;34m,\u001b[0m \u001b[0msig\u001b[0m\u001b[0;34m)\u001b[0m\u001b[0;34m\u001b[0m\u001b[0;34m\u001b[0m\u001b[0m\n\u001b[0;32m--> 232\u001b[0;31m             \u001b[0;32mreturn\u001b[0m \u001b[0mcaller\u001b[0m\u001b[0;34m(\u001b[0m\u001b[0mfunc\u001b[0m\u001b[0;34m,\u001b[0m \u001b[0;34m*\u001b[0m\u001b[0;34m(\u001b[0m\u001b[0mextras\u001b[0m \u001b[0;34m+\u001b[0m \u001b[0margs\u001b[0m\u001b[0;34m)\u001b[0m\u001b[0;34m,\u001b[0m \u001b[0;34m**\u001b[0m\u001b[0mkw\u001b[0m\u001b[0;34m)\u001b[0m\u001b[0;34m\u001b[0m\u001b[0;34m\u001b[0m\u001b[0m\n\u001b[0m\u001b[1;32m    233\u001b[0m     \u001b[0mfun\u001b[0m\u001b[0;34m.\u001b[0m\u001b[0m__name__\u001b[0m \u001b[0;34m=\u001b[0m \u001b[0mfunc\u001b[0m\u001b[0;34m.\u001b[0m\u001b[0m__name__\u001b[0m\u001b[0;34m\u001b[0m\u001b[0;34m\u001b[0m\u001b[0m\n\u001b[1;32m    234\u001b[0m     \u001b[0mfun\u001b[0m\u001b[0;34m.\u001b[0m\u001b[0m__doc__\u001b[0m \u001b[0;34m=\u001b[0m \u001b[0mfunc\u001b[0m\u001b[0;34m.\u001b[0m\u001b[0m__doc__\u001b[0m\u001b[0;34m\u001b[0m\u001b[0;34m\u001b[0m\u001b[0m\n",
      "\u001b[0;32m/anaconda3/envs/myenv/lib/python3.9/site-packages/IPython/core/magic.py\u001b[0m in \u001b[0;36m<lambda>\u001b[0;34m(f, *a, **k)\u001b[0m\n\u001b[1;32m    185\u001b[0m     \u001b[0;31m# but it's overkill for just that one bit of state.\u001b[0m\u001b[0;34m\u001b[0m\u001b[0;34m\u001b[0m\u001b[0;34m\u001b[0m\u001b[0m\n\u001b[1;32m    186\u001b[0m     \u001b[0;32mdef\u001b[0m \u001b[0mmagic_deco\u001b[0m\u001b[0;34m(\u001b[0m\u001b[0marg\u001b[0m\u001b[0;34m)\u001b[0m\u001b[0;34m:\u001b[0m\u001b[0;34m\u001b[0m\u001b[0;34m\u001b[0m\u001b[0m\n\u001b[0;32m--> 187\u001b[0;31m         \u001b[0mcall\u001b[0m \u001b[0;34m=\u001b[0m \u001b[0;32mlambda\u001b[0m \u001b[0mf\u001b[0m\u001b[0;34m,\u001b[0m \u001b[0;34m*\u001b[0m\u001b[0ma\u001b[0m\u001b[0;34m,\u001b[0m \u001b[0;34m**\u001b[0m\u001b[0mk\u001b[0m\u001b[0;34m:\u001b[0m \u001b[0mf\u001b[0m\u001b[0;34m(\u001b[0m\u001b[0;34m*\u001b[0m\u001b[0ma\u001b[0m\u001b[0;34m,\u001b[0m \u001b[0;34m**\u001b[0m\u001b[0mk\u001b[0m\u001b[0;34m)\u001b[0m\u001b[0;34m\u001b[0m\u001b[0;34m\u001b[0m\u001b[0m\n\u001b[0m\u001b[1;32m    188\u001b[0m \u001b[0;34m\u001b[0m\u001b[0m\n\u001b[1;32m    189\u001b[0m         \u001b[0;32mif\u001b[0m \u001b[0mcallable\u001b[0m\u001b[0;34m(\u001b[0m\u001b[0marg\u001b[0m\u001b[0;34m)\u001b[0m\u001b[0;34m:\u001b[0m\u001b[0;34m\u001b[0m\u001b[0;34m\u001b[0m\u001b[0m\n",
      "\u001b[0;32m/anaconda3/envs/myenv/lib/python3.9/site-packages/IPython/core/magics/extension.py\u001b[0m in \u001b[0;36mload_ext\u001b[0;34m(self, module_str)\u001b[0m\n\u001b[1;32m     31\u001b[0m         \u001b[0;32mif\u001b[0m \u001b[0;32mnot\u001b[0m \u001b[0mmodule_str\u001b[0m\u001b[0;34m:\u001b[0m\u001b[0;34m\u001b[0m\u001b[0;34m\u001b[0m\u001b[0m\n\u001b[1;32m     32\u001b[0m             \u001b[0;32mraise\u001b[0m \u001b[0mUsageError\u001b[0m\u001b[0;34m(\u001b[0m\u001b[0;34m'Missing module name.'\u001b[0m\u001b[0;34m)\u001b[0m\u001b[0;34m\u001b[0m\u001b[0;34m\u001b[0m\u001b[0m\n\u001b[0;32m---> 33\u001b[0;31m         \u001b[0mres\u001b[0m \u001b[0;34m=\u001b[0m \u001b[0mself\u001b[0m\u001b[0;34m.\u001b[0m\u001b[0mshell\u001b[0m\u001b[0;34m.\u001b[0m\u001b[0mextension_manager\u001b[0m\u001b[0;34m.\u001b[0m\u001b[0mload_extension\u001b[0m\u001b[0;34m(\u001b[0m\u001b[0mmodule_str\u001b[0m\u001b[0;34m)\u001b[0m\u001b[0;34m\u001b[0m\u001b[0;34m\u001b[0m\u001b[0m\n\u001b[0m\u001b[1;32m     34\u001b[0m \u001b[0;34m\u001b[0m\u001b[0m\n\u001b[1;32m     35\u001b[0m         \u001b[0;32mif\u001b[0m \u001b[0mres\u001b[0m \u001b[0;34m==\u001b[0m \u001b[0;34m'already loaded'\u001b[0m\u001b[0;34m:\u001b[0m\u001b[0;34m\u001b[0m\u001b[0;34m\u001b[0m\u001b[0m\n",
      "\u001b[0;32m/anaconda3/envs/myenv/lib/python3.9/site-packages/IPython/core/extensions.py\u001b[0m in \u001b[0;36mload_extension\u001b[0;34m(self, module_str)\u001b[0m\n\u001b[1;32m     78\u001b[0m             \u001b[0;32mif\u001b[0m \u001b[0mmodule_str\u001b[0m \u001b[0;32mnot\u001b[0m \u001b[0;32min\u001b[0m \u001b[0msys\u001b[0m\u001b[0;34m.\u001b[0m\u001b[0mmodules\u001b[0m\u001b[0;34m:\u001b[0m\u001b[0;34m\u001b[0m\u001b[0;34m\u001b[0m\u001b[0m\n\u001b[1;32m     79\u001b[0m                 \u001b[0;32mwith\u001b[0m \u001b[0mprepended_to_syspath\u001b[0m\u001b[0;34m(\u001b[0m\u001b[0mself\u001b[0m\u001b[0;34m.\u001b[0m\u001b[0mipython_extension_dir\u001b[0m\u001b[0;34m)\u001b[0m\u001b[0;34m:\u001b[0m\u001b[0;34m\u001b[0m\u001b[0;34m\u001b[0m\u001b[0m\n\u001b[0;32m---> 80\u001b[0;31m                     \u001b[0mmod\u001b[0m \u001b[0;34m=\u001b[0m \u001b[0mimport_module\u001b[0m\u001b[0;34m(\u001b[0m\u001b[0mmodule_str\u001b[0m\u001b[0;34m)\u001b[0m\u001b[0;34m\u001b[0m\u001b[0;34m\u001b[0m\u001b[0m\n\u001b[0m\u001b[1;32m     81\u001b[0m                     \u001b[0;32mif\u001b[0m \u001b[0mmod\u001b[0m\u001b[0;34m.\u001b[0m\u001b[0m__file__\u001b[0m\u001b[0;34m.\u001b[0m\u001b[0mstartswith\u001b[0m\u001b[0;34m(\u001b[0m\u001b[0mself\u001b[0m\u001b[0;34m.\u001b[0m\u001b[0mipython_extension_dir\u001b[0m\u001b[0;34m)\u001b[0m\u001b[0;34m:\u001b[0m\u001b[0;34m\u001b[0m\u001b[0;34m\u001b[0m\u001b[0m\n\u001b[1;32m     82\u001b[0m                         print((\"Loading extensions from {dir} is deprecated. \"\n",
      "\u001b[0;32m/anaconda3/envs/myenv/lib/python3.9/importlib/__init__.py\u001b[0m in \u001b[0;36mimport_module\u001b[0;34m(name, package)\u001b[0m\n\u001b[1;32m    125\u001b[0m                 \u001b[0;32mbreak\u001b[0m\u001b[0;34m\u001b[0m\u001b[0;34m\u001b[0m\u001b[0m\n\u001b[1;32m    126\u001b[0m             \u001b[0mlevel\u001b[0m \u001b[0;34m+=\u001b[0m \u001b[0;36m1\u001b[0m\u001b[0;34m\u001b[0m\u001b[0;34m\u001b[0m\u001b[0m\n\u001b[0;32m--> 127\u001b[0;31m     \u001b[0;32mreturn\u001b[0m \u001b[0m_bootstrap\u001b[0m\u001b[0;34m.\u001b[0m\u001b[0m_gcd_import\u001b[0m\u001b[0;34m(\u001b[0m\u001b[0mname\u001b[0m\u001b[0;34m[\u001b[0m\u001b[0mlevel\u001b[0m\u001b[0;34m:\u001b[0m\u001b[0;34m]\u001b[0m\u001b[0;34m,\u001b[0m \u001b[0mpackage\u001b[0m\u001b[0;34m,\u001b[0m \u001b[0mlevel\u001b[0m\u001b[0;34m)\u001b[0m\u001b[0;34m\u001b[0m\u001b[0;34m\u001b[0m\u001b[0m\n\u001b[0m\u001b[1;32m    128\u001b[0m \u001b[0;34m\u001b[0m\u001b[0m\n\u001b[1;32m    129\u001b[0m \u001b[0;34m\u001b[0m\u001b[0m\n",
      "\u001b[0;32m/anaconda3/envs/myenv/lib/python3.9/importlib/_bootstrap.py\u001b[0m in \u001b[0;36m_gcd_import\u001b[0;34m(name, package, level)\u001b[0m\n",
      "\u001b[0;32m/anaconda3/envs/myenv/lib/python3.9/importlib/_bootstrap.py\u001b[0m in \u001b[0;36m_find_and_load\u001b[0;34m(name, import_)\u001b[0m\n",
      "\u001b[0;32m/anaconda3/envs/myenv/lib/python3.9/importlib/_bootstrap.py\u001b[0m in \u001b[0;36m_find_and_load_unlocked\u001b[0;34m(name, import_)\u001b[0m\n",
      "\u001b[0;31mModuleNotFoundError\u001b[0m: No module named 'itikz'"
     ]
    }
   ],
   "source": [
    "%load_ext itikz"
   ]
  },
  {
   "cell_type": "code",
   "execution_count": null,
   "id": "df521a99",
   "metadata": {
    "tags": [
     "remove-input"
    ]
   },
   "outputs": [],
   "source": [
    "%%itikz\n",
    "\\documentclass[tikz]{standalone}\n",
    "\\begin{document}\n",
    "\\begin{tikzpicture}[scale=2.5]\n",
    "    \\draw[white,fill=white] (-2,-1.5) rectangle (2.2,2.2);\n",
    "    \\draw[->] (-2,0) -- (2,0) node[below] {$x$};\n",
    "    \\draw[->] (0,-1.5) -- (0,2) node[right] {$y$};\n",
    "    \\draw[domain=-2:2,smooth,variable=\\x,black,ultra thick] plot ({\\x},{0.75*\\x+0.5});\n",
    "    \\draw (0.2,0.5) -- (-0.2,0.5) node[left] {$b$};\n",
    "\\end{tikzpicture}\n",
    "\\end{document}"
   ]
  },
  {
   "cell_type": "markdown",
   "id": "7f2f9d17",
   "metadata": {},
   "source": [
    "### Point-Slope Form\n",
    "The equation of the line with slope $m$ that goes through the point $(a,b)$ is\n",
    "\n",
    "$$\n",
    "\\boxed{y - b = m(x-a)}\n",
    "$$"
   ]
  },
  {
   "cell_type": "code",
   "execution_count": null,
   "id": "a69f4e0a",
   "metadata": {
    "tags": [
     "remove-input"
    ]
   },
   "outputs": [],
   "source": [
    "%%itikz\n",
    "\\documentclass[tikz]{standalone}\n",
    "\\begin{document}\n",
    "\\begin{tikzpicture}[scale=2.5]\n",
    "\\draw[white,fill=white] (-1.5,-1.5) rectangle (2.7,2.2);\n",
    "      \\draw[->] (-1.5,0) -- (2.5,0) node[below] {$x$};\n",
    "      \\draw[->] (0,-1.5) -- (0,2) node[right] {$y$};\n",
    "      \\draw[domain=-1.5:2,smooth,variable=\\x,black,ultra thick] plot ({\\x},{0.75*\\x+0.5});\n",
    "      \\fill (1,1.25) circle [radius = 2pt] node[below right] {$(a,b)$};\n",
    "    \\end{tikzpicture}\n",
    "\\end{document}"
   ]
  },
  {
   "cell_type": "markdown",
   "id": "f5a3babc",
   "metadata": {},
   "source": [
    "Recall that a positive slope means that the line goes up from left-to-right and a negative slope means that the line goes down from left-to-right.\n",
    "\n",
    "\n",
    "### Example 1\n",
    "Sketch the graph of the line defined by  $y = 2x + 3$.\n",
    "\n",
    "```{admonition} Step 1: Determine slope and $y$-intercept\n",
    ":class: tip\n",
    "\n",
    "Since $y=2x+3$ is in slope-intercept form, the line has slope $2$ and a $y$-intercept of $3$. \n",
    "```\n",
    "\n",
    "Once we know slope and $y$-intercept, we can draw the graph."
   ]
  },
  {
   "cell_type": "code",
   "execution_count": null,
   "id": "6aa96fb2",
   "metadata": {
    "tags": [
     "remove-input"
    ]
   },
   "outputs": [],
   "source": [
    "%%itikz\n",
    "\\documentclass[tikz]{standalone}\n",
    "\\begin{document}\n",
    "\\begin{tikzpicture}[scale=1.0]\n",
    "\\draw[black,fill=white] (-6.5,-4.5) rectangle (6.5,8.5);\n",
    "%\\draw[very thin,color=darkgray,step=3] (-8,-5) grid (8,8.9);\n",
    "\\draw[very thin,color=lightgray,step=1] (-5.9,-3.9) grid (5.9,7.9);\n",
    "\\draw[->] (-6,0) -- (6,0) node[below] {$x$};\n",
    "\\draw[->] (0,-4) -- (0,8) node[right] {$y$};\n",
    "\\node at (3.8, 6.5){$y = 2x+3$};\n",
    "\n",
    "% draw slope\n",
    "\\draw[dashed,red,thick] (-3,-3) -| ++(1,2) -| ++(1,2) -| ++(1,2) -| ++(1,2) -| ++(1,2);\n",
    "% draw line and point\n",
    "\\draw[domain=-3.5:2.5,smooth,variable=\\x,black,ultra thick] plot ({\\x},{2*\\x+3});\n",
    "\n",
    "% tick marks\n",
    "\\foreach \\x in {-3,3} \n",
    "\t\\draw [thick] (\\x cm,3pt) -- (\\x cm,-3pt) node[below] {$\\x$};\n",
    "\\foreach \\y in {-3,3,6} \n",
    "\t\\draw [thick] (3pt,\\y cm) -- (-3pt,\\y cm) node[left] {$\\y$};\n",
    "\\end{tikzpicture}\n",
    "\\end{document}"
   ]
  },
  {
   "cell_type": "markdown",
   "id": "247b12ed",
   "metadata": {},
   "source": [
    "Note that the red dashed lined is not part of the graph and is used only as a guide for drawing a line with slope 2.  In particular, in order for a line to have slope equal to $2$, if the $x$-coordinate of any point on the line is increased by 1 unit, then the $y$-coordinate must be increased by 2 units.\n",
    "\n",
    "\n",
    "\n",
    "### Example 2\n",
    "\n",
    "Sketch the graph of the line defined by  $y - 3 = -2(x - 4)$.\n",
    "\n",
    "```{admonition} Step 1: Determine the slope and a point on the line.\n",
    ":class: tip\n",
    "\n",
    "Since $y - 3 = -2(x - 4)$ is in point-slope form, the line has slope $-2$ and goes through the point $(4,3)$. \n",
    "```\n",
    "\n",
    "Now draw a graph with slope $-2$ that goes through the point $(4,3)$."
   ]
  },
  {
   "cell_type": "code",
   "execution_count": null,
   "id": "16f8543b",
   "metadata": {
    "tags": [
     "remove-input"
    ]
   },
   "outputs": [],
   "source": [
    "%%itikz\n",
    "\\documentclass[tikz]{standalone}\n",
    "\\begin{document}\n",
    "\\begin{tikzpicture}[scale=1.0]\n",
    "\\draw[black,fill=white] (-2.5,-2.5) rectangle (8.5,14.5);\n",
    "\\draw[very thin,color=lightgray,step=1] (-1.9,-1.9) grid (7.9,13.9);\n",
    "\\draw[->] (-2,0) -- (8,0) node[below] {$x$};\n",
    "\\draw[->] (0,-2) -- (0,14) node[right] {$y$};\n",
    "\\node at (4.5, 10.5){$y - 3 = -2(x-4)$};\n",
    "\n",
    "% draw slope\n",
    "%\\draw[dashed,red,thick] (-1,13)|- ++(1,-2) |- ++(1,-2) |- ++(1,-2) |- ++(1,-2) |- ++(1,-2) |- ++(1,-2) |- ++(1,-2);\n",
    "\\draw[dashed,red,thick] (-1,13) -| ++(1,-2) -| ++(1,-2) -| ++(1,-2) -| ++(1,-2) -| ++(1,-2) -| ++(1,-2) -| ++(1,-2);\n",
    "\n",
    "\n",
    "% draw line and point\n",
    "\\draw[domain=-1.5:6.5,smooth,variable=\\x,black,ultra thick] plot ({\\x},{-2*\\x + 11});\n",
    "\\draw [fill=black,thick] (4,3) circle [radius=0.15] node [below left] {$(4,3)$};\n",
    "\n",
    "% tick marks\n",
    "\\foreach \\x in {2,4} \n",
    "\t\\draw [thick] (\\x cm,3pt) -- (\\x cm,-3pt) node[below] {$\\x$};\n",
    "\\foreach \\y in {3,6,9,12} \n",
    "\t\\draw [thick] (-6pt,\\y cm) -- (0pt,\\y cm) node[right] {$\\y$};\n",
    "\\end{tikzpicture}\n",
    "\\end{document}"
   ]
  },
  {
   "cell_type": "markdown",
   "id": "5be75185",
   "metadata": {},
   "source": [
    "In order for a line to have slope equal to $-2$, if the $x$-coordinate of any point on the line is increased by 1 unit, then the $y$-coordinate must be decreased by 2 units.\n",
    "\n",
    "\n",
    "\n",
    "### Example 3\n",
    "\n",
    "Sketch the graph of the line defined by $y - 1 = \\dfrac{2}{5}(x + 2)$.\n",
    "\n",
    "\n",
    "```{admonition} Step 1: Determine the slope and a point on the line.\n",
    ":class: tip\n",
    "\n",
    "Since $y - 1 = \\frac{2}{5}(x + 2)$ is in point-slope form, the line has slope $2/5$ and goes through the point $(-2,1)$. \n",
    "```\n",
    "\n",
    "Draw the line with slope equal to $2/5$ that goes through the point $(-2,1)$"
   ]
  },
  {
   "cell_type": "code",
   "execution_count": null,
   "id": "092449da",
   "metadata": {
    "tags": [
     "remove-input"
    ]
   },
   "outputs": [],
   "source": [
    "%%itikz\n",
    "\\documentclass[tikz]{standalone}\n",
    "\\begin{document}\n",
    "\\begin{tikzpicture}[scale=1.0]\n",
    "\\draw[black,fill=white] (-8.5,-3.5) rectangle (10.5,7.5);\n",
    "\\draw[very thin,color=lightgray,step=1] (-7.9,-2.9) grid (9.9,6.9);\n",
    "\\draw[->] (-8,0) -- (10,0) node[below] {$x$};\n",
    "\\draw[->] (0,-3) -- (0,7) node[right] {$y$};\n",
    "\\node at (4.5, 5.5){$y - 1 = \\frac{2}{5}(x+2)$};\n",
    "\n",
    "% draw slope\n",
    "\\draw[dashed,red,thick] (-7,-1) -| ++(5,2) -| ++(5,2) -| ++(5,2);\n",
    "\n",
    "% draw line and point\n",
    "\\draw[domain=-8:10,smooth,variable=\\x,black,ultra thick] plot ({\\x},{0.4*\\x+9/5});\n",
    "\\draw [fill=black,thick] (-2,1) circle [radius=0.15] node [above left] {$(-2,1)$};\n",
    "\n",
    "% tick marks\n",
    "\\foreach \\x in {-6,-4,-2,2,4,6,8} \n",
    "\t\\draw [thick] (\\x cm,3pt) -- (\\x cm,-3pt) node[below] {$\\x$};\n",
    "\\foreach \\y in {-2,2,4} \n",
    "\t\\draw [thick] (3pt,\\y cm) -- (-3pt,\\y cm) node[left] {$\\y$};\n",
    "\\end{tikzpicture}\n",
    "\\end{document}"
   ]
  },
  {
   "cell_type": "markdown",
   "id": "8d410e39",
   "metadata": {},
   "source": [
    "In order for a line to have slope equal to $2/5$, if the $x$-coordinate of any point on the line is increased by 5 units, then the $y$-coordinate must be increased by 2 units.\n",
    "\n",
    "\n",
    "\n",
    "## Graphing Quadratic Polynomials\n",
    "\n",
    "The general form of a quadratic polynomial (i.e., a polynomial of degree two) is\n",
    "\n",
    "$$y = ax^2 + bx + c$$\n",
    "\n",
    "where $a$, $b$, and $c$ are real numbers and $a\\neq 0$.  The graph of a quadratic polynomial has the shape of a parabola.  If $a>0$, then the parabola opens upward (i.e., looks like the letter ``U'') and if $a<0$, then the parabola opens downward.\n",
    "\n",
    "\n",
    "### Example 4\n",
    "\n",
    "Compare the graphs of $y = x^2$ and $y=-x^2$."
   ]
  },
  {
   "cell_type": "code",
   "execution_count": null,
   "id": "10798957",
   "metadata": {
    "tags": [
     "remove-input"
    ]
   },
   "outputs": [],
   "source": [
    "%%itikz\n",
    "\\documentclass[tikz]{standalone}\n",
    "\\begin{document}\n",
    "\\begin{tikzpicture}[scale=1.5]\n",
    "\n",
    "\\draw[black,fill=white] (-3.75,-1.25) rectangle (3.75,5.25);\n",
    "\\draw[very thin,color=lightgray,step=0.5] (-3.4,-0.9) grid (3.4,4.9);\n",
    "%\\draw[very thin,color=gray,step=2] (-3.5,-1) grid (3.5,5);\n",
    "\n",
    "\\draw[->] (-3.5,0) -- (3.5,0) node[below] {$x$};\n",
    "\\draw[->] (0,-1) -- (0,5) node[right] {$y$};\n",
    "\\draw[domain=-2.23:2.23,smooth,variable=\\x,black,ultra thick] plot ({\\x},{\\x*\\x});%  node[right] {$y=x^2$};\n",
    "       \n",
    "\\node[right] at (1.7, 3){$y = x^2$};\n",
    "\n",
    "% tick marks\n",
    "\\foreach \\x in {-2,2} \n",
    "\t\\draw [thick] (\\x cm,2pt) -- (\\x cm,-2pt) node[below] {$\\x$};\n",
    "\\foreach \\y in {2,4} \n",
    "\t\\draw [thick] (-2pt,\\y cm) -- (2pt,\\y cm) node[right] {$\\y$};\n",
    "\\end{tikzpicture}\n",
    "\\end{document}"
   ]
  },
  {
   "cell_type": "code",
   "execution_count": null,
   "id": "7dbea1fa",
   "metadata": {
    "tags": [
     "remove-input"
    ]
   },
   "outputs": [],
   "source": [
    "%%itikz\n",
    "\\documentclass[tikz]{standalone}\n",
    "\\begin{document}\n",
    "\\begin{tikzpicture}[scale=1.5]\n",
    "\n",
    "\\draw[black,fill=white] (-3.75,-5.25) rectangle (3.75,1.25);\n",
    "\\draw[very thin,color=lightgray,step=0.5] (-3.4,-4.9) grid (3.4,0.9);\n",
    "%\\draw[very thin,color=gray,step=2] (-3.5,-5) grid (3.5,1);\n",
    "\n",
    "\\draw[->] (-3.5,0) -- (3.5,0) node[below] {$x$};\n",
    "\\draw[->] (0,-5) -- (0,1) node[right] {$y$};\n",
    "\\draw[domain=-2.23:2.23,smooth,variable=\\x,black,ultra thick] plot ({\\x},{-\\x*\\x});%  node[right] {$y=x^2$};\n",
    "       \n",
    "\\node[right] at (1.7, -3){$y = -x^2$};\n",
    "\n",
    "% tick marks\n",
    "\\foreach \\x in {-2,2} \n",
    "\t\\draw [thick] (\\x cm,2pt) -- (\\x cm,-2pt) node[below] {$\\x$};\n",
    "\\foreach \\y in {-2,-4} \n",
    "\t\\draw [thick] (-2pt,\\y cm) -- (2pt,\\y cm) node[right] {$\\y$};\n",
    "\\end{tikzpicture}\n",
    "\\end{document}"
   ]
  },
  {
   "cell_type": "markdown",
   "id": "dd1d6bd7",
   "metadata": {},
   "source": [
    "Notice how the graph of $y=x^2$ is a parabola that goes through the point $(0,0)$ and opens upward while the graph of $y=-x^2$ is a parabola that also goes through the point $(0,0)$ but opens downward.\n",
    "\n",
    "\n",
    "### Example 5\n",
    "\n",
    "Compare the graphs of $y=x^2-4$ and $y=4-x^2$"
   ]
  },
  {
   "cell_type": "code",
   "execution_count": null,
   "id": "b150fb4f",
   "metadata": {
    "tags": [
     "remove-input"
    ]
   },
   "outputs": [],
   "source": [
    "%%itikz\n",
    "\\documentclass[tikz]{standalone}\n",
    "\\begin{document}\n",
    "\\begin{tikzpicture}[scale=1.5]\n",
    "\\draw[black,fill=white] (-3.75,-5.25) rectangle (3.75,1.25);\n",
    "\\draw[very thin,color=lightgray,step=0.5] (-3.4,-4.9) grid (3.4,0.9);\n",
    "%\\draw[very thin,color=gray,step=2] (-3.5,-5) grid (3.5,1);\n",
    "\n",
    "\\draw[->] (-3.5,0) -- (3.5,0) node[below] {$x$};\n",
    "\\draw[->] (0,-5) -- (0,1) node[right] {$y$};\n",
    "\\draw[domain=-2.23:2.23,smooth,variable=\\x,black,ultra thick] plot ({\\x},{\\x*\\x- 4});%  node[right] {$y=x^2$};\n",
    "       \n",
    "\\node[right] at (0.9, -3.5){$y = x^2-4$};\n",
    "\n",
    "% tick marks\n",
    "\\foreach \\x in {-3,-1,1,3} \n",
    "\t\\draw [thick] (\\x cm,2pt) -- (\\x cm,-2pt) node[below] {$\\x$};\n",
    "\\foreach \\y in {-2} \n",
    "\t\\draw [thick] (-2pt,\\y cm) -- (2pt,\\y cm) node[right] {$\\y$};\n",
    "\\end{tikzpicture}\n",
    "\\end{document}"
   ]
  },
  {
   "cell_type": "code",
   "execution_count": null,
   "id": "8e0d8239",
   "metadata": {
    "tags": [
     "remove-input"
    ]
   },
   "outputs": [],
   "source": [
    "%%itikz\n",
    "\\documentclass[tikz]{standalone}\n",
    "\\begin{document}\n",
    "\\begin{tikzpicture}[scale=1.5]\n",
    "\\draw[black,fill=white] (-3.75,-1.25) rectangle (3.75,5.25);\n",
    "\\draw[very thin,color=lightgray,step=0.5] (-3.4,-0.9) grid (3.4,4.9);\n",
    "%\\draw[very thin,color=gray,step=2] (-3.5,-1) grid (3.5,5);\n",
    "\n",
    "\\draw[->] (-3.5,0) -- (3.5,0) node[below] {$x$};\n",
    "\\draw[->] (0,-1) -- (0,5) node[right] {$y$};\n",
    "\\draw[domain=-2.23:2.23,smooth,variable=\\x,black,ultra thick] plot ({\\x},{4 - \\x*\\x});%  node[right] {$y=x^2$};\n",
    "       \n",
    "\\node[right] at (0.9, 3.5){$y = 4-x^2$};\n",
    "\n",
    "% tick marks\n",
    "\\foreach \\x in {-3,-1,1,3} \n",
    "\t\\draw [thick] (\\x cm,2pt) -- (\\x cm,-2pt) node[below] {$\\x$};\n",
    "\\foreach \\y in {2} \n",
    "\t\\draw [thick] (-2pt,\\y cm) -- (2pt,\\y cm) node[right] {$\\y$};\n",
    "\\end{tikzpicture}\n",
    "\\end{document}"
   ]
  },
  {
   "cell_type": "markdown",
   "id": "6fee65d7",
   "metadata": {},
   "source": [
    "Notice how the graph of $y=x^2-4$ looks like the graph of $y=x^2$ with each point shifted down $4$ units.  Also, the graph of $y=4-x^2$ looks like the graph of $y=-x^2$ with each point shifted up $4$ units.\n",
    "\n",
    "\n",
    "(precalc:graphing:example6)=\n",
    "### Example 6\n",
    "\n",
    "Sketch the graph of $f(x) = x^2 - 4x -12$.\n",
    "\n",
    "```{dropdown} **Step 1:** Determine the $y$-intercept by evaluating $f(0)$.\n",
    "\n",
    "\\begin{align*}\n",
    "  f(0)\n",
    "  &= 0^2 - 4(0) - 12 \\\\\n",
    "  &= -12\n",
    "\\end{align*}\n",
    "\n",
    "Therefore the graph of $y=f(x)$ goes through the point $(0,-12)$.\n",
    "```\n",
    "\n",
    "```{dropdown} **Step 2:** Determine the $x$-intercepts by setting $f(x)=0$ and solving for $x$.\n",
    "\n",
    "Recall from [Factoring, Example 8](01_02_example8)  and [Solving Equations, Example 1](01_03_example1) that\n",
    "\n",
    "$$x^2 - 4x - 12 = (x+2)(x-6)$$\n",
    "\n",
    "Now set each factor equal to zero and solve for $x$.\n",
    "\\begin{align*}\n",
    "x + 2 = 0 ~~~~&\\Rightarrow~~~~ x = -2 \\\\\n",
    "x - 6 = 0 ~~~~&\\Rightarrow~~~~ x = 6 \n",
    "\\end{align*}\n",
    "\n",
    "Therefore the graph of $y=f(x)$ goes through the points $(-2,0)$ and $(6,0)$.\n",
    "```\n",
    "\n",
    "Draw the graph of a parabola that opens upward (since the coefficient of $x^2$ in $f(x)$ is positive) and goes through the points found in **Steps 1** and **2**."
   ]
  },
  {
   "cell_type": "code",
   "execution_count": null,
   "id": "b250aaf0",
   "metadata": {
    "tags": [
     "remove-input"
    ]
   },
   "outputs": [],
   "source": [
    "%%itikz\n",
    "\\documentclass[tikz]{standalone}\n",
    "\\begin{document}\n",
    "\\begin{tikzpicture}[xscale=0.8,yscale=0.5]\n",
    "\n",
    "\\draw[black,fill=white] (-6.6,-19) rectangle (12.6,11);\n",
    "\\draw[very thin,color=lightgray,xstep=1,ystep=2] (-5.9,-17.9) grid (11.9,9.9);\n",
    "\n",
    "\\draw[->] (-6,0) -- (12,0) node[below] {$x$};\n",
    "\\draw[->] (0,-18) -- (0,10) node[right] {$y$};\n",
    "\\draw[domain=-3:7,smooth,variable=\\x,black,ultra thick] plot ({\\x},{\\x*\\x - 4*\\x - 12});\n",
    "       \n",
    "\\node[right] at (5, -9){$y = x^2-4x-12$};\n",
    "\n",
    "%\\draw [fill=black,thick] (-2,0) circle [radius=0.15];\n",
    "%\\draw [fill=black,thick] (6,0) circle [radius=0.15];\n",
    "%\\draw [fill=black,thick] (0,-12) circle [radius=0.15];\n",
    "\\draw [fill=black] (-2,0) ellipse [x radius = 0.15, y radius = 0.225];\n",
    "\\draw [fill=black] (6,0) ellipse [x radius = 0.15, y radius = 0.225];\n",
    "\\draw [fill=black] (0,-12) ellipse [x radius = 0.15, y radius = 0.225];\n",
    "\n",
    "% tick marks\n",
    "\\foreach \\x in {-3,3,9} \n",
    "\t\\draw [thick] (\\x cm,6pt) -- (\\x cm,-6pt) node[below] {$\\x$};\n",
    "\\foreach \\y in {-12} \n",
    "\t\\draw [thick] (-2pt,\\y cm) -- (2pt,\\y cm) node[right] {$\\y$};\n",
    "\t\n",
    "\\clip (-8,-20) rectangle (12,10);\n",
    "\\draw[domain=-4:8,smooth,variable=\\x,black,ultra thick] plot ({\\x},{\\x*\\x - 4*\\x - 12});\n",
    "\n",
    "\\end{tikzpicture}\n",
    "\\end{document}"
   ]
  },
  {
   "cell_type": "markdown",
   "id": "14642814",
   "metadata": {},
   "source": [
    "## Graphing Power and Root Functions\n",
    "\n",
    "Any function of the form\n",
    "\n",
    "$$y = x^r$$\n",
    "\n",
    "where $r$ is any real number is called a power function.  Thus $x^2$, $x^3$, $x^4$, etc. are examples of power functions.  Root functions, like the square root (i.e., $\\sqrt{x}$ or $x^{1/2}$) and cube root (i.e., $\\sqrt[3]{x}$ or $x^{1/3}$) are also examples of power functions\n",
    "\n",
    "\n",
    "### Example 7\n",
    "\n",
    "Sketch the graph of $y = x^3$."
   ]
  },
  {
   "cell_type": "code",
   "execution_count": null,
   "id": "c8f8151a",
   "metadata": {
    "tags": [
     "remove-input"
    ]
   },
   "outputs": [],
   "source": [
    "%%itikz\n",
    "\\documentclass[tikz]{standalone}\n",
    "\\begin{document}\n",
    "\\begin{tikzpicture}[scale=2]\n",
    "\n",
    "\\draw[black,fill=white] (-3.5,-4.3) rectangle (3.5,4.3);\n",
    "\\draw[very thin,color=lightgray,step=1] (-2.9,-3.9) grid (2.9,3.9);\n",
    "\n",
    "      \\draw[->] (-3,0) -- (3,0) node[below] {$x$};\n",
    "      \\draw[->] (0,-4) -- (0,4) node[right] {$y$};\n",
    "      \\draw[domain=-1.57:1.57,smooth,variable=\\x,black,ultra thick,samples=100] plot ({\\x},\\x^3);\n",
    "      \\node at (2.4,3.2){$y = x^3$};\n",
    "       \n",
    "      % tick marks\n",
    "\\foreach \\x in {-2,-1,1,2} \n",
    "\t\\draw [thick] (\\x cm,2pt) -- (\\x cm,-2pt) node[below] {$\\x$};\n",
    "\\foreach \\y in {-3,-2,-1,1,2,3} \n",
    "\t\\draw [thick] (2pt,\\y cm) -- (-2pt,\\y cm) node[left] {$\\y$};\n",
    "\n",
    "    \\end{tikzpicture}\n",
    "\\end{document}"
   ]
  },
  {
   "cell_type": "markdown",
   "id": "761fd97a",
   "metadata": {},
   "source": [
    "Notice how the graph of $y=x^3$ always increases from left-to-right and looks like a horizontal line as it goes through the origin.\n",
    "\n",
    "\n",
    "### Example 8\n",
    "\n",
    "Sketch the graph of the square root function, $y = \\sqrt{x}$."
   ]
  },
  {
   "cell_type": "code",
   "execution_count": null,
   "id": "66d620f8",
   "metadata": {
    "tags": [
     "remove-input"
    ]
   },
   "outputs": [],
   "source": [
    "%%itikz\n",
    "\\documentclass[tikz]{standalone}\n",
    "\\begin{document}\n",
    "\\begin{tikzpicture}[scale=2]\n",
    "\n",
    "\\draw[black,fill=white] (-0.8,-0.8) rectangle (10.3,4.3);\n",
    "\\draw[very thin,color=lightgray,step=1] (0,0) grid (9.9,3.9);\n",
    "\n",
    "      \\draw[->] (-0.5,0) -- (10,0) node[below] {$x$};\n",
    "      \\draw[->] (0,-0.5) -- (0,4) node[right] {$y$};\n",
    "      \\draw[domain=0:1,smooth,variable=\\x,black,ultra thick,samples=100] plot ({\\x},\\x^0.5);\n",
    "      \\draw[domain=1:10,smooth,variable=\\x,black,ultra thick,samples=36] plot ({\\x},\\x^0.5);\n",
    "      \\node at (7,3.2){$y = \\sqrt{x}$};\n",
    "       \n",
    "      % tick marks\n",
    "\\foreach \\x in {1,...,9} \n",
    "\t\\draw [thick] (\\x cm,2pt) -- (\\x cm,-2pt) node[below] {$\\x$};\n",
    "\\foreach \\y in {1,2,3} \n",
    "\t\\draw [thick] (2pt,\\y cm) -- (-2pt,\\y cm) node[left] {$\\y$};\n",
    "\n",
    "    \\end{tikzpicture}\n",
    "\\end{document}"
   ]
  },
  {
   "cell_type": "markdown",
   "id": "005c232f",
   "metadata": {},
   "source": [
    "Notice how the graph of $y=\\sqrt{x}$ looks like the upper half of a parabola that opens to the right."
   ]
  }
 ],
 "metadata": {
  "jupytext": {
   "formats": "ipynb,md:myst",
   "text_representation": {
    "extension": ".md",
    "format_name": "myst",
    "format_version": 0.13,
    "jupytext_version": "1.10.3"
   }
  },
  "kernelspec": {
   "display_name": "Python 3.9.4 64-bit",
   "language": "python",
   "name": "python3"
  },
  "language_info": {
   "codemirror_mode": {
    "name": "ipython",
    "version": 3
   },
   "file_extension": ".py",
   "mimetype": "text/x-python",
   "name": "python",
   "nbconvert_exporter": "python",
   "pygments_lexer": "ipython3",
   "version": "3.9.6"
  },
  "source_map": [
   13,
   25,
   31,
   45,
   55,
   69,
   85,
   111,
   129,
   158,
   177,
   204,
   223,
   250,
   275,
   284,
   310,
   334,
   373,
   408,
   426,
   450,
   459,
   484
  ]
 },
 "nbformat": 4,
 "nbformat_minor": 5
}