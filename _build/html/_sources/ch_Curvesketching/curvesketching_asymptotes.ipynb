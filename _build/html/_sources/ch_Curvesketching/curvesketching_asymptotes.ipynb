{
 "cells": [
  {
   "cell_type": "markdown",
   "id": "e5e014a0",
   "metadata": {},
   "source": [
    "# Asymptotes\n",
    "\n",
    "\n",
    "```{admonition} Vertical Asymptotes\n",
    ":class: info\n",
    "\n",
    "The line $x=a$ is a **vertical asymptote** of the function $f$ if\n",
    "\n",
    "$$\\lim_{x \\to a^+} f(x)= \\pm \\infty \\qquad \\text{or} \\qquad\n",
    "\\lim_{x \\to a^-} f(x)= \\pm \\infty$$\n",
    "```\n",
    "\n",
    "```{admonition} Vertical Asymptotes for a Rational Function\n",
    ":class: attention\n",
    "\n",
    "The rational function \n",
    "\n",
    "$$f(x) = \\dfrac{g(x)}{h(x)}$$ \n",
    "\n",
    "has a vertical asymptote at $x=a$ if $h(a) = 0$ and $g(a) \\neq 0$. \n",
    "\n",
    "We can find the vertical asymptotes by factoring $g(x)$ and $h(x)$ and then cancelling common factors.  Any value of $x$ that makes the denominator equal to zero, after cancellation, corresponds to a vertical asymptote.\n",
    "```\n",
    "\n",
    "\n",
    "```{admonition} Horizontal Asymptotes\n",
    ":class: info\n",
    "\n",
    "The line $y=b$ is a **horizontal asymptote** of the function $f$ if:\n",
    "\n",
    "$$\\lim_{x \\to \\infty} f(x)= b \\qquad \\text{or} \\qquad \\lim_{x \\to -\\infty} f(x)= b$$\n",
    "\n",
    "Horizontal asymptotes describe the behavior of the graph of $f$ for large positive and large negative values of $x$.  The graph of $f$ should approach the horizontal asymptote for large values of $x$.  \n",
    "\n",
    "A function can have at most two different horizontal asymptotes.\n",
    "```\n",
    "\n",
    "\n",
    "## Example 1\n",
    "\n",
    "The following graph is an example of a function that has vertical asymptotes at $x=-1$ and $x=3$ and a horizontal asymptote at $y=1$."
   ]
  },
  {
   "cell_type": "code",
   "execution_count": 1,
   "id": "0f18faed",
   "metadata": {
    "tags": [
     "remove-cell"
    ]
   },
   "outputs": [
    {
     "ename": "ModuleNotFoundError",
     "evalue": "No module named 'itikz'",
     "output_type": "error",
     "traceback": [
      "\u001b[0;31m---------------------------------------------------------------------------\u001b[0m",
      "\u001b[0;31mModuleNotFoundError\u001b[0m                       Traceback (most recent call last)",
      "\u001b[0;32m/var/folders/xz/fhb2zgq551315f5zf88k__ph0000gn/T/ipykernel_69729/3834793611.py\u001b[0m in \u001b[0;36m<module>\u001b[0;34m\u001b[0m\n\u001b[0;32m----> 1\u001b[0;31m \u001b[0mget_ipython\u001b[0m\u001b[0;34m(\u001b[0m\u001b[0;34m)\u001b[0m\u001b[0;34m.\u001b[0m\u001b[0mrun_line_magic\u001b[0m\u001b[0;34m(\u001b[0m\u001b[0;34m'load_ext'\u001b[0m\u001b[0;34m,\u001b[0m \u001b[0;34m'itikz'\u001b[0m\u001b[0;34m)\u001b[0m\u001b[0;34m\u001b[0m\u001b[0;34m\u001b[0m\u001b[0m\n\u001b[0m",
      "\u001b[0;32m/anaconda3/envs/myenv/lib/python3.9/site-packages/IPython/core/interactiveshell.py\u001b[0m in \u001b[0;36mrun_line_magic\u001b[0;34m(self, magic_name, line, _stack_depth)\u001b[0m\n\u001b[1;32m   2346\u001b[0m                 \u001b[0mkwargs\u001b[0m\u001b[0;34m[\u001b[0m\u001b[0;34m'local_ns'\u001b[0m\u001b[0;34m]\u001b[0m \u001b[0;34m=\u001b[0m \u001b[0mself\u001b[0m\u001b[0;34m.\u001b[0m\u001b[0mget_local_scope\u001b[0m\u001b[0;34m(\u001b[0m\u001b[0mstack_depth\u001b[0m\u001b[0;34m)\u001b[0m\u001b[0;34m\u001b[0m\u001b[0;34m\u001b[0m\u001b[0m\n\u001b[1;32m   2347\u001b[0m             \u001b[0;32mwith\u001b[0m \u001b[0mself\u001b[0m\u001b[0;34m.\u001b[0m\u001b[0mbuiltin_trap\u001b[0m\u001b[0;34m:\u001b[0m\u001b[0;34m\u001b[0m\u001b[0;34m\u001b[0m\u001b[0m\n\u001b[0;32m-> 2348\u001b[0;31m                 \u001b[0mresult\u001b[0m \u001b[0;34m=\u001b[0m \u001b[0mfn\u001b[0m\u001b[0;34m(\u001b[0m\u001b[0;34m*\u001b[0m\u001b[0margs\u001b[0m\u001b[0;34m,\u001b[0m \u001b[0;34m**\u001b[0m\u001b[0mkwargs\u001b[0m\u001b[0;34m)\u001b[0m\u001b[0;34m\u001b[0m\u001b[0;34m\u001b[0m\u001b[0m\n\u001b[0m\u001b[1;32m   2349\u001b[0m             \u001b[0;32mreturn\u001b[0m \u001b[0mresult\u001b[0m\u001b[0;34m\u001b[0m\u001b[0;34m\u001b[0m\u001b[0m\n\u001b[1;32m   2350\u001b[0m \u001b[0;34m\u001b[0m\u001b[0m\n",
      "\u001b[0;32m/anaconda3/envs/myenv/lib/python3.9/site-packages/decorator.py\u001b[0m in \u001b[0;36mfun\u001b[0;34m(*args, **kw)\u001b[0m\n\u001b[1;32m    230\u001b[0m             \u001b[0;32mif\u001b[0m \u001b[0;32mnot\u001b[0m \u001b[0mkwsyntax\u001b[0m\u001b[0;34m:\u001b[0m\u001b[0;34m\u001b[0m\u001b[0;34m\u001b[0m\u001b[0m\n\u001b[1;32m    231\u001b[0m                 \u001b[0margs\u001b[0m\u001b[0;34m,\u001b[0m \u001b[0mkw\u001b[0m \u001b[0;34m=\u001b[0m \u001b[0mfix\u001b[0m\u001b[0;34m(\u001b[0m\u001b[0margs\u001b[0m\u001b[0;34m,\u001b[0m \u001b[0mkw\u001b[0m\u001b[0;34m,\u001b[0m \u001b[0msig\u001b[0m\u001b[0;34m)\u001b[0m\u001b[0;34m\u001b[0m\u001b[0;34m\u001b[0m\u001b[0m\n\u001b[0;32m--> 232\u001b[0;31m             \u001b[0;32mreturn\u001b[0m \u001b[0mcaller\u001b[0m\u001b[0;34m(\u001b[0m\u001b[0mfunc\u001b[0m\u001b[0;34m,\u001b[0m \u001b[0;34m*\u001b[0m\u001b[0;34m(\u001b[0m\u001b[0mextras\u001b[0m \u001b[0;34m+\u001b[0m \u001b[0margs\u001b[0m\u001b[0;34m)\u001b[0m\u001b[0;34m,\u001b[0m \u001b[0;34m**\u001b[0m\u001b[0mkw\u001b[0m\u001b[0;34m)\u001b[0m\u001b[0;34m\u001b[0m\u001b[0;34m\u001b[0m\u001b[0m\n\u001b[0m\u001b[1;32m    233\u001b[0m     \u001b[0mfun\u001b[0m\u001b[0;34m.\u001b[0m\u001b[0m__name__\u001b[0m \u001b[0;34m=\u001b[0m \u001b[0mfunc\u001b[0m\u001b[0;34m.\u001b[0m\u001b[0m__name__\u001b[0m\u001b[0;34m\u001b[0m\u001b[0;34m\u001b[0m\u001b[0m\n\u001b[1;32m    234\u001b[0m     \u001b[0mfun\u001b[0m\u001b[0;34m.\u001b[0m\u001b[0m__doc__\u001b[0m \u001b[0;34m=\u001b[0m \u001b[0mfunc\u001b[0m\u001b[0;34m.\u001b[0m\u001b[0m__doc__\u001b[0m\u001b[0;34m\u001b[0m\u001b[0;34m\u001b[0m\u001b[0m\n",
      "\u001b[0;32m/anaconda3/envs/myenv/lib/python3.9/site-packages/IPython/core/magic.py\u001b[0m in \u001b[0;36m<lambda>\u001b[0;34m(f, *a, **k)\u001b[0m\n\u001b[1;32m    185\u001b[0m     \u001b[0;31m# but it's overkill for just that one bit of state.\u001b[0m\u001b[0;34m\u001b[0m\u001b[0;34m\u001b[0m\u001b[0;34m\u001b[0m\u001b[0m\n\u001b[1;32m    186\u001b[0m     \u001b[0;32mdef\u001b[0m \u001b[0mmagic_deco\u001b[0m\u001b[0;34m(\u001b[0m\u001b[0marg\u001b[0m\u001b[0;34m)\u001b[0m\u001b[0;34m:\u001b[0m\u001b[0;34m\u001b[0m\u001b[0;34m\u001b[0m\u001b[0m\n\u001b[0;32m--> 187\u001b[0;31m         \u001b[0mcall\u001b[0m \u001b[0;34m=\u001b[0m \u001b[0;32mlambda\u001b[0m \u001b[0mf\u001b[0m\u001b[0;34m,\u001b[0m \u001b[0;34m*\u001b[0m\u001b[0ma\u001b[0m\u001b[0;34m,\u001b[0m \u001b[0;34m**\u001b[0m\u001b[0mk\u001b[0m\u001b[0;34m:\u001b[0m \u001b[0mf\u001b[0m\u001b[0;34m(\u001b[0m\u001b[0;34m*\u001b[0m\u001b[0ma\u001b[0m\u001b[0;34m,\u001b[0m \u001b[0;34m**\u001b[0m\u001b[0mk\u001b[0m\u001b[0;34m)\u001b[0m\u001b[0;34m\u001b[0m\u001b[0;34m\u001b[0m\u001b[0m\n\u001b[0m\u001b[1;32m    188\u001b[0m \u001b[0;34m\u001b[0m\u001b[0m\n\u001b[1;32m    189\u001b[0m         \u001b[0;32mif\u001b[0m \u001b[0mcallable\u001b[0m\u001b[0;34m(\u001b[0m\u001b[0marg\u001b[0m\u001b[0;34m)\u001b[0m\u001b[0;34m:\u001b[0m\u001b[0;34m\u001b[0m\u001b[0;34m\u001b[0m\u001b[0m\n",
      "\u001b[0;32m/anaconda3/envs/myenv/lib/python3.9/site-packages/IPython/core/magics/extension.py\u001b[0m in \u001b[0;36mload_ext\u001b[0;34m(self, module_str)\u001b[0m\n\u001b[1;32m     31\u001b[0m         \u001b[0;32mif\u001b[0m \u001b[0;32mnot\u001b[0m \u001b[0mmodule_str\u001b[0m\u001b[0;34m:\u001b[0m\u001b[0;34m\u001b[0m\u001b[0;34m\u001b[0m\u001b[0m\n\u001b[1;32m     32\u001b[0m             \u001b[0;32mraise\u001b[0m \u001b[0mUsageError\u001b[0m\u001b[0;34m(\u001b[0m\u001b[0;34m'Missing module name.'\u001b[0m\u001b[0;34m)\u001b[0m\u001b[0;34m\u001b[0m\u001b[0;34m\u001b[0m\u001b[0m\n\u001b[0;32m---> 33\u001b[0;31m         \u001b[0mres\u001b[0m \u001b[0;34m=\u001b[0m \u001b[0mself\u001b[0m\u001b[0;34m.\u001b[0m\u001b[0mshell\u001b[0m\u001b[0;34m.\u001b[0m\u001b[0mextension_manager\u001b[0m\u001b[0;34m.\u001b[0m\u001b[0mload_extension\u001b[0m\u001b[0;34m(\u001b[0m\u001b[0mmodule_str\u001b[0m\u001b[0;34m)\u001b[0m\u001b[0;34m\u001b[0m\u001b[0;34m\u001b[0m\u001b[0m\n\u001b[0m\u001b[1;32m     34\u001b[0m \u001b[0;34m\u001b[0m\u001b[0m\n\u001b[1;32m     35\u001b[0m         \u001b[0;32mif\u001b[0m \u001b[0mres\u001b[0m \u001b[0;34m==\u001b[0m \u001b[0;34m'already loaded'\u001b[0m\u001b[0;34m:\u001b[0m\u001b[0;34m\u001b[0m\u001b[0;34m\u001b[0m\u001b[0m\n",
      "\u001b[0;32m/anaconda3/envs/myenv/lib/python3.9/site-packages/IPython/core/extensions.py\u001b[0m in \u001b[0;36mload_extension\u001b[0;34m(self, module_str)\u001b[0m\n\u001b[1;32m     78\u001b[0m             \u001b[0;32mif\u001b[0m \u001b[0mmodule_str\u001b[0m \u001b[0;32mnot\u001b[0m \u001b[0;32min\u001b[0m \u001b[0msys\u001b[0m\u001b[0;34m.\u001b[0m\u001b[0mmodules\u001b[0m\u001b[0;34m:\u001b[0m\u001b[0;34m\u001b[0m\u001b[0;34m\u001b[0m\u001b[0m\n\u001b[1;32m     79\u001b[0m                 \u001b[0;32mwith\u001b[0m \u001b[0mprepended_to_syspath\u001b[0m\u001b[0;34m(\u001b[0m\u001b[0mself\u001b[0m\u001b[0;34m.\u001b[0m\u001b[0mipython_extension_dir\u001b[0m\u001b[0;34m)\u001b[0m\u001b[0;34m:\u001b[0m\u001b[0;34m\u001b[0m\u001b[0;34m\u001b[0m\u001b[0m\n\u001b[0;32m---> 80\u001b[0;31m                     \u001b[0mmod\u001b[0m \u001b[0;34m=\u001b[0m \u001b[0mimport_module\u001b[0m\u001b[0;34m(\u001b[0m\u001b[0mmodule_str\u001b[0m\u001b[0;34m)\u001b[0m\u001b[0;34m\u001b[0m\u001b[0;34m\u001b[0m\u001b[0m\n\u001b[0m\u001b[1;32m     81\u001b[0m                     \u001b[0;32mif\u001b[0m \u001b[0mmod\u001b[0m\u001b[0;34m.\u001b[0m\u001b[0m__file__\u001b[0m\u001b[0;34m.\u001b[0m\u001b[0mstartswith\u001b[0m\u001b[0;34m(\u001b[0m\u001b[0mself\u001b[0m\u001b[0;34m.\u001b[0m\u001b[0mipython_extension_dir\u001b[0m\u001b[0;34m)\u001b[0m\u001b[0;34m:\u001b[0m\u001b[0;34m\u001b[0m\u001b[0;34m\u001b[0m\u001b[0m\n\u001b[1;32m     82\u001b[0m                         print((\"Loading extensions from {dir} is deprecated. \"\n",
      "\u001b[0;32m/anaconda3/envs/myenv/lib/python3.9/importlib/__init__.py\u001b[0m in \u001b[0;36mimport_module\u001b[0;34m(name, package)\u001b[0m\n\u001b[1;32m    125\u001b[0m                 \u001b[0;32mbreak\u001b[0m\u001b[0;34m\u001b[0m\u001b[0;34m\u001b[0m\u001b[0m\n\u001b[1;32m    126\u001b[0m             \u001b[0mlevel\u001b[0m \u001b[0;34m+=\u001b[0m \u001b[0;36m1\u001b[0m\u001b[0;34m\u001b[0m\u001b[0;34m\u001b[0m\u001b[0m\n\u001b[0;32m--> 127\u001b[0;31m     \u001b[0;32mreturn\u001b[0m \u001b[0m_bootstrap\u001b[0m\u001b[0;34m.\u001b[0m\u001b[0m_gcd_import\u001b[0m\u001b[0;34m(\u001b[0m\u001b[0mname\u001b[0m\u001b[0;34m[\u001b[0m\u001b[0mlevel\u001b[0m\u001b[0;34m:\u001b[0m\u001b[0;34m]\u001b[0m\u001b[0;34m,\u001b[0m \u001b[0mpackage\u001b[0m\u001b[0;34m,\u001b[0m \u001b[0mlevel\u001b[0m\u001b[0;34m)\u001b[0m\u001b[0;34m\u001b[0m\u001b[0;34m\u001b[0m\u001b[0m\n\u001b[0m\u001b[1;32m    128\u001b[0m \u001b[0;34m\u001b[0m\u001b[0m\n\u001b[1;32m    129\u001b[0m \u001b[0;34m\u001b[0m\u001b[0m\n",
      "\u001b[0;32m/anaconda3/envs/myenv/lib/python3.9/importlib/_bootstrap.py\u001b[0m in \u001b[0;36m_gcd_import\u001b[0;34m(name, package, level)\u001b[0m\n",
      "\u001b[0;32m/anaconda3/envs/myenv/lib/python3.9/importlib/_bootstrap.py\u001b[0m in \u001b[0;36m_find_and_load\u001b[0;34m(name, import_)\u001b[0m\n",
      "\u001b[0;32m/anaconda3/envs/myenv/lib/python3.9/importlib/_bootstrap.py\u001b[0m in \u001b[0;36m_find_and_load_unlocked\u001b[0;34m(name, import_)\u001b[0m\n",
      "\u001b[0;31mModuleNotFoundError\u001b[0m: No module named 'itikz'"
     ]
    }
   ],
   "source": [
    "%load_ext itikz"
   ]
  },
  {
   "cell_type": "code",
   "execution_count": null,
   "id": "5efe9a97",
   "metadata": {
    "tags": [
     "remove-input"
    ]
   },
   "outputs": [],
   "source": [
    "%%itikz\n",
    "\\documentclass[tikz]{standalone}\n",
    "\\usetikzlibrary{arrows}\n",
    "\\usetikzlibrary{arrows.meta}\n",
    "\n",
    "\\begin{document}\n",
    "\\begin{tikzpicture}[baseline=70,ultra thick,smooth,domain=-4:4,variable=\\x,scale=1.5]\n",
    "\n",
    "% create a white background with a black frame\n",
    "\\draw [thin,fill=white] (-5,-2) rectangle (7,4);  \n",
    "\n",
    "% draw grid\n",
    "\\draw[xstep=0.5cm, ystep=0.5cm, lightgray, thin] (-4.99,-1.99) grid (6.99,3.99); \n",
    "\n",
    "% draw axes\n",
    "\\draw [->,thick] (-5,0) -- (7,0);\n",
    "\\draw [->,thick] (0,-2) -- (0,4);\n",
    "\n",
    "\n",
    "\\clip (-5,-2) rectangle (7,4);\n",
    "\n",
    "% x / (x^2-4) + 1\n",
    "\\draw plot [domain=-5:-1.1] (\\x,{1 + (\\x-1) / ((\\x-1)*(\\x-1) - 4)}); \n",
    "\\draw plot [domain=-0.9:2.9] (\\x,{1 + (\\x-1) / ((\\x-1)*(\\x-1) - 4)}); \n",
    "\\draw plot [domain=3.1:7] (\\x,{1 + (\\x-1) / ((\\x-1)*(\\x-1) - 4)}); \n",
    "\n",
    "% asymptotes\n",
    "\\draw[dashed,red,thick] (-1,-2) -- (-1,4);\n",
    "\\draw[dashed,red,thick] (3,-2) -- (3,4);\n",
    "\\draw[dashed,blue,thick] (-5,1) -- (7,1);\n",
    "\n",
    "% tick marks\n",
    "\\foreach \\x in {-1,3} \n",
    "\t\\draw [thick] (\\x cm,2pt) -- (\\x cm,-2pt) node[below, scale=1.8] {$\\x$};\n",
    "\n",
    "\\end{tikzpicture}\n",
    "\\end{document}"
   ]
  },
  {
   "cell_type": "markdown",
   "id": "a523d52f",
   "metadata": {},
   "source": [
    "## Example 2\n",
    "\n",
    "Find the horizontal and vertical asymptotes of \n",
    "\n",
    "$$f(x)=\\dfrac{7x^2+2x+1}{2x^2+3x-9}.$$\n",
    "\n",
    "\n",
    "```{dropdown} **Step 1:**  Horizontal Asymptotes.\n",
    "\n",
    "Since the degree of the numerator and the denominator are the same, both limits at infinity are equal to the ratio of leading coefficients.\n",
    "\n",
    "$$\\lim_{x\\to -\\infty} f(x) = \\frac{7}{2} = \\lim_{x\\to \\infty} f(x)$$\n",
    "\n",
    "Therefore, $y=7/2$ is the only horizontal asymptote of $f$.\n",
    "```\n",
    "\n",
    "\n",
    "```{dropdown} **Step 2:** Vertical Asymptotes.\n",
    "\n",
    "Factor and simplify $f(x)$. \n",
    "\n",
    "\\begin{align*}\n",
    "f(x)\n",
    "&= \\frac{7x^2+2x+1}{2x^2+3x-9} \\\\ \n",
    "&= \\frac{7x^2+2x+1}{(2x-3)(x+3)} \n",
    "\\end{align*}\n",
    "\n",
    "Therefore $x =-3$ and $x=3/2$ are possible vertical asymptotes.  \n",
    "\n",
    "Since the numerator cannot be factored, to make sure these values of $x$ correspond to vertical asymptotes, plug them into the numerator, $g(x) = 7x^2+2x+1$, and see if they also make the numerator equal to zero.  \n",
    "\n",
    "Since $g(-3) \\neq 0 $ and $g(3/2) \\neq 0$, $x=-3$ and $x=3/2$ are both vertical asymptotes.\n",
    "```\n",
    "\n",
    "\n",
    "\n",
    "\n",
    "## Example 3\n",
    "\n",
    "Find the horizontal and vertical asymptotes of \n",
    "\n",
    "$$f(x)=\\dfrac{x^4-x^2}{x^3 + x^2 - 2 x}.$$\n",
    "\n",
    "\n",
    "```{dropdown} **Step 1:**  Horizontal Asymptotes.\n",
    "\n",
    "Since the degree of the numerator, $4$, is larger than the degree of the denominator, $3$, both limits at infinity do not exist.\n",
    "\n",
    "$$\\lim_{x\\to -\\infty} f(x) = -\\infty \\qquad \\lim_{x\\to \\infty} f(x) = \\infty$$\n",
    "\n",
    "Therefore, $f$ does not have any horizontal asymptotes.\n",
    "```\n",
    "\n",
    "\n",
    "```{dropdown} **Step 2:** Vertical Asymptotes.\n",
    "\n",
    "Factor and simplify $f(x)$.\n",
    "\n",
    "\\begin{align*}\n",
    "f(x) \n",
    "&= \\frac{x^2(x^2-1)}{x(x^2 + x - 2)} && \\text{Pull out common factors}\\\\\n",
    "&= \\frac{x^2(x-1)(x+1)}{x(x+2)(x-1)} && \\text{Factor numerator and denominator}\\\\\n",
    "&=  \\frac{x^{\\cancel{2}}\\cancel{(x-1)}(x+1)}{\\cancel{x}(x+2)\\cancel{(x-1)}} && \\text{Cancel common factors}\\\\\n",
    "&= \\frac{x(x+1)}{x+2} \n",
    "\\end{align*}\n",
    "\n",
    "Since only $x=-2$ makes the denominator equal to zero, after cancellation, $x=-2$ is the only vertical asymptote.\n",
    "```"
   ]
  }
 ],
 "metadata": {
  "jupytext": {
   "formats": "ipynb,md:myst",
   "text_representation": {
    "extension": ".md",
    "format_name": "myst",
    "format_version": 0.13,
    "jupytext_version": "1.10.3"
   }
  },
  "kernelspec": {
   "display_name": "Python 3.9.4 64-bit",
   "language": "python",
   "name": "python3"
  },
  "language_info": {
   "codemirror_mode": {
    "name": "ipython",
    "version": 3
   },
   "file_extension": ".py",
   "mimetype": "text/x-python",
   "name": "python",
   "nbconvert_exporter": "python",
   "pygments_lexer": "ipython3",
   "version": "3.9.6"
  },
  "source_map": [
   13,
   57,
   63,
   103
  ]
 },
 "nbformat": 4,
 "nbformat_minor": 5
}