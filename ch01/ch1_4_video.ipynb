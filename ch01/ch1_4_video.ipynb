{
 "cells": [
  {
   "cell_type": "markdown",
   "id": "b6809006",
   "metadata": {},
   "source": [
    "# Classification and decision boundaries "
   ]
  },
  {
   "cell_type": "code",
   "execution_count": null,
   "id": "40c56b70",
   "metadata": {},
   "outputs": [],
   "source": [
    "## Linear models: decision boundaries given by hyper-planes\n"
   ]
  },
  {
   "cell_type": "code",
   "execution_count": null,
   "id": "95874ba5",
   "metadata": {},
   "outputs": [],
   "source": [
    "## How to find these hyperplanes: logistic regressions"
   ]
  }
 ],
 "metadata": {
  "kernelspec": {
   "display_name": "Python 3 (ipykernel)",
   "language": "python",
   "name": "python3"
  },
  "language_info": {
   "codemirror_mode": {
    "name": "ipython",
    "version": 3
   },
   "file_extension": ".py",
   "mimetype": "text/x-python",
   "name": "python",
   "nbconvert_exporter": "python",
   "pygments_lexer": "ipython3",
   "version": "3.9.6"
  }
 },
 "nbformat": 4,
 "nbformat_minor": 5
}
