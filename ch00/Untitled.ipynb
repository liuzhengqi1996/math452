{
 "cells": [
  {
   "cell_type": "markdown",
   "id": "47bfc899",
   "metadata": {},
   "source": [
    "# Course information, requirements and reference"
   ]
  },
  {
   "cell_type": "markdown",
   "id": "1466af69",
   "metadata": {},
   "source": [
    "## Course Instructor and Assistants\n",
    "- Instructor: Professor Jinchao Xu\n",
    "- Email: xu@math.psu.edu, 497@multigrid.org\n",
    "- Questions and additional office hours: email to 497@multigrid.org\n",
    "- Consultant: Professor Stanley Smith"
   ]
  },
  {
   "cell_type": "markdown",
   "id": "85d4d0a3",
   "metadata": {},
   "source": [
    "## Course Description\n",
    "### Class time (recorded videos):\n",
    "- lectures providing motivations, description and mathematical analysis of deep learning algorithms\n",
    "- hands-on coding exercises for python programming for deep learning algorithms\n",
    "### Detailed course materials and forms:\n",
    "- pre-recorded video lectures\n",
    "- copy of slides\n",
    "- typed lecture notes\n",
    "- live discussions\n",
    "- programming subroutines\n",
    "- theoretical and practical exercises\n",
    "### For interested and qualified students\n",
    "- research opportunities\n",
    " possible RA suppor"
   ]
  },
  {
   "cell_type": "markdown",
   "id": "8307c1e8",
   "metadata": {},
   "source": [
    "## Course Description and Syllabus\n",
    "Main topics include:\n",
    "- Basics of machine learning and probability\n",
    "- Logistic regression and support vector machine\n",
    "- Gradient descent method and training algorithms\n",
    "- Polynomial approximation and Weierstrass theorem\n",
    "- Linear finite element spaces\n",
    "- Deep neural networks and mathematical properties\n",
    "- Convolutional neural networks\n",
    "- Multigrid methods and MgNet\n",
    "- PyTorch and deep learning for image classification\n",
    "- Other applications"
   ]
  },
  {
   "cell_type": "markdown",
   "id": "e5badf04",
   "metadata": {},
   "source": [
    "## Grading Policies\n",
    "- Homework and programing assignments (collecting every week) (40%)\n",
    "- midterm exam (20%)\n",
    "- final projects and exam (40%)"
   ]
  },
  {
   "cell_type": "markdown",
   "id": "ef0f28a1",
   "metadata": {},
   "source": [
    "## Prerequisites, References and Resources\n",
    "### Prerequisites\n",
    "- Linear algebra (MATH 220);\n",
    "- Multi-variable calculus (MATH 230 or 231);\n",
    "- Some programming experiences are helpful.\n",
    "For those who are not familiar with Python, see tutorials in:\n",
    "http://www.personal.psu.edu/jxx1/teaching/onlinecourse2020/index.html\n",
    "- References and resources:\n",
    "Xu J. Deep Neural Networks and Multigrid Methods, (Lecture Notes at Penn State), 2019.\n",
    "Goodfellow I, Bengio Y, Courville A. Deep learning. MIT press, 2016.\n",
    "Friedman J, Hastie T, Tibshirani R. The elements of statistical learning. New York: Springer\n",
    "series in statistics, 2001.\n",
    "CS231n (Stanford): http://cs231n.stanford.edu"
   ]
  },
  {
   "cell_type": "code",
   "execution_count": null,
   "id": "b72c2a8e",
   "metadata": {},
   "outputs": [],
   "source": []
  }
 ],
 "metadata": {
  "kernelspec": {
   "display_name": "Python 3 (ipykernel)",
   "language": "python",
   "name": "python3"
  },
  "language_info": {
   "codemirror_mode": {
    "name": "ipython",
    "version": 3
   },
   "file_extension": ".py",
   "mimetype": "text/x-python",
   "name": "python",
   "nbconvert_exporter": "python",
   "pygments_lexer": "ipython3",
   "version": "3.9.6"
  }
 },
 "nbformat": 4,
 "nbformat_minor": 5
}
