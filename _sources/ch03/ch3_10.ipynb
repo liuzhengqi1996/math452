{
 "cells": [
  {
   "cell_type": "markdown",
   "id": "35e897b8",
   "metadata": {},
   "source": [
    "# 3.10 General Covariance\n",
    "\n",
    "Let $X \\in V$ be a random variable living in an inner product space V\n",
    "with $E\\left[ X\\right] = 0$ Define: The covariance of X is the quadratic\n",
    "form $\\operatorname{Cov}(X): V \\rightarrow R$ defined by\n",
    "$$\\operatorname{Cov}(X)(v)=E\\left[\\langle X, v\\rangle^{2}\\right]$$ If V\n",
    "is finite dimensional and $e_{1}, \\dots, e_{n}$ is an orthonormal matrix\n",
    "then $$\\langle X, v\\rangle=X^{\\top} v=v^{\\top} X$$ and so\n",
    "$$\\operatorname{Cov}(X)(v)=\\mathbb{E}\\left[v^{\\top} X X^{\\top} v\\right]=v^{\\top} \\mathbb{E}\\left[X X^{\\top}\\right] v$$\n",
    "Sometimes, we may define a scalar variance\n",
    "$$\\operatorname{Var}(X)=\\mathbb{E}\\left[\\|X\\|^{2}\\right]=\\operatorname{tr}\\left(\\mathbb{E}\\left[X X^{\\top}\\right]\\right)$$\n",
    "\n",
    "## Whitening\n",
    "\n",
    "Consider transforming the random variable X with a linear transformation\n",
    "matrix A. Then\n",
    "$$Cov(A X)=\\mathbb{E}\\left[AXX^{\\top} A^{\\top}\\right]=A \\mathbb{E}\\left[X X^{\\top}\\right] A^{\\top}=A V A^{T}$$\n",
    "where $V= \\mathbb{E}\\left[X X^{\\top}\\right]$ is the coveriance of $X$.\n",
    "So if we choose A s.t.\n",
    "$$A VA^{\\top}=I \\Leftrightarrow V=A^{-1} A^{-T},$$ then $$Cov(A X)= I,$$\n",
    "so $AX$ is \\\"white noise\\\". Clearly there are many choice for $A$.\n",
    "Namely given an $A$, $OA$ also works for any orthonormal $O$.\n",
    "\n",
    "## Batch Normalization\n",
    "\n",
    "-   Calculating an appropriate A is generally competationally too\n",
    "    expensive. The most efficient way to do it is likely a Cholesky\n",
    "    factorization.\n",
    "\n",
    "-   In BN, we instead choose A diagonal so that\n",
    "    $$\\operatorname{diag}\\left(A \\cup A^{T}\\right)=(1,1, \\ldots, 1)$$\n",
    "\n",
    "-   Of course the off-diagonal entries of $A \\cup A^{T}$ will generally\n",
    "    not be $O$.\n",
    "\n",
    "## Central Limiting Theorem\n",
    "\n",
    "Let $X_{1}, X_{2}, \\ldots, X_{n}$ be independent copies of $X\\in \\Omega$\n",
    "with $E\\left[ X\\right] = 0$. Then $V=E\\left[ XX^T\\right]$. Consider\n",
    "$$\\bar{X}_{n}=\\frac{1}{\\sqrt{n}} \\sum\\limits_{i=1}^{n} X_{i}.$$ As\n",
    "$n\\rightarrow \\infty$, $\\bar{X}_{n}$ converges to a Gaussian\n",
    "distribution, namely,\n",
    "$$\\lim_{n \\rightarrow \\infty} \\bar{X}_{n}= {\\rm Gaussian}(0, V)$$ with\n",
    "distribution\n",
    "$$P(X)=\\frac{1}{(\\sqrt{2 n}\\ {\\rm det}(V))^{d}} e^{\\frac{-x^{T}V^{-1}x}{2}}d x.$$"
   ]
  },
  {
   "cell_type": "code",
   "execution_count": null,
   "id": "4646908a",
   "metadata": {},
   "outputs": [],
   "source": []
  }
 ],
 "metadata": {
  "kernelspec": {
   "display_name": "Python 3 (ipykernel)",
   "language": "python",
   "name": "python3"
  },
  "language_info": {
   "codemirror_mode": {
    "name": "ipython",
    "version": 3
   },
   "file_extension": ".py",
   "mimetype": "text/x-python",
   "name": "python",
   "nbconvert_exporter": "python",
   "pygments_lexer": "ipython3",
   "version": "3.9.6"
  }
 },
 "nbformat": 4,
 "nbformat_minor": 5
}
